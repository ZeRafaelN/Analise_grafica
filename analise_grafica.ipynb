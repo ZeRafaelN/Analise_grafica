{
 "cells": [
  {
   "cell_type": "markdown",
   "metadata": {},
   "source": [
    "# EDA com o dataset ***State of Data Brazil 2021***\n",
    "Let's Code 850 / Python e Dados  \n",
    "Projeto do Módulo IV - Técnicas de Programação II\n",
    "\n",
    "### Equipe\n",
    "* Carolina Sousa Cecilio Vieira\n",
    "* Farley Salomão Filho\n",
    "* José Rafael Souza do Nascimento\n",
    "* Rodrigo Minoru Hayakawa Tanaka"
   ]
  },
  {
   "cell_type": "markdown",
   "metadata": {},
   "source": [
    "## Sobre o dataset\n",
    "***State of Data Brazil*** foi uma iniciativa realizada pela comunidade Data Hackers, com o objetivo de entender o panomara do mercado de trabalho brasileiro na área de dados ([*hotsite*](https://www.stateofdata.com.br/) e [*link* do dataset no Kaggle](https://www.kaggle.com/datasets/datahackers/state-of-data-2021)).\n",
    "A coleta dos dados foi realizada no período de 18 de outubro de 2021 e 6 de dezembro de 2021, por meio de um questionário *online*, reunindo indicadores relacionados a perfil demográfico, formação, atuação no setor, remuneração, rotatividade e fatores de satisfação no ambiente de trabalho, incluindo o impacto do trabalho remoto nas preferências profissionais de 2.645 respondentes de todo o Brasil.\n",
    "\n",
    "\n",
    "O dataset disponibilizado consiste de um arquivo formato .csv com 2645 linhas e 356 colunas. Dessas colunas, algumas se referem às diferentes respostas de uma mesma pergunta, nos casos em que esta admite respostas multi-valoradas.\n",
    "\n",
    "O questionário foi dividido em 9 partes temáticas:\n",
    "* Parte 1 - Dados demográficos\n",
    "* Parte 2 - Dados sobre carreira\n",
    "* Parte 3 - Desafios dos gestores de times de dados\n",
    "* Parte 4 - Conhecimentos na área de dados\n",
    "* Parte 5 - Objetivos na área de dados\n",
    "* Parte 6 - Conhecimentos em Engenharia de Dados/DE\n",
    "* Parte 7 - Conhecimentos em Análise de Dados/DA\n",
    "* Parte 8 - Conhecimentos em Ciências de Dados/DS\n",
    "* Parte 9 - Sobre a comunidade **Data Hackers**"
   ]
  },
  {
   "cell_type": "markdown",
   "metadata": {},
   "source": [
    "### Temas selecionados para este projeto\n",
    "01. Caracterização do profissional de dados (perfil demográfico, idade, gênero, Estado/Região e instrução)\n",
    "02. Caracterização do trabalho do profissional de dados (indústria de atuação, vínculos empregatícios, níveis de senioridade, regime de trabalho, atividades, linguagens de programação)\n",
    "03. Perfil salarial do profissional de dados (faixas salariais e relações com variáveis como profissão, gênero e senioriade)"
   ]
  },
  {
   "cell_type": "markdown",
   "metadata": {},
   "source": [
    "### Observações quanto aos dados utilizados\n",
    "- **Limitações da validação estatística da pesquisa** A coleta de dados foi feita por meio de questionários de internet, sendo que os autores e responsáveis pelo *dataset* não explicitam, seja no *site* ou no [relatório de divulgação da iniciativa](https://www.stateofdata.com.br/_files/ugd/e99c65_97b434ed9f1b40bdb3312fccc8cb8bd7.pdf), maiores esclarecimentos quanto a cuidados de coleta e amostragem que permitam, com algum rigor estatístico, afirmar que o conjunto de respondentes configure uma amostra representiva do mercado de profissionais em estudo. Por esse motivo, neste projeto de EDA, é necessário ressaltar que as observações realizadas na interpretação dos dados se dirigem ao conjunto de respondentes, e como precaução deve-se afastar generalizações a respeito do mercado profissional.\n",
    "- **O *dataset* quase não apresenta variáveis quantitativas** A única variável quantitativa do *dataset* é a idade, dessa forma a dificuldade inicial na elaboração de gráficos de cruzamento de variáveis quantitativas teve de ser superada com a utilização de variáveis categóricas."
   ]
  },
  {
   "cell_type": "markdown",
   "metadata": {},
   "source": [
    "### *Missing values* e tratamentos necessários\n",
    "- **O dataset em geral não apresenta inconsistências nos dados**. Isso reduz a necessidade de limpeza e facilita a manipulação.\n",
    "- **Os nomes das colunas são longos**. No dataset original, os nomes das colunas são compostos de tuplas com dois elementos, o primeiro correspondendo a um código de identificação da coluna e, o segundo, a sua descrição detalhada. Tendo em vista que manipular o data frame com nomes de colunas extensos pode se tornar bastante trabalhoso, é interessante renomear as colunas com apenas o primeiro item da tupla. \n",
    "- **A tabela apresenta muitos `NA` values**. Tais `NA` values são de duas origens principais: (i) itens do questionário os quais o respondente não preencheu deliberadamente ou por engano e (ii) seções do questionário que especificamente não eram de preenchimento do respondente. Nesse segundo quesito, ressalte-se que as Partes 6, 7 e 8 correspondem respectivamente a conhecimentos das áreas de Engenharia de Dados, Análise de Dados e Ciência de Dados, devendo o respondente preencher apenas uma delas. \n",
    "- Principais tratamentos de dados utilizados nesta EDA:\n",
    "    - Exclusão de `NA`s `.dropna()`;\n",
    "    - Substituição de valores `.replace()`;\n",
    "    - Ordenação de variáveis categóricas `pd.Categorical()`;\n",
    "    - Criação de colunas auxiliares no DF original (`.apply()`);\n",
    "    - Geração de tabelas auxiliares de análise (`.pivot_table()` e `.crosstab()`).\n"
   ]
  },
  {
   "cell_type": "code",
   "execution_count": 1,
   "metadata": {},
   "outputs": [],
   "source": [
    "import pandas as pd\n",
    "import numpy as np\n",
    "import matplotlib.pyplot as plt\n",
    "import seaborn as sns\n",
    "import plotly.express as px\n",
    "from itertools import product\n",
    "import plotly.io as pio\n",
    "pio.templates.default = \"plotly\"\n",
    "%matplotlib inline"
   ]
  },
  {
   "cell_type": "code",
   "execution_count": 2,
   "metadata": {},
   "outputs": [
    {
     "name": "stderr",
     "output_type": "stream",
     "text": [
      "<ipython-input-2-6de894b5cf24>:1: DtypeWarning: Columns (47) have mixed types. Specify dtype option on import or set low_memory=False.\n",
      "  df = pd.read_csv('./data/State of Data 2021 - Dataset - Pgina1.csv')\n"
     ]
    }
   ],
   "source": [
    "df = pd.read_csv('./data/State of Data 2021 - Dataset - Pgina1.csv')"
   ]
  },
  {
   "cell_type": "code",
   "execution_count": 3,
   "metadata": {},
   "outputs": [
    {
     "name": "stderr",
     "output_type": "stream",
     "text": [
      "<ipython-input-3-aefc798853ed>:134: SettingWithCopyWarning: \n",
      "A value is trying to be set on a copy of a slice from a DataFrame.\n",
      "Try using .loc[row_indexer,col_indexer] = value instead\n",
      "\n",
      "See the caveats in the documentation: https://pandas.pydata.org/pandas-docs/stable/user_guide/indexing.html#returning-a-view-versus-a-copy\n",
      "  df_atividade_melt_sg[\"variable\"]=df_atividade_melt_sg[\"variable\"].replace({\"('P8_d_a ', 'Coletando e limpando os dados que uso para análise e modelagem.')\": \"Coleta e limpeza de dados\",\n",
      "<ipython-input-3-aefc798853ed>:147: FutureWarning: Dropping of nuisance columns in DataFrame reductions (with 'numeric_only=None') is deprecated; in a future version this will raise TypeError.  Select only valid columns before calling the reduction.\n",
      "  atv = df[colunas_p8_a].sum().reset_index()\n"
     ]
    }
   ],
   "source": [
    "# Tratamento dos dados\n",
    "#Valores Nan em nível de ensino\n",
    "df[\"('P1_h ', 'Nivel de Ensino')\"] = df[\"('P1_h ', 'Nivel de Ensino')\"].replace({'Prefiro não informar': None})\n",
    "#Ajustando coluna de experiência\n",
    "experience = ['Não tenho experiência na área de dados',\n",
    "'Menos de 1 ano',\n",
    "'de 1 a 2 anos',\n",
    "'de 2 a 3 anos',\n",
    "'de 4 a 5 anos',\n",
    "'de 6 a 10 anos',\n",
    "'Mais de 10 anos']\n",
    "df[\"('P2_i ', 'Quanto tempo de experiência na área de dados você tem?')\"] = pd.Categorical(df[\"('P2_i ', 'Quanto tempo de experiência na área de dados você tem?')\"], ordered=True, categories=experience)\n",
    "#Ajustando coluna de faixa salarial\n",
    "df[\"('P2_h ', 'Faixa salarial')\"] = df[\"('P2_h ', 'Faixa salarial')\"].replace({'Menos de R$ 1.000/mês' : \"até R$1k\",\n",
    "                                             'de R$ 1.001/mês a R$ 2.000/mês'  : \"R$1k-2k\",\n",
    "                                             'de R$ 2.001/mês a R$ 3000/mês'   : \"R$2k-3k\",\n",
    "                                             'de R$ 3.001/mês a R$ 4.000/mês'  : \"R$3k-4k\", \n",
    "                                             'de R$ 4.001/mês a R$ 6.000/mês'  : \"R$4k-6k\",\n",
    "                                             'de R$ 6.001/mês a R$ 8.000/mês'  : \"R$6k-8k\",\n",
    "                                             'de R$ 8.001/mês a R$ 12.000/mês' : \"R$8k-12k\",\n",
    "                                             'de R$ 12.001/mês a R$ 16.000/mês' : \"R$12k-16k\",\n",
    "                                             'de R$ 16.001/mês a R$ 20.000/mês' : \"R$16k-20k\",\n",
    "                                             'de R$ 20.001/mês a R$ 25.000/mês' : \"R$20k-25k\",\n",
    "                                             'de R$ 25.001/mês a R$ 30.000/mês' : \"R$25k-30k\",\n",
    "                                             'de R$ 30.001/mês a R$ 40.000/mês' : \"R$30k-40k\",\n",
    "                                             'Acima de R$ 40.001/mês' : \"R$40k+\"                                      \n",
    "                                                    })\n",
    "salary_range = [\"até R$1k\",\n",
    "                     \"R$1k-2k\",\n",
    "                     \"R$2k-3k\",\n",
    "                     \"R$3k-4k\", \n",
    "                     \"R$4k-6k\",\n",
    "                     \"R$6k-8k\",\n",
    "                     \"R$8k-12k\",\n",
    "                     \"R$12k-16k\",\n",
    "                     \"R$16k-20k\",\n",
    "                     \"R$20k-25k\",\n",
    "                     \"R$25k-30k\",\n",
    "                     \"R$30k-40k\",\n",
    "                     \"R$40k+\"]\n",
    "df[\"('P2_h ', 'Faixa salarial')\"] = pd.Categorical(df[\"('P2_h ', 'Faixa salarial')\"], ordered=True, categories=salary_range)\n",
    "# Atualizando a variável  \"('P2_g ', 'Nivel')\" da seguinte forma\n",
    "# Quando a pessoa respondeu que é gestor \"('P2_d ', 'Gestor?')\" e não respondeu a pergunta \"('P2_g ', 'Nivel')\", \n",
    "# assume-se que o nível é \"Gestor\"\n",
    "\n",
    "df.loc[(df[\"('P2_d ', 'Gestor?')\"] == 1) & (df[\"('P2_g ', 'Nivel')\"].isna()), \"('P2_g ', 'Nivel')\"] = 'Gestor'\n",
    "\n",
    "#vinculo Empregatício\n",
    "df[\"Vínculo Empregatício\"]=df[\"('P2_a ', 'Qual sua situação atual de trabalho?')\"].replace({\n",
    "    'Somente Estudante (graduação)': 'Acadêmica/Pesquisador',\n",
    "    'Desempregado, buscando recolocação': \"Desempregado\",\n",
    "    'Somente Estudante (pós-graduação)': 'Acadêmica/Pesquisador',\n",
    "    'Trabalho na área Acadêmica/Pesquisador':'Acadêmica/Pesquisador',\n",
    "    'Desempregado e não estou buscando recolocação': \"Desempregado\",\n",
    "    'Vivo no Brasil e trabalho remoto para empresa de fora do Brasil (PJ)': \"Trabalho fora do Brasil\",\n",
    "    'Vivo fora do Brasil e trabalho para empresa de fora do Brasil': \"Trabalho fora do Brasil\",\n",
    "    #'Empregado (CLT)', \n",
    "    #'Empreendedor ou Empregado (CNPJ)',\n",
    "    #'Servidor Público', \n",
    "    #'Estagiário', \n",
    "    #'Freelancer',\n",
    "    'Prefiro não informar':None\n",
    "})\n",
    "df['Vínculo Empregatício'] = [a if b!=\"Gerente/Head/Diretor/VP\" else b if a ==\"Empreendedor ou Empregado (CNPJ)\" else a for a,b in zip(df['Vínculo Empregatício'], df[\"('P2_e ', 'Cargo como Gestor')\"])]\n",
    "df['Vínculo Empregatício'] = df['Vínculo Empregatício'].replace({'Gerente/Head/Diretor/VP':'Empreendedor (CNPJ)','Empreendedor ou Empregado (CNPJ)':'Empregado (CNPJ)'})\n",
    "\n",
    "#modelo\n",
    "df.replace({\"Modelo híbrido flexível (o funcionário tem liberdade para escolher quando estar no escritório presencialmente)\": \"Híbrido flexível\",\n",
    "            \"Modelo híbrido com dias fixos de trabalho presencial\": \"Híbrido presenciais fixos\",\n",
    "            \"Modelo 100% remoto\": \"Remoto\", \n",
    "            \"Modelo 100% presencial\": \"Presencial\",\n",
    "       },inplace=True)\n",
    "\n",
    "#ajuste na resposta, coluna linguagens utilizadas\n",
    "df[\"('P4_e ', 'Entre as linguagens listadas abaixo, qual é a que você mais utiliza no trabalho?')\"] = df[\"('P4_e ', 'Entre as linguagens listadas abaixo, qual é a que você mais utiliza no trabalho?')\"].replace({\"Não utilizo nenhuma das linguagens listadas\":\"Nem uma das opções listadas\"})\n",
    "\n",
    "#Ajustes nos nomes dos cargos\n",
    "df[\"('P2_f ', 'Cargo Atual')\"] = df[\"('P2_f ', 'Cargo Atual')\"].replace({ \n",
    "    \"Cientista de Dados/Data Scientist\"                       : \"Cientista de Dados\"\n",
    "  , \"Analista de BI/BI Analyst/Analytics Engineer\"            : \"Analista de BI\"\n",
    "  , \"Analista de Dados/Data Analyst\"                          : \"Analista de Dados\"\n",
    "  , \"Engenheiro de Dados/Data Engineer\"                       : \"Engenheiro de Dados\"\n",
    "  , \"Outro\"                                                   : \"Outro\"\n",
    "  , \"Analista de Negócios/Business Analyst\"                   : \"Analista de Negócios\"\n",
    "  , \"Desenvolvedor ou Engenheiro de Software\"                 : \"Dev ou Engenheiro de Software\"\n",
    "  , \"Engenheiro de Machine Learning/ML Engineer\"              : \"Engenheiro de Machine Learning\"\n",
    "  , \"Outras Engenharias (não inclui dev)\"                     : \"Outras Engenharias (não inclui dev)\"\n",
    "  , \"Estatístico\"                                             : \"Estatístico\"\n",
    "  , \"Analista Administrativo\"                                 : \"Analista Administrativo\"\n",
    "  , \"Analista de Inteligência de Mercado/Market Intelligence\" : \"Analista de Inteligência de Mercado\"\n",
    "  , \"DBA/Administrador de Banco de Dados\"                     : \"Administrador de Banco de Dados\"\n",
    "  , \"Analista de Sistemas/Analista de TI\"                     : \"Analista de Sistemas\"\n",
    "  , \"Analista de Marketing\"                                   : \"Analista de Marketing\"\n",
    "  , \"Técnico\"                                                 : \"Técnico\"\n",
    "  , \"Suporte Técnico\"                                         : \"Suporte Técnico\"\n",
    "  , \"Professor\"                                               : \"Professor\"\n",
    "  , \"Arquiteto de Dados\"                                      : \"Arquiteto de Dados\"\n",
    "  , \"Product Manager\"                                         : \"Product Manager\"\n",
    "  , \"Arquiteto de dados\"                                      : \"Arquiteto de Dados\" })\n",
    "\n",
    "#tratamento variável ensino\n",
    "df[\"('P1_h ', 'Nivel de Ensino')\"] = df[\"('P1_h ', 'Nivel de Ensino')\"].replace({\"Não tenho graduação formal\":\"Sem Graduação\"})\n",
    "\n",
    "###\n",
    "engenheiro=\"('P6_a ', 'Quais das opções abaixo fazem parte da sua rotina no trabalho atual como engenheiro de dados?')\"\n",
    "analista=\"('P7_a ', 'Quais das opções abaixo fazem parte da sua rotina no trabalho atual com análise de dados?')\"\n",
    "cientista=\"('P8_a ', 'Quais das opções abaixo fazem parte da sua rotina no trabalho atual com ciência de dados?')\"\n",
    "\n",
    "df[engenheiro].fillna(np.nan,inplace=True)\n",
    "df[analista].fillna(np.nan,inplace=True)\n",
    "df[cientista].fillna(np.nan,inplace=True)\n",
    "df['profissao'] = [\"Engenheiro Dados\" if str(a)!=\"nan\" else \"Analista Dados\" if str(b) !=\"nan\" else \"Cientista Dados\" if str(c)!=\"nan\" else np.nan for a,b,c in zip(df[engenheiro], df[analista],df[cientista])]\n",
    "\n",
    "\n",
    "tamanho=df.groupby(\"Vínculo Empregatício\")[\"('P1_a ', 'Idade')\"].value_counts()\n",
    "tamanho=pd.DataFrame(tamanho)\n",
    "tamanho.rename(columns={\"('P1_a ', 'Idade')\": \"Tamanho\"},inplace=True)\n",
    "tamanho.reset_index(inplace=True)\n",
    "\n",
    "df[\"('P2_r ', 'Qual a forma de trabalho ideal para você?')\"].replace({np.nan:\"ignore\"},inplace=True)\n",
    "\n",
    "prof_lang_cross = pd.crosstab(df[\"('P4_e ', 'Entre as linguagens listadas abaixo, qual é a que você mais utiliza no trabalho?')\"],df['profissao'],normalize='columns')*100\n",
    "prof_lang_cross = prof_lang_cross.reset_index()\n",
    "prof_lang_cross_melt = prof_lang_cross.melt(id_vars=\"('P4_e ', 'Entre as linguagens listadas abaixo, qual é a que você mais utiliza no trabalho?')\")\n",
    "prof_lang_cross_melt[\"linguagens\"] = prof_lang_cross_melt[\"('P4_e ', 'Entre as linguagens listadas abaixo, qual é a que você mais utiliza no trabalho?')\"].replace({'Matlab':'Outros', '.NET':'Outros', 'PHP':'Outros'})\n",
    "\n",
    "# ad_hoc=\"Estudos Ad-hoc com o objetivo de confirmar hipóteses, realizar modelos preditivos, forecasts, análise de cluster para resolver problemas pontuais e responder perguntas das áreas de negócio.\"\n",
    "# df[\"AdHoc\"]=[1 if ad_hoc in str(a) else 0 for a in df[\"(\\'P8_d \\', \\'Em qual das opções abaixo você gasta a maior parte do seu tempo no trabalho?\\')\"]]\n",
    "# colunas_p8 =[\"AdHoc\"]+[x for x in df.columns if \"('P8_d_\" in x] +[\"('P2_g ', 'Nivel')\"]\n",
    "colunas_p8 =[x for x in df.columns if \"('P8_d_\" in x] +[\"('P2_g ', 'Nivel')\"]\n",
    "df_atividades =  df[colunas_p8].groupby(\"('P2_g ', 'Nivel')\").sum().reset_index()\n",
    "df_atividade_melt = df_atividades.melt(id_vars=\"('P2_g ', 'Nivel')\")\n",
    "df_atividade_melt_sg = df_atividade_melt[df_atividade_melt[\"('P2_g ', 'Nivel')\"] != 'Gestor']\n",
    "df_atividade_melt_sg[\"variable\"]=df_atividade_melt_sg[\"variable\"].replace({\"('P8_d_a ', 'Coletando e limpando os dados que uso para análise e modelagem.')\": \"Coleta e limpeza de dados\",\n",
    "\"('P8_d_b ', 'Entrando em contato com os times de negócio para definição do problema, identificar a solução e apresentação de resultados.')\": \"Contato com os times de negócio\",\n",
    "\"('P8_d_c ', 'Desenvolvendo modelos de Machine Learning com o objetivo de colocar em produção em sistemas (produtos de dados).')\": \"Desenvolvimento de modelos de ML\",\n",
    "\"('P8_d_d ', 'Colocando modelos em produção, criando os pipelines de dados, APIs de consumo e monitoramento.')\": \"Colocação de modelos em produção, criação de pipelines de dados\",\n",
    "\"('P8_d_e ', 'Cuidando da manutenção de modelos de Machine Learning já em produção, atuando no monitoramento, ajustes e refatoração quando necessário.')\": \"Manutenção de modelos de ML\",\n",
    "\"('P8_d_f ', 'Realizando construções de dashboards em ferramentas de BI como PowerBI, Tableau, Looker, Qlik, etc.')\": \"Construção de dashboards / ferramentas de BI\",\n",
    "\"('P8_d_g ', 'Criando e dando manutenção em ETLs, DAGs e automações de pipelines de dados.')\": \"Manutenção em ETLs, DAGs e automações\",\n",
    "\"('P8_d_h ', 'Criando e gerenciando soluções de Feature Store e cultura de MLOps.')\": \"Soluções de Feature Store, Cultura MLOps\",\n",
    "\"('P8_d_i ', 'Criando e mantendo a infra que meus modelos e soluções rodam (clusters, servidores, API, containers, etc.)')\": \"Infra: clusters, servidores, API, containers\",\n",
    "\"AdHoc\": \"Ad-hoc de confirmação hipóteses, modelos preditivos e responder áreas de negócio\"})\n",
    "\n",
    "colunas_p8_a =[x for x in df.columns if \"('P8_a_\" in x] + [\"('P2_g ', 'Nivel')\"]\n",
    "df_atividades_b = df[colunas_p8_a].groupby(\"('P2_g ', 'Nivel')\").sum().reset_index()\n",
    "atv = df[colunas_p8_a].sum().reset_index()\n",
    "dict_replace_atv = {\"('P8_a_a ', 'Estudos Ad-hoc com o objetivo de confirmar hipóteses, realizar modelos preditivos, forecasts, análise de cluster para resolver problemas pontuais e responder perguntas das áreas de negócio.')\":\"Estudos Ad-hoc com o objetivo de confirmar hipóteses, realizar modelos preditivos, forecasts, análise de cluster para resolver problemas pontuais e responder perguntas das áreas de negócio.\",\n",
    "       \"('P8_a_b ', 'Sou responsável pela coleta e limpeza dos dados que uso para análise e modelagem.')\":\"Sou responsável pela coleta e limpeza dos dados que uso para análise e modelagem.\",\n",
    "       \"('P8_a_c ', 'Sou responsável por entrar em contato com os times de negócio para definição do problema, identificar a solução e apresentação de resultados.')\":\"Sou responsável por entrar em contato com os times de negócio para definição do problema, identificar a solução e apresentação de resultados.\",\n",
    "       \"('P8_a_d ', 'Desenvolvo modelos de Machine Learning com o objetivo de colocar em produção em sistemas (produtos de dados).')\":\"Desenvolvo modelos de Machine Learning com o objetivo de colocar em produção em sistemas (produtos de dados).\",\n",
    "       \"('P8_a_e ', 'Sou responsável por colocar modelos em produção, criar os pipelines de dados, APIs de consumo e monitoramento.')\":\"Sou responsável por colocar modelos em produção, criar os pipelines de dados, APIs de consumo e monitoramento.\",\n",
    "       \"('P8_a_f ', 'Cuido da manutenção de modelos de Machine Learning já em produção, atuando no monitoramento, ajustes e refatoração quando necessário.')\":\"Cuido da manutenção de modelos de Machine Learning já em produção, atuando no monitoramento, ajustes e refatoração quando necessário.\",\n",
    "       \"('P8_a_g ', 'Realizo construções de dashboards em ferramentas de BI como PowerBI, Tableau, Looker, Qlik, etc')\":\"Realizo construções de dashboards em ferramentas de BI como PowerBI, Tableau, Looker, Qlik, etc')\",\n",
    "       \"('P8_a_h ', 'Utilizo ferramentas avançadas de estatística como SAS, SPSS, Stata etc, para realizar análises estatísticas e ajustar modelos.Crio e dou manutenção em ETLs, DAGs e automações de pipelines de dados.')\":\"Utilizo ferramentas avançadas de estatística como SAS, SPSS, Stata etc, para realizar análises estatísticas e ajustar modelos.Crio e dou manutenção em ETLs, DAGs e automações de pipelines de dados.\",\n",
    "       \"('P8_a_j ', 'Sou responsável por criar e manter a infra que meus modelos e soluções rodam (clusters, servidores, API, containers, etc.)')\":\"Sou responsável por criar e manter a infra que meus modelos e soluções rodam (clusters, servidores, API, containers, etc.\"}\n",
    "atv['index']=atv['index'].replace(dict_replace_atv)\n",
    "atv['x'] = 'x'\n",
    "\n",
    "# Parte 3\n",
    "prof_sal_cross = pd.crosstab(df[\"('P2_h ', 'Faixa salarial')\"],df['profissao'],normalize='columns')*100\n",
    "prof_sal_cross = prof_sal_cross.reset_index()\n",
    "prof_sal_cross_melt = prof_sal_cross.melt(id_vars=\"('P2_h ', 'Faixa salarial')\")\n",
    "prof_sal_cross_melt[\"salario\"] = prof_sal_cross_melt[\"('P2_h ', 'Faixa salarial')\"].replace({'até R$1k':' < R$2k', 'R$1k-2k':' < R$2k', 'R$25k-30k': 'R$20k+', 'R$40k+':'R$20k+',  'R$30k-40k':'R$20k+', 'R$20k-25k':'R$20k+'})\n",
    "\n",
    "salary_range = [' < R$2k',\n",
    "                     \"R$2k-3k\",\n",
    "                     \"R$3k-4k\", \n",
    "                     \"R$4k-6k\",\n",
    "                     \"R$6k-8k\",\n",
    "                     \"R$8k-12k\",\n",
    "                     \"R$12k-16k\",\n",
    "                     \"R$16k-20k\",\n",
    "                    'R$20k+'\n",
    "]\n",
    "prof_sal_cross_melt[\"salario\"] = pd.Categorical(prof_sal_cross_melt[\"salario\"], ordered=True, categories=salary_range)"
   ]
  },
  {
   "cell_type": "markdown",
   "metadata": {},
   "source": [
    "## Parte 1: Caracterização demográfica dos respondentes\n",
    "Nesta primeira parte da EDA, vamos caracterizar aspectos demográficos dos respondentes do questionários.\n",
    "Algumas das perguntas que queremos responder são:\n",
    "- Como é a distribuição das idades dos profissionais?\n",
    "- Como é essa distribuição de idades em função do gênero?\n",
    "- Como é a distribuição dos estados de origem dos profissionais?\n",
    "- Quais são e como se distribuem as diferentes formações dos profissionais?"
   ]
  },
  {
   "cell_type": "markdown",
   "metadata": {},
   "source": [
    "### Perfil mais comum entre profissionais respondentes é homem e jovem\n",
    "\n",
    "Homens compõem a imensa maioria dos respondentes do questionário. Conforme se observa no gráfico de pizza, 81,1% do conjunto de respondentes se declaram como do gênero masculino, 18,6% do feminino e 0,3% se identificam como outros gêneros.\n",
    "\n",
    "Os respondentes são da faixa etária jovem, com alguma diferença na distribuição entre homens e mulheres.  \n",
    "A mediana do conjunto geral de profissionais é 30 anos e metade dos respondentes possui entre 26 e 35 anos (intervalo interquartil).  \n",
    "A análise do histograma de idades demonstra uma distribuição assimétrica (cauda à direita), com média maior do que a mediana. É possível observar duas idades modais em 26 e 28 anos, porém a leitura do gráfico em geral indica tratar-se de apenas um pico etário (unimodal).  \n",
    "Essa distribuição das idades difere ligeiramente entre homens e mulheres. No grupo de homens, a mediana é 30, no de mulheres é 29.  \n",
    "A amplitude interquartil dos homens é maior do que a das mulheres. Ambos os gêneros têm Q1 em 26, e o Q3 das mulheres é 34, enquanto o dos homens é 36.  \n",
    "A distribuição dos profissionais que se identificam com outros gêneros indica um grupo de características distintas dos homens e das mullheres, sendo notadamente mais jovem, com mediana de 28 anos e intervalo interquartil de 21 a 30 anos."
   ]
  },
  {
   "cell_type": "code",
   "execution_count": 4,
   "metadata": {},
   "outputs": [],
   "source": [
    "#função para plotar gráfico de pizza\n",
    "def pie_chart(df, coluna, titulo):\n",
    "    df_valores = df[coluna].value_counts().reset_index()\n",
    "    \n",
    "    fig1, ax1 = plt.subplots()\n",
    "\n",
    "    labels = df_valores.iloc[:,0]\n",
    "    valores = df_valores.iloc[:,1]\n",
    "\n",
    "    ax1.pie(valores, autopct='%1.1f%%', pctdistance=1.15, textprops={'fontsize': 11})\n",
    "    plt.legend(labels, loc='center')\n",
    "    plt.title(titulo)\n",
    "    centre_circle = plt.Circle((0,0),0.75,fc='white')\n",
    "    fig = plt.gcf()\n",
    "    fig.gca().add_artist(centre_circle)\n",
    "\n",
    "    ax1.axis('equal')  \n",
    "    plt.tight_layout()\n",
    "    plt.show();"
   ]
  },
  {
   "cell_type": "code",
   "execution_count": 5,
   "metadata": {},
   "outputs": [
    {
     "data": {
      "image/png": "[encoded data removed]",
      "text/plain": [
       "<Figure size 432x288 with 1 Axes>"
      ]
     },
     "metadata": {},
     "output_type": "display_data"
    }
   ],
   "source": [
    "pie_chart(df, \"('P1_b ', 'Genero')\", \"Gênero dos respondentes\")\n"
   ]
  },
  {
   "cell_type": "code",
   "execution_count": 6,
   "metadata": {},
   "outputs": [
    {
     "data": {
      "image/png": "[encoded data removed]",
      "text/plain": [
       "<Figure size 864x432 with 1 Axes>"
      ]
     },
     "metadata": {
      "needs_background": "light"
     },
     "output_type": "display_data"
    }
   ],
   "source": [
    "df[\"('P1_a ', 'Idade')\"].plot(kind='box', figsize=(12,6), vert=False)\n",
    "plt.title(\"Boxplot de idade dos respondentes\")\n",
    "plt.xlabel(\"Idade\")\n",
    "ax = plt.subplot()\n",
    "ax.set_yticklabels('')\n",
    "plt.show()"
   ]
  },
  {
   "cell_type": "code",
   "execution_count": 7,
   "metadata": {},
   "outputs": [
    {
     "data": {
      "image/png": "[encoded data removed]",
      "text/plain": [
       "<Figure size 1296x432 with 1 Axes>"
      ]
     },
     "metadata": {
      "needs_background": "light"
     },
     "output_type": "display_data"
    }
   ],
   "source": [
    "df_idade = df[\"('P1_a ', 'Idade')\"].dropna().astype('int').reset_index()\n",
    "fig = plt.figure(figsize=(18,6))\n",
    "ax = sns.countplot(data=df_idade, x=\"('P1_a ', 'Idade')\", palette='turbo')\n",
    "ax.bar_label(ax.containers[0])\n",
    "ax.set(xlabel=\"Idade\",ylabel=\"Contagem\")\n",
    "ax.set_title('Distribuição dos respondentes por idade', fontsize=13);"
   ]
  },
  {
   "cell_type": "code",
   "execution_count": 8,
   "metadata": {},
   "outputs": [
    {
     "data": {
      "image/png": "[encoded data removed]",
      "text/plain": [
       "<Figure size 1296x432 with 1 Axes>"
      ]
     },
     "metadata": {
      "needs_background": "light"
     },
     "output_type": "display_data"
    }
   ],
   "source": [
    "from matplotlib.pyplot import legend\n",
    "\n",
    "fig = plt.figure(figsize=(18,6))\n",
    "ax = sns.boxplot(data=df, x=\"('P1_a ', 'Idade')\", y=\"('P1_b ', 'Genero')\", hue=\"('P1_b ', 'Genero')\", palette=['blue','red','green'], orient='h')\n",
    "ax.set(xlabel=\"\",ylabel=\"\",title='Boxplot Idade por Gênero')\n",
    "plt.legend([],[], frameon=False);"
   ]
  },
  {
   "cell_type": "markdown",
   "metadata": {},
   "source": [
    "### Concentração de profissionais no Estado de São Paulo e na Região Sudeste\n",
    "\n",
    "O Estado de São Paulo é o que apresenta a maior quantidade de respondentes (41,24%) seguido por Minas Gerais (13,07%) e Rio de Janeiro (8,51%). Além desses três estados, apenas Paraná (5,71%) e Rio Grande do Sul (5,21%) atingem participação superior a 5%.  \n",
    "A Região Sudeste é a região que mais concentra profissionais (63,2%), seguido por Sul (15,1%), Nordeste (11,4%), Centro-Oeste (7,0%) e Norte (1,4%). Os profissionais atuantes no exterior somam 2,0%."
   ]
  },
  {
   "cell_type": "code",
   "execution_count": 9,
   "metadata": {},
   "outputs": [
    {
     "data": {
      "image/png": "[encoded data removed]",
      "text/plain": [
       "<Figure size 1296x432 with 1 Axes>"
      ]
     },
     "metadata": {
      "needs_background": "light"
     },
     "output_type": "display_data"
    }
   ],
   "source": [
    "fig = plt.figure(figsize=(18,6))\n",
    "ax = sns.countplot(data=df, x=\"('P1_e_a ', 'uf onde mora')\", palette='turbo', order = df[\"('P1_e_a ', 'uf onde mora')\"].value_counts().index)\n",
    "ax.bar_label(ax.containers[0])\n",
    "ax.set(xlabel=\"\",ylabel=\"Contagem\")\n",
    "ax.set_title('Distribuição dos respondentes por Estado', fontsize=13)\n",
    "\n",
    "patches = ax.patches\n",
    "percentage = df[\"('P1_e_a ', 'uf onde mora')\"].value_counts()/df[\"('P1_e_a ', 'uf onde mora')\"].value_counts().sum()*100\n",
    "for i in range(len(patches)):\n",
    "   x = patches[i].get_x() + patches[i].get_width()/2\n",
    "   y = patches[i].get_height()-50\n",
    "   ax.annotate('{:.2f}%'.format(percentage[i]), (x, y), ha='center')\n",
    "\n",
    "plt.show();"
   ]
  },
  {
   "cell_type": "code",
   "execution_count": 10,
   "metadata": {},
   "outputs": [
    {
     "data": {
      "image/png": "[encoded data removed]",
      "text/plain": [
       "<Figure size 432x288 with 1 Axes>"
      ]
     },
     "metadata": {},
     "output_type": "display_data"
    }
   ],
   "source": [
    "pie_chart(df, \"('P1_e_b ', 'Regiao onde mora')\", \"Regiões dos respondentes\");"
   ]
  },
  {
   "cell_type": "code",
   "execution_count": 11,
   "metadata": {},
   "outputs": [
    {
     "data": {
      "image/png": "[encoded data removed]",
      "text/plain": [
       "<Figure size 432x288 with 1 Axes>"
      ]
     },
     "metadata": {},
     "output_type": "display_data"
    }
   ],
   "source": [
    "pie_chart(df, \"('P1_h ', 'Nivel de Ensino')\", \"Grau de instrução dos respondentes\");"
   ]
  },
  {
   "cell_type": "code",
   "execution_count": 12,
   "metadata": {},
   "outputs": [
    {
     "data": {
      "image/png": "[encoded data removed]",
      "text/plain": [
       "<Figure size 1296x432 with 1 Axes>"
      ]
     },
     "metadata": {
      "needs_background": "light"
     },
     "output_type": "display_data"
    }
   ],
   "source": [
    "fig = plt.figure(figsize=(18,6))\n",
    "ax = sns.countplot(data=df, y=\"('P1_i ', 'Área de Formação')\", palette='turbo', order = df[\"('P1_i ', 'Área de Formação')\"].value_counts().index)\n",
    "ax.bar_label(ax.containers[0])\n",
    "ax.set(xlabel=\"Contagem\",ylabel=\"\")\n",
    "ax.set_yticklabels(df[\"('P1_i ', 'Área de Formação')\"].value_counts().index, size = 12)\n",
    "ax.set_title('Distribuição dos respondentes por área de formação', fontsize=13)\n",
    "\n",
    "patches = ax.patches\n",
    "percentage = df[\"('P1_i ', 'Área de Formação')\"].value_counts()/df[\"('P1_i ', 'Área de Formação')\"].value_counts().sum()*100\n",
    "for i in range(len(patches)):\n",
    "   x = patches[i].get_x() + patches[i].get_width() / 2 - 0.05\n",
    "   y = patches[i].get_y() + patches[i].get_height() - 0.25\n",
    "   ax.annotate('{:.2f}%'.format(percentage[i]), (x, y), ha='center')\n",
    "\n",
    "plt.show();"
   ]
  },
  {
   "cell_type": "markdown",
   "metadata": {},
   "source": [
    "## Parte 2: Perfil profissional dos respondentes\n",
    "Nesta segunda parte da EDA, vamos caracterizar aspectos profissionais dos respondentes do questionário.\n",
    "Algumas das perguntas que queremos responder são:\n",
    "- Para quais indústrias os profissionais trabalham?\n",
    "- Quais os vínculos empregatícios dos profissionais?\n",
    "- Quais os cargos e níveis de senioridade desses profissionais?\n",
    "- Em qual modelo de trabalho (presencial, remoto) esses profissionais atuam e qual dos modelos consideram o ideal?\n",
    "- Quais as linguagens de programação mais utilizadas pelos profissionais?\n",
    "- Quais as atividades mais comuns exercidas na rotina desses profissionais?"
   ]
  },
  {
   "cell_type": "markdown",
   "metadata": {},
   "source": [
    "A maioria dos respondentes trabalha no setor de tecnologia e desenvolvimento de software (27,10%).  \n",
    "Seguido pelo setor financeiro/bancário (16,41%).  \n",
    "Os demais setores apresentaram percentual de participação menor do que 6%."
   ]
  },
  {
   "cell_type": "code",
   "execution_count": 13,
   "metadata": {},
   "outputs": [
    {
     "data": {
      "image/png": "[encoded data removed]",
      "text/plain": [
       "<Figure size 1296x720 with 1 Axes>"
      ]
     },
     "metadata": {
      "needs_background": "light"
     },
     "output_type": "display_data"
    }
   ],
   "source": [
    "fig = plt.figure(figsize=(18,10))\n",
    "ax = sns.countplot(data=df, y=\"('P2_b ', 'Setor')\", palette='turbo', order = df[\"('P2_b ', 'Setor')\"].value_counts().index, orient='h')\n",
    "ax.bar_label(ax.containers[0])\n",
    "ax.set(ylabel=\"\",xlabel=\"Contagem\")\n",
    "ax.set_title('Distribuição dos respondentes por setor de trabalho', fontsize=13)\n",
    "ax.set_yticklabels(df[\"('P2_b ', 'Setor')\"].value_counts().index, size = 12)\n",
    "\n",
    "patches = ax.patches\n",
    "percentage = df[\"('P2_b ', 'Setor')\"].value_counts()/df[\"('P2_b ', 'Setor')\"].value_counts().sum()*100\n",
    "for i in range(len(patches)-5):\n",
    "   x = patches[i].get_x() + patches[i].get_width() / 2 - 0.05\n",
    "   y = patches[i].get_y() + patches[i].get_height() - 0.25\n",
    "   ax.annotate('{:.2f}%'.format(percentage[i]), (x, y), ha='center')\n",
    "\n",
    "plt.show();"
   ]
  },
  {
   "cell_type": "markdown",
   "metadata": {},
   "source": [
    "O regime CLT é o mais comum entre os vínculos empregatícios dos profissionais.  \n",
    "Interessante notar a grande diferença de participação dos profissionais do regime CLT (65,85%) para os demais.  \n",
    "O regime com a segunda maior participação, empregados CNPJ, responde apenas com 8,61%."
   ]
  },
  {
   "cell_type": "code",
   "execution_count": 14,
   "metadata": {},
   "outputs": [
    {
     "data": {
      "image/png": "[encoded data removed]",
      "text/plain": [
       "<Figure size 1296x504 with 1 Axes>"
      ]
     },
     "metadata": {
      "needs_background": "light"
     },
     "output_type": "display_data"
    }
   ],
   "source": [
    "fig = plt.figure(figsize=(18,7))\n",
    "ax = sns.countplot(data=df, y=\"Vínculo Empregatício\", palette='turbo', order = df[\"Vínculo Empregatício\"].value_counts().index)\n",
    "ax.bar_label(ax.containers[0])\n",
    "ax.set(xlabel=\"Contagem\",ylabel=\"\")\n",
    "ax.set_yticklabels(df[\"Vínculo Empregatício\"].value_counts().index, size = 12)\n",
    "ax.set_title('Distribuição dos respondentes por vínculo empregatício', fontsize=13)\n",
    "\n",
    "patches = ax.patches\n",
    "percentage = df[\"Vínculo Empregatício\"].value_counts()/df[\"Vínculo Empregatício\"].value_counts().sum()*100\n",
    "for i in range(len(patches)-2):\n",
    "   x = patches[i].get_x() + patches[i].get_width() / 2 - 0.05\n",
    "   y = patches[i].get_y() + patches[i].get_height() - 0.25\n",
    "   ax.annotate('{:.2f}%'.format(percentage[i]), (x, y), ha='center')\n",
    "\n",
    "plt.show();"
   ]
  },
  {
   "cell_type": "markdown",
   "metadata": {},
   "source": [
    "Essa alta concentração de profissionais CLT fica evidente no gráfico de scatter abaixo.  \n",
    "Observando o boxplot de idade por vínculo empregatício, temos que todas as categorias apresentam mediana inferior a 40 anos.  \n",
    "Estagiários são o grupo de profissionais mais jovens.  \n",
    "Acadêmicos/pesquisadores e desempregados são grupos de faixa etária mais elevada, sendo a mediana dos desempregados a mais alta entre todas as categorias (38 anos)."
   ]
  },
  {
   "cell_type": "code",
   "execution_count": 15,
   "metadata": {},
   "outputs": [
    {
     "data": {
      "application/vnd.plotly.v1+json": {
       "config": {
        "plotlyServerURL": "https://plot.ly"
       },
       "data": [
        {
         "hovertemplate": "Idade=%{x}<br>Vínculo Empregatício=%{y}<br>Quantidade=%{marker.color}<extra></extra>",
         "legendgroup": "",
         "marker": {
          "color": [
           17,
           16,
           9,
           9,
           8,
           8,
           6,
           6,
           6,
           4,
           4,
           4,
           4,
           4,
           4,
           4,
           3,
           3,
           3,
           3,
           2,
           2,
           2,
           2,
           2,
           1,
           1,
           1,
           1,
           1,
           11,
           10,
           9,
           9,
           8,
           8,
           8,
           7,
           7,
           7,
           6,
           5,
           5,
           5,
           4,
           4,
           3,
           3,
           3,
           2,
           2,
           2,
           2,
           1,
           1,
           1,
           1,
           1,
           1,
           4,
           4,
           3,
           3,
           3,
           3,
           3,
           3,
           2,
           2,
           2,
           2,
           2,
           1,
           1,
           1,
           1,
           1,
           1,
           1,
           1,
           127,
           126,
           124,
           120,
           114,
           114,
           102,
           96,
           82,
           81,
           76,
           66,
           65,
           64,
           40,
           38,
           35,
           32,
           28,
           23,
           22,
           20,
           19,
           18,
           15,
           13,
           12,
           11,
           10,
           8,
           7,
           6,
           5,
           5,
           2,
           1,
           1,
           17,
           16,
           16,
           16,
           14,
           11,
           11,
           9,
           9,
           9,
           8,
           8,
           8,
           6,
           6,
           6,
           6,
           6,
           5,
           5,
           4,
           4,
           4,
           4,
           3,
           2,
           2,
           2,
           1,
           1,
           1,
           1,
           1,
           25,
           20,
           19,
           13,
           13,
           8,
           7,
           5,
           4,
           4,
           3,
           1,
           1,
           1,
           1,
           1,
           1,
           3,
           2,
           2,
           2,
           2,
           2,
           2,
           1,
           1,
           1,
           1,
           1,
           1,
           1,
           1,
           1,
           1,
           1,
           1,
           8,
           8,
           8,
           7,
           7,
           5,
           5,
           5,
           5,
           4,
           4,
           4,
           3,
           3,
           3,
           3,
           3,
           3,
           2,
           2,
           2,
           2,
           2,
           2,
           1,
           1,
           1,
           1,
           1,
           1,
           1,
           11,
           8,
           7,
           6,
           6,
           5,
           4,
           4,
           3,
           3,
           3,
           3,
           3,
           2,
           2,
           2,
           2,
           1,
           1,
           1,
           1,
           1
          ],
          "coloraxis": "coloraxis",
          "size": [
           17,
           16,
           9,
           9,
           8,
           8,
           6,
           6,
           6,
           4,
           4,
           4,
           4,
           4,
           4,
           4,
           3,
           3,
           3,
           3,
           2,
           2,
           2,
           2,
           2,
           1,
           1,
           1,
           1,
           1,
           11,
           10,
           9,
           9,
           8,
           8,
           8,
           7,
           7,
           7,
           6,
           5,
           5,
           5,
           4,
           4,
           3,
           3,
           3,
           2,
           2,
           2,
           2,
           1,
           1,
           1,
           1,
           1,
           1,
           4,
           4,
           3,
           3,
           3,
           3,
           3,
           3,
           2,
           2,
           2,
           2,
           2,
           1,
           1,
           1,
           1,
           1,
           1,
           1,
           1,
           127,
           126,
           124,
           120,
           114,
           114,
           102,
           96,
           82,
           81,
           76,
           66,
           65,
           64,
           40,
           38,
           35,
           32,
           28,
           23,
           22,
           20,
           19,
           18,
           15,
           13,
           12,
           11,
           10,
           8,
           7,
           6,
           5,
           5,
           2,
           1,
           1,
           17,
           16,
           16,
           16,
           14,
           11,
           11,
           9,
           9,
           9,
           8,
           8,
           8,
           6,
           6,
           6,
           6,
           6,
           5,
           5,
           4,
           4,
           4,
           4,
           3,
           2,
           2,
           2,
           1,
           1,
           1,
           1,
           1,
           25,
           20,
           19,
           13,
           13,
           8,
           7,
           5,
           4,
           4,
           3,
           1,
           1,
           1,
           1,
           1,
           1,
           3,
           2,
           2,
           2,
           2,
           2,
           2,
           1,
           1,
           1,
           1,
           1,
           1,
           1,
           1,
           1,
           1,
           1,
           1,
           8,
           8,
           8,
           7,
           7,
           5,
           5,
           5,
           5,
           4,
           4,
           4,
           3,
           3,
           3,
           3,
           3,
           3,
           2,
           2,
           2,
           2,
           2,
           2,
           1,
           1,
           1,
           1,
           1,
           1,
           1,
           11,
           8,
           7,
           6,
           6,
           5,
           4,
           4,
           3,
           3,
           3,
           3,
           3,
           2,
           2,
           2,
           2,
           1,
           1,
           1,
           1,
           1
          ],
          "sizemode": "area",
          "sizeref": 0.1036734693877551,
          "symbol": "circle"
         },
         "mode": "markers",
         "name": "",
         "orientation": "h",
         "showlegend": false,
         "type": "scatter",
         "x": [
          21,
          25,
          20,
          23,
          19,
          22,
          29,
          30,
          32,
          24,
          26,
          27,
          28,
          33,
          36,
          40,
          18,
          34,
          38,
          39,
          31,
          35,
          37,
          42,
          45,
          43,
          46,
          47,
          52,
          54,
          33,
          27,
          25,
          26,
          32,
          35,
          39,
          28,
          34,
          38,
          29,
          30,
          31,
          40,
          23,
          43,
          24,
          37,
          46,
          22,
          36,
          41,
          42,
          21,
          44,
          45,
          47,
          48,
          51,
          34,
          38,
          31,
          33,
          36,
          39,
          49,
          53,
          27,
          35,
          41,
          42,
          45,
          22,
          25,
          26,
          29,
          32,
          37,
          44,
          47,
          26,
          27,
          28,
          29,
          25,
          30,
          31,
          24,
          32,
          33,
          34,
          23,
          36,
          35,
          38,
          40,
          37,
          39,
          22,
          41,
          42,
          43,
          21,
          46,
          44,
          45,
          20,
          51,
          50,
          49,
          48,
          47,
          53,
          54,
          52,
          18,
          19,
          26,
          25,
          28,
          32,
          30,
          24,
          27,
          29,
          36,
          38,
          33,
          34,
          37,
          23,
          31,
          39,
          42,
          43,
          35,
          41,
          22,
          40,
          44,
          54,
          46,
          20,
          51,
          53,
          21,
          45,
          47,
          49,
          52,
          22,
          21,
          24,
          20,
          23,
          27,
          25,
          28,
          18,
          30,
          26,
          19,
          29,
          31,
          35,
          37,
          39,
          23,
          21,
          24,
          27,
          28,
          29,
          45,
          20,
          25,
          26,
          30,
          31,
          32,
          33,
          36,
          42,
          44,
          49,
          52,
          35,
          38,
          42,
          33,
          34,
          28,
          32,
          39,
          45,
          37,
          41,
          48,
          25,
          36,
          40,
          43,
          46,
          51,
          26,
          29,
          30,
          31,
          49,
          53,
          21,
          23,
          27,
          44,
          50,
          52,
          54,
          31,
          29,
          28,
          26,
          30,
          37,
          27,
          32,
          24,
          33,
          35,
          39,
          41,
          23,
          34,
          36,
          38,
          25,
          40,
          42,
          46,
          50
         ],
         "xaxis": "x",
         "y": [
          "Acadêmica/Pesquisador",
          "Acadêmica/Pesquisador",
          "Acadêmica/Pesquisador",
          "Acadêmica/Pesquisador",
          "Acadêmica/Pesquisador",
          "Acadêmica/Pesquisador",
          "Acadêmica/Pesquisador",
          "Acadêmica/Pesquisador",
          "Acadêmica/Pesquisador",
          "Acadêmica/Pesquisador",
          "Acadêmica/Pesquisador",
          "Acadêmica/Pesquisador",
          "Acadêmica/Pesquisador",
          "Acadêmica/Pesquisador",
          "Acadêmica/Pesquisador",
          "Acadêmica/Pesquisador",
          "Acadêmica/Pesquisador",
          "Acadêmica/Pesquisador",
          "Acadêmica/Pesquisador",
          "Acadêmica/Pesquisador",
          "Acadêmica/Pesquisador",
          "Acadêmica/Pesquisador",
          "Acadêmica/Pesquisador",
          "Acadêmica/Pesquisador",
          "Acadêmica/Pesquisador",
          "Acadêmica/Pesquisador",
          "Acadêmica/Pesquisador",
          "Acadêmica/Pesquisador",
          "Acadêmica/Pesquisador",
          "Acadêmica/Pesquisador",
          "Desempregado",
          "Desempregado",
          "Desempregado",
          "Desempregado",
          "Desempregado",
          "Desempregado",
          "Desempregado",
          "Desempregado",
          "Desempregado",
          "Desempregado",
          "Desempregado",
          "Desempregado",
          "Desempregado",
          "Desempregado",
          "Desempregado",
          "Desempregado",
          "Desempregado",
          "Desempregado",
          "Desempregado",
          "Desempregado",
          "Desempregado",
          "Desempregado",
          "Desempregado",
          "Desempregado",
          "Desempregado",
          "Desempregado",
          "Desempregado",
          "Desempregado",
          "Desempregado",
          "Empreendedor (CNPJ)",
          "Empreendedor (CNPJ)",
          "Empreendedor (CNPJ)",
          "Empreendedor (CNPJ)",
          "Empreendedor (CNPJ)",
          "Empreendedor (CNPJ)",
          "Empreendedor (CNPJ)",
          "Empreendedor (CNPJ)",
          "Empreendedor (CNPJ)",
          "Empreendedor (CNPJ)",
          "Empreendedor (CNPJ)",
          "Empreendedor (CNPJ)",
          "Empreendedor (CNPJ)",
          "Empreendedor (CNPJ)",
          "Empreendedor (CNPJ)",
          "Empreendedor (CNPJ)",
          "Empreendedor (CNPJ)",
          "Empreendedor (CNPJ)",
          "Empreendedor (CNPJ)",
          "Empreendedor (CNPJ)",
          "Empreendedor (CNPJ)",
          "Empregado (CLT)",
          "Empregado (CLT)",
          "Empregado (CLT)",
          "Empregado (CLT)",
          "Empregado (CLT)",
          "Empregado (CLT)",
          "Empregado (CLT)",
          "Empregado (CLT)",
          "Empregado (CLT)",
          "Empregado (CLT)",
          "Empregado (CLT)",
          "Empregado (CLT)",
          "Empregado (CLT)",
          "Empregado (CLT)",
          "Empregado (CLT)",
          "Empregado (CLT)",
          "Empregado (CLT)",
          "Empregado (CLT)",
          "Empregado (CLT)",
          "Empregado (CLT)",
          "Empregado (CLT)",
          "Empregado (CLT)",
          "Empregado (CLT)",
          "Empregado (CLT)",
          "Empregado (CLT)",
          "Empregado (CLT)",
          "Empregado (CLT)",
          "Empregado (CLT)",
          "Empregado (CLT)",
          "Empregado (CLT)",
          "Empregado (CLT)",
          "Empregado (CLT)",
          "Empregado (CLT)",
          "Empregado (CLT)",
          "Empregado (CLT)",
          "Empregado (CLT)",
          "Empregado (CLT)",
          "Empregado (CNPJ)",
          "Empregado (CNPJ)",
          "Empregado (CNPJ)",
          "Empregado (CNPJ)",
          "Empregado (CNPJ)",
          "Empregado (CNPJ)",
          "Empregado (CNPJ)",
          "Empregado (CNPJ)",
          "Empregado (CNPJ)",
          "Empregado (CNPJ)",
          "Empregado (CNPJ)",
          "Empregado (CNPJ)",
          "Empregado (CNPJ)",
          "Empregado (CNPJ)",
          "Empregado (CNPJ)",
          "Empregado (CNPJ)",
          "Empregado (CNPJ)",
          "Empregado (CNPJ)",
          "Empregado (CNPJ)",
          "Empregado (CNPJ)",
          "Empregado (CNPJ)",
          "Empregado (CNPJ)",
          "Empregado (CNPJ)",
          "Empregado (CNPJ)",
          "Empregado (CNPJ)",
          "Empregado (CNPJ)",
          "Empregado (CNPJ)",
          "Empregado (CNPJ)",
          "Empregado (CNPJ)",
          "Empregado (CNPJ)",
          "Empregado (CNPJ)",
          "Empregado (CNPJ)",
          "Empregado (CNPJ)",
          "Estagiário",
          "Estagiário",
          "Estagiário",
          "Estagiário",
          "Estagiário",
          "Estagiário",
          "Estagiário",
          "Estagiário",
          "Estagiário",
          "Estagiário",
          "Estagiário",
          "Estagiário",
          "Estagiário",
          "Estagiário",
          "Estagiário",
          "Estagiário",
          "Estagiário",
          "Freelancer",
          "Freelancer",
          "Freelancer",
          "Freelancer",
          "Freelancer",
          "Freelancer",
          "Freelancer",
          "Freelancer",
          "Freelancer",
          "Freelancer",
          "Freelancer",
          "Freelancer",
          "Freelancer",
          "Freelancer",
          "Freelancer",
          "Freelancer",
          "Freelancer",
          "Freelancer",
          "Freelancer",
          "Servidor Público",
          "Servidor Público",
          "Servidor Público",
          "Servidor Público",
          "Servidor Público",
          "Servidor Público",
          "Servidor Público",
          "Servidor Público",
          "Servidor Público",
          "Servidor Público",
          "Servidor Público",
          "Servidor Público",
          "Servidor Público",
          "Servidor Público",
          "Servidor Público",
          "Servidor Público",
          "Servidor Público",
          "Servidor Público",
          "Servidor Público",
          "Servidor Público",
          "Servidor Público",
          "Servidor Público",
          "Servidor Público",
          "Servidor Público",
          "Servidor Público",
          "Servidor Público",
          "Servidor Público",
          "Servidor Público",
          "Servidor Público",
          "Servidor Público",
          "Servidor Público",
          "Trabalho fora do Brasil",
          "Trabalho fora do Brasil",
          "Trabalho fora do Brasil",
          "Trabalho fora do Brasil",
          "Trabalho fora do Brasil",
          "Trabalho fora do Brasil",
          "Trabalho fora do Brasil",
          "Trabalho fora do Brasil",
          "Trabalho fora do Brasil",
          "Trabalho fora do Brasil",
          "Trabalho fora do Brasil",
          "Trabalho fora do Brasil",
          "Trabalho fora do Brasil",
          "Trabalho fora do Brasil",
          "Trabalho fora do Brasil",
          "Trabalho fora do Brasil",
          "Trabalho fora do Brasil",
          "Trabalho fora do Brasil",
          "Trabalho fora do Brasil",
          "Trabalho fora do Brasil",
          "Trabalho fora do Brasil",
          "Trabalho fora do Brasil"
         ],
         "yaxis": "y"
        }
       ],
       "layout": {
        "coloraxis": {
         "colorbar": {
          "title": {
           "text": "Quantidade"
          }
         },
         "colorscale": [
          [
           0,
           "#30123b"
          ],
          [
           0.07142857142857142,
           "#4145ab"
          ],
          [
           0.14285714285714285,
           "#4675ed"
          ],
          [
           0.21428571428571427,
           "#39a2fc"
          ],
          [
           0.2857142857142857,
           "#1bcfd4"
          ],
          [
           0.35714285714285715,
           "#24eca6"
          ],
          [
           0.42857142857142855,
           "#61fc6c"
          ],
          [
           0.5,
           "#a4fc3b"
          ],
          [
           0.5714285714285714,
           "#d1e834"
          ],
          [
           0.6428571428571429,
           "#f3c63a"
          ],
          [
           0.7142857142857143,
           "#fe9b2d"
          ],
          [
           0.7857142857142857,
           "#f36315"
          ],
          [
           0.8571428571428571,
           "#d93806"
          ],
          [
           0.9285714285714286,
           "#b11901"
          ],
          [
           1,
           "#7a0402"
          ]
         ]
        },
        "legend": {
         "itemsizing": "constant",
         "tracegroupgap": 0
        },
        "template": {
         "data": {
          "bar": [
           {
            "error_x": {
             "color": "#2a3f5f"
            },
            "error_y": {
             "color": "#2a3f5f"
            },
            "marker": {
             "line": {
              "color": "#E5ECF6",
              "width": 0.5
             },
             "pattern": {
              "fillmode": "overlay",
              "size": 10,
              "solidity": 0.2
             }
            },
            "type": "bar"
           }
          ],
          "barpolar": [
           {
            "marker": {
             "line": {
              "color": "#E5ECF6",
              "width": 0.5
             },
             "pattern": {
              "fillmode": "overlay",
              "size": 10,
              "solidity": 0.2
             }
            },
            "type": "barpolar"
           }
          ],
          "carpet": [
           {
            "aaxis": {
             "endlinecolor": "#2a3f5f",
             "gridcolor": "white",
             "linecolor": "white",
             "minorgridcolor": "white",
             "startlinecolor": "#2a3f5f"
            },
            "baxis": {
             "endlinecolor": "#2a3f5f",
             "gridcolor": "white",
             "linecolor": "white",
             "minorgridcolor": "white",
             "startlinecolor": "#2a3f5f"
            },
            "type": "carpet"
           }
          ],
          "choropleth": [
           {
            "colorbar": {
             "outlinewidth": 0,
             "ticks": ""
            },
            "type": "choropleth"
           }
          ],
          "contour": [
           {
            "colorbar": {
             "outlinewidth": 0,
             "ticks": ""
            },
            "colorscale": [
             [
              0,
              "#0d0887"
             ],
             [
              0.1111111111111111,
              "#46039f"
             ],
             [
              0.2222222222222222,
              "#7201a8"
             ],
             [
              0.3333333333333333,
              "#9c179e"
             ],
             [
              0.4444444444444444,
              "#bd3786"
             ],
             [
              0.5555555555555556,
              "#d8576b"
             ],
             [
              0.6666666666666666,
              "#ed7953"
             ],
             [
              0.7777777777777778,
              "#fb9f3a"
             ],
             [
              0.8888888888888888,
              "#fdca26"
             ],
             [
              1,
              "#f0f921"
             ]
            ],
            "type": "contour"
           }
          ],
          "contourcarpet": [
           {
            "colorbar": {
             "outlinewidth": 0,
             "ticks": ""
            },
            "type": "contourcarpet"
           }
          ],
          "heatmap": [
           {
            "colorbar": {
             "outlinewidth": 0,
             "ticks": ""
            },
            "colorscale": [
             [
              0,
              "#0d0887"
             ],
             [
              0.1111111111111111,
              "#46039f"
             ],
             [
              0.2222222222222222,
              "#7201a8"
             ],
             [
              0.3333333333333333,
              "#9c179e"
             ],
             [
              0.4444444444444444,
              "#bd3786"
             ],
             [
              0.5555555555555556,
              "#d8576b"
             ],
             [
              0.6666666666666666,
              "#ed7953"
             ],
             [
              0.7777777777777778,
              "#fb9f3a"
             ],
             [
              0.8888888888888888,
              "#fdca26"
             ],
             [
              1,
              "#f0f921"
             ]
            ],
            "type": "heatmap"
           }
          ],
          "heatmapgl": [
           {
            "colorbar": {
             "outlinewidth": 0,
             "ticks": ""
            },
            "colorscale": [
             [
              0,
              "#0d0887"
             ],
             [
              0.1111111111111111,
              "#46039f"
             ],
             [
              0.2222222222222222,
              "#7201a8"
             ],
             [
              0.3333333333333333,
              "#9c179e"
             ],
             [
              0.4444444444444444,
              "#bd3786"
             ],
             [
              0.5555555555555556,
              "#d8576b"
             ],
             [
              0.6666666666666666,
              "#ed7953"
             ],
             [
              0.7777777777777778,
              "#fb9f3a"
             ],
             [
              0.8888888888888888,
              "#fdca26"
             ],
             [
              1,
              "#f0f921"
             ]
            ],
            "type": "heatmapgl"
           }
          ],
          "histogram": [
           {
            "marker": {
             "pattern": {
              "fillmode": "overlay",
              "size": 10,
              "solidity": 0.2
             }
            },
            "type": "histogram"
           }
          ],
          "histogram2d": [
           {
            "colorbar": {
             "outlinewidth": 0,
             "ticks": ""
            },
            "colorscale": [
             [
              0,
              "#0d0887"
             ],
             [
              0.1111111111111111,
              "#46039f"
             ],
             [
              0.2222222222222222,
              "#7201a8"
             ],
             [
              0.3333333333333333,
              "#9c179e"
             ],
             [
              0.4444444444444444,
              "#bd3786"
             ],
             [
              0.5555555555555556,
              "#d8576b"
             ],
             [
              0.6666666666666666,
              "#ed7953"
             ],
             [
              0.7777777777777778,
              "#fb9f3a"
             ],
             [
              0.8888888888888888,
              "#fdca26"
             ],
             [
              1,
              "#f0f921"
             ]
            ],
            "type": "histogram2d"
           }
          ],
          "histogram2dcontour": [
           {
            "colorbar": {
             "outlinewidth": 0,
             "ticks": ""
            },
            "colorscale": [
             [
              0,
              "#0d0887"
             ],
             [
              0.1111111111111111,
              "#46039f"
             ],
             [
              0.2222222222222222,
              "#7201a8"
             ],
             [
              0.3333333333333333,
              "#9c179e"
             ],
             [
              0.4444444444444444,
              "#bd3786"
             ],
             [
              0.5555555555555556,
              "#d8576b"
             ],
             [
              0.6666666666666666,
              "#ed7953"
             ],
             [
              0.7777777777777778,
              "#fb9f3a"
             ],
             [
              0.8888888888888888,
              "#fdca26"
             ],
             [
              1,
              "#f0f921"
             ]
            ],
            "type": "histogram2dcontour"
           }
          ],
          "mesh3d": [
           {
            "colorbar": {
             "outlinewidth": 0,
             "ticks": ""
            },
            "type": "mesh3d"
           }
          ],
          "parcoords": [
           {
            "line": {
             "colorbar": {
              "outlinewidth": 0,
              "ticks": ""
             }
            },
            "type": "parcoords"
           }
          ],
          "pie": [
           {
            "automargin": true,
            "type": "pie"
           }
          ],
          "scatter": [
           {
            "fillpattern": {
             "fillmode": "overlay",
             "size": 10,
             "solidity": 0.2
            },
            "type": "scatter"
           }
          ],
          "scatter3d": [
           {
            "line": {
             "colorbar": {
              "outlinewidth": 0,
              "ticks": ""
             }
            },
            "marker": {
             "colorbar": {
              "outlinewidth": 0,
              "ticks": ""
             }
            },
            "type": "scatter3d"
           }
          ],
          "scattercarpet": [
           {
            "marker": {
             "colorbar": {
              "outlinewidth": 0,
              "ticks": ""
             }
            },
            "type": "scattercarpet"
           }
          ],
          "scattergeo": [
           {
            "marker": {
             "colorbar": {
              "outlinewidth": 0,
              "ticks": ""
             }
            },
            "type": "scattergeo"
           }
          ],
          "scattergl": [
           {
            "marker": {
             "colorbar": {
              "outlinewidth": 0,
              "ticks": ""
             }
            },
            "type": "scattergl"
           }
          ],
          "scattermapbox": [
           {
            "marker": {
             "colorbar": {
              "outlinewidth": 0,
              "ticks": ""
             }
            },
            "type": "scattermapbox"
           }
          ],
          "scatterpolar": [
           {
            "marker": {
             "colorbar": {
              "outlinewidth": 0,
              "ticks": ""
             }
            },
            "type": "scatterpolar"
           }
          ],
          "scatterpolargl": [
           {
            "marker": {
             "colorbar": {
              "outlinewidth": 0,
              "ticks": ""
             }
            },
            "type": "scatterpolargl"
           }
          ],
          "scatterternary": [
           {
            "marker": {
             "colorbar": {
              "outlinewidth": 0,
              "ticks": ""
             }
            },
            "type": "scatterternary"
           }
          ],
          "surface": [
           {
            "colorbar": {
             "outlinewidth": 0,
             "ticks": ""
            },
            "colorscale": [
             [
              0,
              "#0d0887"
             ],
             [
              0.1111111111111111,
              "#46039f"
             ],
             [
              0.2222222222222222,
              "#7201a8"
             ],
             [
              0.3333333333333333,
              "#9c179e"
             ],
             [
              0.4444444444444444,
              "#bd3786"
             ],
             [
              0.5555555555555556,
              "#d8576b"
             ],
             [
              0.6666666666666666,
              "#ed7953"
             ],
             [
              0.7777777777777778,
              "#fb9f3a"
             ],
             [
              0.8888888888888888,
              "#fdca26"
             ],
             [
              1,
              "#f0f921"
             ]
            ],
            "type": "surface"
           }
          ],
          "table": [
           {
            "cells": {
             "fill": {
              "color": "#EBF0F8"
             },
             "line": {
              "color": "white"
             }
            },
            "header": {
             "fill": {
              "color": "#C8D4E3"
             },
             "line": {
              "color": "white"
             }
            },
            "type": "table"
           }
          ]
         },
         "layout": {
          "annotationdefaults": {
           "arrowcolor": "#2a3f5f",
           "arrowhead": 0,
           "arrowwidth": 1
          },
          "autotypenumbers": "strict",
          "coloraxis": {
           "colorbar": {
            "outlinewidth": 0,
            "ticks": ""
           }
          },
          "colorscale": {
           "diverging": [
            [
             0,
             "#8e0152"
            ],
            [
             0.1,
             "#c51b7d"
            ],
            [
             0.2,
             "#de77ae"
            ],
            [
             0.3,
             "#f1b6da"
            ],
            [
             0.4,
             "#fde0ef"
            ],
            [
             0.5,
             "#f7f7f7"
            ],
            [
             0.6,
             "#e6f5d0"
            ],
            [
             0.7,
             "#b8e186"
            ],
            [
             0.8,
             "#7fbc41"
            ],
            [
             0.9,
             "#4d9221"
            ],
            [
             1,
             "#276419"
            ]
           ],
           "sequential": [
            [
             0,
             "#0d0887"
            ],
            [
             0.1111111111111111,
             "#46039f"
            ],
            [
             0.2222222222222222,
             "#7201a8"
            ],
            [
             0.3333333333333333,
             "#9c179e"
            ],
            [
             0.4444444444444444,
             "#bd3786"
            ],
            [
             0.5555555555555556,
             "#d8576b"
            ],
            [
             0.6666666666666666,
             "#ed7953"
            ],
            [
             0.7777777777777778,
             "#fb9f3a"
            ],
            [
             0.8888888888888888,
             "#fdca26"
            ],
            [
             1,
             "#f0f921"
            ]
           ],
           "sequentialminus": [
            [
             0,
             "#0d0887"
            ],
            [
             0.1111111111111111,
             "#46039f"
            ],
            [
             0.2222222222222222,
             "#7201a8"
            ],
            [
             0.3333333333333333,
             "#9c179e"
            ],
            [
             0.4444444444444444,
             "#bd3786"
            ],
            [
             0.5555555555555556,
             "#d8576b"
            ],
            [
             0.6666666666666666,
             "#ed7953"
            ],
            [
             0.7777777777777778,
             "#fb9f3a"
            ],
            [
             0.8888888888888888,
             "#fdca26"
            ],
            [
             1,
             "#f0f921"
            ]
           ]
          },
          "colorway": [
           "#636efa",
           "#EF553B",
           "#00cc96",
           "#ab63fa",
           "#FFA15A",
           "#19d3f3",
           "#FF6692",
           "#B6E880",
           "#FF97FF",
           "#FECB52"
          ],
          "font": {
           "color": "#2a3f5f"
          },
          "geo": {
           "bgcolor": "white",
           "lakecolor": "white",
           "landcolor": "#E5ECF6",
           "showlakes": true,
           "showland": true,
           "subunitcolor": "white"
          },
          "hoverlabel": {
           "align": "left"
          },
          "hovermode": "closest",
          "mapbox": {
           "style": "light"
          },
          "paper_bgcolor": "white",
          "plot_bgcolor": "#E5ECF6",
          "polar": {
           "angularaxis": {
            "gridcolor": "white",
            "linecolor": "white",
            "ticks": ""
           },
           "bgcolor": "#E5ECF6",
           "radialaxis": {
            "gridcolor": "white",
            "linecolor": "white",
            "ticks": ""
           }
          },
          "scene": {
           "xaxis": {
            "backgroundcolor": "#E5ECF6",
            "gridcolor": "white",
            "gridwidth": 2,
            "linecolor": "white",
            "showbackground": true,
            "ticks": "",
            "zerolinecolor": "white"
           },
           "yaxis": {
            "backgroundcolor": "#E5ECF6",
            "gridcolor": "white",
            "gridwidth": 2,
            "linecolor": "white",
            "showbackground": true,
            "ticks": "",
            "zerolinecolor": "white"
           },
           "zaxis": {
            "backgroundcolor": "#E5ECF6",
            "gridcolor": "white",
            "gridwidth": 2,
            "linecolor": "white",
            "showbackground": true,
            "ticks": "",
            "zerolinecolor": "white"
           }
          },
          "shapedefaults": {
           "line": {
            "color": "#2a3f5f"
           }
          },
          "ternary": {
           "aaxis": {
            "gridcolor": "white",
            "linecolor": "white",
            "ticks": ""
           },
           "baxis": {
            "gridcolor": "white",
            "linecolor": "white",
            "ticks": ""
           },
           "bgcolor": "#E5ECF6",
           "caxis": {
            "gridcolor": "white",
            "linecolor": "white",
            "ticks": ""
           }
          },
          "title": {
           "x": 0.05
          },
          "xaxis": {
           "automargin": true,
           "gridcolor": "white",
           "linecolor": "white",
           "ticks": "",
           "title": {
            "standoff": 15
           },
           "zerolinecolor": "white",
           "zerolinewidth": 2
          },
          "yaxis": {
           "automargin": true,
           "gridcolor": "white",
           "linecolor": "white",
           "ticks": "",
           "title": {
            "standoff": 15
           },
           "zerolinecolor": "white",
           "zerolinewidth": 2
          }
         }
        },
        "title": {
         "text": "Concentração de quantidade de respondentes por vínculo empregatício"
        },
        "xaxis": {
         "anchor": "y",
         "domain": [
          0,
          1
         ],
         "title": {
          "text": "Idade"
         }
        },
        "yaxis": {
         "anchor": "x",
         "domain": [
          0,
          1
         ],
         "title": {
          "text": "Vínculo Empregatício"
         }
        }
       }
      }
     },
     "metadata": {},
     "output_type": "display_data"
    }
   ],
   "source": [
    "fig = px.scatter(tamanho, x=\"('P1_a ', 'Idade')\", y=\"Vínculo Empregatício\", color=\"Tamanho\",size=\"Tamanho\",size_max=35,color_continuous_scale= \"Turbo\",labels={\"('P1_a ', 'Idade')\":\"Idade\",\"Tamanho\":\"Quantidade\"}, title=\"Concentração de quantidade de respondentes por vínculo empregatício\")\n",
    "fig.show()"
   ]
  },
  {
   "cell_type": "code",
   "execution_count": 16,
   "metadata": {},
   "outputs": [
    {
     "data": {
      "image/png": "[encoded data removed]",
      "text/plain": [
       "<Figure size 1296x432 with 1 Axes>"
      ]
     },
     "metadata": {
      "needs_background": "light"
     },
     "output_type": "display_data"
    }
   ],
   "source": [
    "fig = plt.figure(figsize=(18,6))\n",
    "ax=sns.boxplot(data=df,x=\"('P1_a ', 'Idade')\",y=\"Vínculo Empregatício\", palette='turbo')\n",
    "ax.set_title('Boxplot idade dos respondentes por vínculo empregatício', fontsize=15)\n",
    "ax.set_xlabel('Idade', fontsize=14)\n",
    "ax.set_ylabel('')\n",
    "ax.set_yticklabels(df[\"Vínculo Empregatício\"].value_counts().index, size = 12);"
   ]
  },
  {
   "cell_type": "markdown",
   "metadata": {},
   "source": [
    "No gráfico de barras a seguir, observamos a distribuição dos respondentes pelo título nominal do cargo que ocupam.  \n",
    "Em primeiro lugar aparece Cientista de Dados como cargo com mais menções (19,22%), seguido por Analista de BI (18,20%), Analista de Dados (17,45%) e Engenheiro de Dados (16,16%)."
   ]
  },
  {
   "cell_type": "code",
   "execution_count": 17,
   "metadata": {},
   "outputs": [
    {
     "data": {
      "image/png": "[encoded data removed]",
      "text/plain": [
       "<Figure size 1152x576 with 1 Axes>"
      ]
     },
     "metadata": {
      "needs_background": "light"
     },
     "output_type": "display_data"
    }
   ],
   "source": [
    "fig = plt.figure(figsize=(16,8))\n",
    "ax = sns.countplot(data=df, y=\"('P2_f ', 'Cargo Atual')\", palette='turbo', order = df[\"('P2_f ', 'Cargo Atual')\"].value_counts().index)\n",
    "ax.bar_label(ax.containers[0])\n",
    "ax.set(xlabel=\"Contagem\",ylabel=\"\")\n",
    "ax.set_title('Distribuição dos respondentes por cargo atual', fontsize=13)\n",
    "ax.set_yticklabels(df[\"('P2_f ', 'Cargo Atual')\"].value_counts().index, size = 12)\n",
    "\n",
    "patches = ax.patches\n",
    "percentage = df[\"('P2_f ', 'Cargo Atual')\"].value_counts()/df[\"('P2_f ', 'Cargo Atual')\"].value_counts().sum()*100\n",
    "for i in range(len(patches)-8):\n",
    "   x = patches[i].get_x() + patches[i].get_width() / 2 - 0.05\n",
    "   y = patches[i].get_y() + patches[i].get_height() - 0.25\n",
    "   ax.annotate('{:.2f}%'.format(percentage[i]), (x, y), ha='center')\n",
    "\n",
    "plt.show();"
   ]
  },
  {
   "cell_type": "markdown",
   "metadata": {},
   "source": [
    "Os respondentes que ocupam cargos técnicos de dados (excluindo cargos como os de gestão) foram agrupados em três grandes categorias (\"Analista de Dados\", \"Cientista de Dados\" e \"Engenheiro de Dados\"). A maioria dos respondentes se declara como Analista de Dados (51,0%), seguido por Cientista de Dados (24,7%) e Engenheiro de Dados (24,3%)."
   ]
  },
  {
   "cell_type": "code",
   "execution_count": 18,
   "metadata": {},
   "outputs": [
    {
     "data": {
      "image/png": "[encoded data removed]",
      "text/plain": [
       "<Figure size 432x288 with 1 Axes>"
      ]
     },
     "metadata": {},
     "output_type": "display_data"
    }
   ],
   "source": [
    "pie_chart(df, 'profissao', \"\")"
   ]
  },
  {
   "cell_type": "markdown",
   "metadata": {},
   "source": [
    "Quanto ao grau de senioridade, os respondentes se distribuem quase que de forma homogênea."
   ]
  },
  {
   "cell_type": "code",
   "execution_count": 19,
   "metadata": {},
   "outputs": [
    {
     "data": {
      "image/png": "[encoded data removed]",
      "text/plain": [
       "<Figure size 432x288 with 1 Axes>"
      ]
     },
     "metadata": {},
     "output_type": "display_data"
    }
   ],
   "source": [
    "pie_chart(df, \"('P2_g ', 'Nivel')\", \"Senioridade dos respondentes\")"
   ]
  },
  {
   "cell_type": "markdown",
   "metadata": {},
   "source": [
    "O modelo de trabalho prevalecente é o remoto, e o modelo preferido é o híbrido flexível.  \n",
    "O modelo de trabalho menos desejado é o presencial, independente da forma atual de trabalho."
   ]
  },
  {
   "cell_type": "code",
   "execution_count": 20,
   "metadata": {},
   "outputs": [
    {
     "data": {
      "application/vnd.plotly.v1+json": {
       "config": {
        "plotlyServerURL": "https://plot.ly"
       },
       "data": [
        {
         "branchvalues": "total",
         "domain": {
          "x": [
           0,
           1
          ],
          "y": [
           0,
           1
          ]
         },
         "hovertemplate": "labels=%{label}<br>count=%{value}<br>parent=%{parent}<br>id=%{id}<extra></extra>",
         "ids": [
          "Híbrido flexível/Híbrido flexível",
          "Híbrido presenciais fixos/Híbrido flexível",
          "Presencial/Híbrido flexível",
          "Remoto/Híbrido flexível",
          "Híbrido flexível/Híbrido presenciais fixos",
          "Híbrido presenciais fixos/Híbrido presenciais fixos",
          "Presencial/Híbrido presenciais fixos",
          "Remoto/Híbrido presenciais fixos",
          "Híbrido flexível/Presencial",
          "Híbrido presenciais fixos/Presencial",
          "Presencial/Presencial",
          "Remoto/Presencial",
          "Híbrido flexível/Remoto",
          "Híbrido presenciais fixos/Remoto",
          "Presencial/Remoto",
          "Remoto/Remoto",
          "Híbrido flexível",
          "Híbrido presenciais fixos",
          "Presencial",
          "Remoto"
         ],
         "labels": [
          "Híbrido flexível",
          "Híbrido flexível",
          "Híbrido flexível",
          "Híbrido flexível",
          "Híbrido presenciais fixos",
          "Híbrido presenciais fixos",
          "Híbrido presenciais fixos",
          "Híbrido presenciais fixos",
          "Presencial",
          "Presencial",
          "Presencial",
          "Presencial",
          "Remoto",
          "Remoto",
          "Remoto",
          "Remoto",
          "Híbrido flexível",
          "Híbrido presenciais fixos",
          "Presencial",
          "Remoto"
         ],
         "name": "",
         "parents": [
          "Híbrido flexível",
          "Híbrido presenciais fixos",
          "Presencial",
          "Remoto",
          "Híbrido flexível",
          "Híbrido presenciais fixos",
          "Presencial",
          "Remoto",
          "Híbrido flexível",
          "Híbrido presenciais fixos",
          "Presencial",
          "Remoto",
          "Híbrido flexível",
          "Híbrido presenciais fixos",
          "Presencial",
          "Remoto",
          "",
          "",
          "",
          ""
         ],
         "textinfo": "percent entry+label",
         "type": "sunburst",
         "values": [
          397,
          129,
          184,
          678,
          17,
          61,
          83,
          53,
          1,
          3,
          18,
          5,
          46,
          48,
          43,
          599,
          461,
          241,
          328,
          1335
         ]
        }
       ],
       "layout": {
        "font": {
         "family": "Courier New, monospace",
         "size": 18
        },
        "legend": {
         "tracegroupgap": 0
        },
        "margin": {
         "b": 0,
         "l": 0,
         "r": 0,
         "t": 0
        },
        "sunburstcolorway": [
         "#4584f9",
         "#1ae4b6",
         "#a1fc3d",
         "#f9ba38",
         "#e5460a"
        ],
        "template": {
         "data": {
          "bar": [
           {
            "error_x": {
             "color": "#2a3f5f"
            },
            "error_y": {
             "color": "#2a3f5f"
            },
            "marker": {
             "line": {
              "color": "#E5ECF6",
              "width": 0.5
             },
             "pattern": {
              "fillmode": "overlay",
              "size": 10,
              "solidity": 0.2
             }
            },
            "type": "bar"
           }
          ],
          "barpolar": [
           {
            "marker": {
             "line": {
              "color": "#E5ECF6",
              "width": 0.5
             },
             "pattern": {
              "fillmode": "overlay",
              "size": 10,
              "solidity": 0.2
             }
            },
            "type": "barpolar"
           }
          ],
          "carpet": [
           {
            "aaxis": {
             "endlinecolor": "#2a3f5f",
             "gridcolor": "white",
             "linecolor": "white",
             "minorgridcolor": "white",
             "startlinecolor": "#2a3f5f"
            },
            "baxis": {
             "endlinecolor": "#2a3f5f",
             "gridcolor": "white",
             "linecolor": "white",
             "minorgridcolor": "white",
             "startlinecolor": "#2a3f5f"
            },
            "type": "carpet"
           }
          ],
          "choropleth": [
           {
            "colorbar": {
             "outlinewidth": 0,
             "ticks": ""
            },
            "type": "choropleth"
           }
          ],
          "contour": [
           {
            "colorbar": {
             "outlinewidth": 0,
             "ticks": ""
            },
            "colorscale": [
             [
              0,
              "#0d0887"
             ],
             [
              0.1111111111111111,
              "#46039f"
             ],
             [
              0.2222222222222222,
              "#7201a8"
             ],
             [
              0.3333333333333333,
              "#9c179e"
             ],
             [
              0.4444444444444444,
              "#bd3786"
             ],
             [
              0.5555555555555556,
              "#d8576b"
             ],
             [
              0.6666666666666666,
              "#ed7953"
             ],
             [
              0.7777777777777778,
              "#fb9f3a"
             ],
             [
              0.8888888888888888,
              "#fdca26"
             ],
             [
              1,
              "#f0f921"
             ]
            ],
            "type": "contour"
           }
          ],
          "contourcarpet": [
           {
            "colorbar": {
             "outlinewidth": 0,
             "ticks": ""
            },
            "type": "contourcarpet"
           }
          ],
          "heatmap": [
           {
            "colorbar": {
             "outlinewidth": 0,
             "ticks": ""
            },
            "colorscale": [
             [
              0,
              "#0d0887"
             ],
             [
              0.1111111111111111,
              "#46039f"
             ],
             [
              0.2222222222222222,
              "#7201a8"
             ],
             [
              0.3333333333333333,
              "#9c179e"
             ],
             [
              0.4444444444444444,
              "#bd3786"
             ],
             [
              0.5555555555555556,
              "#d8576b"
             ],
             [
              0.6666666666666666,
              "#ed7953"
             ],
             [
              0.7777777777777778,
              "#fb9f3a"
             ],
             [
              0.8888888888888888,
              "#fdca26"
             ],
             [
              1,
              "#f0f921"
             ]
            ],
            "type": "heatmap"
           }
          ],
          "heatmapgl": [
           {
            "colorbar": {
             "outlinewidth": 0,
             "ticks": ""
            },
            "colorscale": [
             [
              0,
              "#0d0887"
             ],
             [
              0.1111111111111111,
              "#46039f"
             ],
             [
              0.2222222222222222,
              "#7201a8"
             ],
             [
              0.3333333333333333,
              "#9c179e"
             ],
             [
              0.4444444444444444,
              "#bd3786"
             ],
             [
              0.5555555555555556,
              "#d8576b"
             ],
             [
              0.6666666666666666,
              "#ed7953"
             ],
             [
              0.7777777777777778,
              "#fb9f3a"
             ],
             [
              0.8888888888888888,
              "#fdca26"
             ],
             [
              1,
              "#f0f921"
             ]
            ],
            "type": "heatmapgl"
           }
          ],
          "histogram": [
           {
            "marker": {
             "pattern": {
              "fillmode": "overlay",
              "size": 10,
              "solidity": 0.2
             }
            },
            "type": "histogram"
           }
          ],
          "histogram2d": [
           {
            "colorbar": {
             "outlinewidth": 0,
             "ticks": ""
            },
            "colorscale": [
             [
              0,
              "#0d0887"
             ],
             [
              0.1111111111111111,
              "#46039f"
             ],
             [
              0.2222222222222222,
              "#7201a8"
             ],
             [
              0.3333333333333333,
              "#9c179e"
             ],
             [
              0.4444444444444444,
              "#bd3786"
             ],
             [
              0.5555555555555556,
              "#d8576b"
             ],
             [
              0.6666666666666666,
              "#ed7953"
             ],
             [
              0.7777777777777778,
              "#fb9f3a"
             ],
             [
              0.8888888888888888,
              "#fdca26"
             ],
             [
              1,
              "#f0f921"
             ]
            ],
            "type": "histogram2d"
           }
          ],
          "histogram2dcontour": [
           {
            "colorbar": {
             "outlinewidth": 0,
             "ticks": ""
            },
            "colorscale": [
             [
              0,
              "#0d0887"
             ],
             [
              0.1111111111111111,
              "#46039f"
             ],
             [
              0.2222222222222222,
              "#7201a8"
             ],
             [
              0.3333333333333333,
              "#9c179e"
             ],
             [
              0.4444444444444444,
              "#bd3786"
             ],
             [
              0.5555555555555556,
              "#d8576b"
             ],
             [
              0.6666666666666666,
              "#ed7953"
             ],
             [
              0.7777777777777778,
              "#fb9f3a"
             ],
             [
              0.8888888888888888,
              "#fdca26"
             ],
             [
              1,
              "#f0f921"
             ]
            ],
            "type": "histogram2dcontour"
           }
          ],
          "mesh3d": [
           {
            "colorbar": {
             "outlinewidth": 0,
             "ticks": ""
            },
            "type": "mesh3d"
           }
          ],
          "parcoords": [
           {
            "line": {
             "colorbar": {
              "outlinewidth": 0,
              "ticks": ""
             }
            },
            "type": "parcoords"
           }
          ],
          "pie": [
           {
            "automargin": true,
            "type": "pie"
           }
          ],
          "scatter": [
           {
            "fillpattern": {
             "fillmode": "overlay",
             "size": 10,
             "solidity": 0.2
            },
            "type": "scatter"
           }
          ],
          "scatter3d": [
           {
            "line": {
             "colorbar": {
              "outlinewidth": 0,
              "ticks": ""
             }
            },
            "marker": {
             "colorbar": {
              "outlinewidth": 0,
              "ticks": ""
             }
            },
            "type": "scatter3d"
           }
          ],
          "scattercarpet": [
           {
            "marker": {
             "colorbar": {
              "outlinewidth": 0,
              "ticks": ""
             }
            },
            "type": "scattercarpet"
           }
          ],
          "scattergeo": [
           {
            "marker": {
             "colorbar": {
              "outlinewidth": 0,
              "ticks": ""
             }
            },
            "type": "scattergeo"
           }
          ],
          "scattergl": [
           {
            "marker": {
             "colorbar": {
              "outlinewidth": 0,
              "ticks": ""
             }
            },
            "type": "scattergl"
           }
          ],
          "scattermapbox": [
           {
            "marker": {
             "colorbar": {
              "outlinewidth": 0,
              "ticks": ""
             }
            },
            "type": "scattermapbox"
           }
          ],
          "scatterpolar": [
           {
            "marker": {
             "colorbar": {
              "outlinewidth": 0,
              "ticks": ""
             }
            },
            "type": "scatterpolar"
           }
          ],
          "scatterpolargl": [
           {
            "marker": {
             "colorbar": {
              "outlinewidth": 0,
              "ticks": ""
             }
            },
            "type": "scatterpolargl"
           }
          ],
          "scatterternary": [
           {
            "marker": {
             "colorbar": {
              "outlinewidth": 0,
              "ticks": ""
             }
            },
            "type": "scatterternary"
           }
          ],
          "surface": [
           {
            "colorbar": {
             "outlinewidth": 0,
             "ticks": ""
            },
            "colorscale": [
             [
              0,
              "#0d0887"
             ],
             [
              0.1111111111111111,
              "#46039f"
             ],
             [
              0.2222222222222222,
              "#7201a8"
             ],
             [
              0.3333333333333333,
              "#9c179e"
             ],
             [
              0.4444444444444444,
              "#bd3786"
             ],
             [
              0.5555555555555556,
              "#d8576b"
             ],
             [
              0.6666666666666666,
              "#ed7953"
             ],
             [
              0.7777777777777778,
              "#fb9f3a"
             ],
             [
              0.8888888888888888,
              "#fdca26"
             ],
             [
              1,
              "#f0f921"
             ]
            ],
            "type": "surface"
           }
          ],
          "table": [
           {
            "cells": {
             "fill": {
              "color": "#EBF0F8"
             },
             "line": {
              "color": "white"
             }
            },
            "header": {
             "fill": {
              "color": "#C8D4E3"
             },
             "line": {
              "color": "white"
             }
            },
            "type": "table"
           }
          ]
         },
         "layout": {
          "annotationdefaults": {
           "arrowcolor": "#2a3f5f",
           "arrowhead": 0,
           "arrowwidth": 1
          },
          "autotypenumbers": "strict",
          "coloraxis": {
           "colorbar": {
            "outlinewidth": 0,
            "ticks": ""
           }
          },
          "colorscale": {
           "diverging": [
            [
             0,
             "#8e0152"
            ],
            [
             0.1,
             "#c51b7d"
            ],
            [
             0.2,
             "#de77ae"
            ],
            [
             0.3,
             "#f1b6da"
            ],
            [
             0.4,
             "#fde0ef"
            ],
            [
             0.5,
             "#f7f7f7"
            ],
            [
             0.6,
             "#e6f5d0"
            ],
            [
             0.7,
             "#b8e186"
            ],
            [
             0.8,
             "#7fbc41"
            ],
            [
             0.9,
             "#4d9221"
            ],
            [
             1,
             "#276419"
            ]
           ],
           "sequential": [
            [
             0,
             "#0d0887"
            ],
            [
             0.1111111111111111,
             "#46039f"
            ],
            [
             0.2222222222222222,
             "#7201a8"
            ],
            [
             0.3333333333333333,
             "#9c179e"
            ],
            [
             0.4444444444444444,
             "#bd3786"
            ],
            [
             0.5555555555555556,
             "#d8576b"
            ],
            [
             0.6666666666666666,
             "#ed7953"
            ],
            [
             0.7777777777777778,
             "#fb9f3a"
            ],
            [
             0.8888888888888888,
             "#fdca26"
            ],
            [
             1,
             "#f0f921"
            ]
           ],
           "sequentialminus": [
            [
             0,
             "#0d0887"
            ],
            [
             0.1111111111111111,
             "#46039f"
            ],
            [
             0.2222222222222222,
             "#7201a8"
            ],
            [
             0.3333333333333333,
             "#9c179e"
            ],
            [
             0.4444444444444444,
             "#bd3786"
            ],
            [
             0.5555555555555556,
             "#d8576b"
            ],
            [
             0.6666666666666666,
             "#ed7953"
            ],
            [
             0.7777777777777778,
             "#fb9f3a"
            ],
            [
             0.8888888888888888,
             "#fdca26"
            ],
            [
             1,
             "#f0f921"
            ]
           ]
          },
          "colorway": [
           "#636efa",
           "#EF553B",
           "#00cc96",
           "#ab63fa",
           "#FFA15A",
           "#19d3f3",
           "#FF6692",
           "#B6E880",
           "#FF97FF",
           "#FECB52"
          ],
          "font": {
           "color": "#2a3f5f"
          },
          "geo": {
           "bgcolor": "white",
           "lakecolor": "white",
           "landcolor": "#E5ECF6",
           "showlakes": true,
           "showland": true,
           "subunitcolor": "white"
          },
          "hoverlabel": {
           "align": "left"
          },
          "hovermode": "closest",
          "mapbox": {
           "style": "light"
          },
          "paper_bgcolor": "white",
          "plot_bgcolor": "#E5ECF6",
          "polar": {
           "angularaxis": {
            "gridcolor": "white",
            "linecolor": "white",
            "ticks": ""
           },
           "bgcolor": "#E5ECF6",
           "radialaxis": {
            "gridcolor": "white",
            "linecolor": "white",
            "ticks": ""
           }
          },
          "scene": {
           "xaxis": {
            "backgroundcolor": "#E5ECF6",
            "gridcolor": "white",
            "gridwidth": 2,
            "linecolor": "white",
            "showbackground": true,
            "ticks": "",
            "zerolinecolor": "white"
           },
           "yaxis": {
            "backgroundcolor": "#E5ECF6",
            "gridcolor": "white",
            "gridwidth": 2,
            "linecolor": "white",
            "showbackground": true,
            "ticks": "",
            "zerolinecolor": "white"
           },
           "zaxis": {
            "backgroundcolor": "#E5ECF6",
            "gridcolor": "white",
            "gridwidth": 2,
            "linecolor": "white",
            "showbackground": true,
            "ticks": "",
            "zerolinecolor": "white"
           }
          },
          "shapedefaults": {
           "line": {
            "color": "#2a3f5f"
           }
          },
          "ternary": {
           "aaxis": {
            "gridcolor": "white",
            "linecolor": "white",
            "ticks": ""
           },
           "baxis": {
            "gridcolor": "white",
            "linecolor": "white",
            "ticks": ""
           },
           "bgcolor": "#E5ECF6",
           "caxis": {
            "gridcolor": "white",
            "linecolor": "white",
            "ticks": ""
           }
          },
          "title": {
           "x": 0.05
          },
          "xaxis": {
           "automargin": true,
           "gridcolor": "white",
           "linecolor": "white",
           "ticks": "",
           "title": {
            "standoff": 15
           },
           "zerolinecolor": "white",
           "zerolinewidth": 2
          },
          "yaxis": {
           "automargin": true,
           "gridcolor": "white",
           "linecolor": "white",
           "ticks": "",
           "title": {
            "standoff": 15
           },
           "zerolinecolor": "white",
           "zerolinewidth": 2
          }
         }
        },
        "title": {
         "text": "Forma de trabalho real vs. ideal",
         "x": 0.05,
         "xanchor": "left",
         "y": 0.9,
         "yanchor": "top"
        }
       }
      }
     },
     "metadata": {},
     "output_type": "display_data"
    }
   ],
   "source": [
    "fig = px.sunburst(df[df[\"('P2_r ', 'Qual a forma de trabalho ideal para você?')\"]!=\"ignore\"], path=[\"('P2_q ', 'Atualmente qual a sua forma de trabalho?')\", \"('P2_r ', 'Qual a forma de trabalho ideal para você?')\"], color_discrete_sequence=['#4584f9', '#1ae4b6', '#a1fc3d', '#f9ba38', '#e5460a'], title='Forma de trabalho real vs. ideal')\n",
    "fig.update_traces(textinfo=\"percent entry+label\")\n",
    "fig.update_layout(margin=dict(t=0, b=0, l=0, r=0),\n",
    "    font=dict(\n",
    "        family=\"Courier New, monospace\",\n",
    "        size=18),\n",
    "    title={\n",
    "        'y':0.9,\n",
    "        'x':0.05,\n",
    "        'xanchor': 'left',\n",
    "        'yanchor': 'top'})\n",
    "fig.show()"
   ]
  },
  {
   "cell_type": "markdown",
   "metadata": {},
   "source": [
    "Python e SQL são as linguagens de programação mais utilizadas pelos respondentes (39,63% e 39,36% respectivamente).  \n",
    "As duas linguagens somam conjuntamente 78,99% dentre as liguagens mais utilizadas."
   ]
  },
  {
   "cell_type": "code",
   "execution_count": 21,
   "metadata": {},
   "outputs": [
    {
     "data": {
      "image/png": "[encoded data removed]",
      "text/plain": [
       "<Figure size 1296x576 with 1 Axes>"
      ]
     },
     "metadata": {
      "needs_background": "light"
     },
     "output_type": "display_data"
    }
   ],
   "source": [
    "fig = plt.figure(figsize=(18,8))\n",
    "ax = sns.countplot(data=df, y=\"('P4_e ', 'Entre as linguagens listadas abaixo, qual é a que você mais utiliza no trabalho?')\", palette='turbo', order = df[\"('P4_e ', 'Entre as linguagens listadas abaixo, qual é a que você mais utiliza no trabalho?')\"].value_counts().index, orient='h')\n",
    "ax.bar_label(ax.containers[0])\n",
    "ax.set(ylabel=\"\",xlabel=\"Contagem\")\n",
    "ax.set_title('Distribuição dos respondentes por linguagem mais utilizada', fontsize=15)\n",
    "ax.set_yticklabels(df[\"('P4_e ', 'Entre as linguagens listadas abaixo, qual é a que você mais utiliza no trabalho?')\"].value_counts().index, size = 12)\n",
    "\n",
    "patches = ax.patches\n",
    "percentage = df[\"('P4_e ', 'Entre as linguagens listadas abaixo, qual é a que você mais utiliza no trabalho?')\"].value_counts()/df[\"('P4_e ', 'Entre as linguagens listadas abaixo, qual é a que você mais utiliza no trabalho?')\"].value_counts().sum()*100\n",
    "for i in range(len(patches)-8):\n",
    "   x = patches[i].get_x() + patches[i].get_width() / 2 - 0.05\n",
    "   y = patches[i].get_y() + patches[i].get_height() - 0.25\n",
    "   ax.annotate('{:.2f}%'.format(percentage[i]), (x, y), ha='center')\n",
    "\n",
    "plt.show()"
   ]
  },
  {
   "cell_type": "code",
   "execution_count": 22,
   "metadata": {},
   "outputs": [
    {
     "data": {
      "application/vnd.plotly.v1+json": {
       "config": {
        "plotlyServerURL": "https://plot.ly"
       },
       "data": [
        {
         "alignmentgroup": "True",
         "bingroup": "x",
         "histfunc": "sum",
         "hovertemplate": "=.NET<br>Profissão=%{x}<br>sum of value (normalized as percent)=%{y}<extra></extra>",
         "legendgroup": ".NET",
         "marker": {
          "color": "#30123b",
          "line": {
           "width": 0
          },
          "pattern": {
           "shape": ""
          }
         },
         "name": ".NET",
         "offsetgroup": ".NET",
         "orientation": "v",
         "showlegend": true,
         "texttemplate": "%{value:.0f}",
         "type": "histogram",
         "x": [
          "Analista Dados",
          "Cientista Dados",
          "Engenheiro Dados"
         ],
         "xaxis": "x",
         "y": [
          0,
          0,
          0.24752475247524752
         ],
         "yaxis": "y"
        },
        {
         "alignmentgroup": "True",
         "bingroup": "x",
         "histfunc": "sum",
         "hovertemplate": "=C/C++/C#<br>Profissão=%{x}<br>sum of value (normalized as percent)=%{y}<extra></extra>",
         "legendgroup": "C/C++/C#",
         "marker": {
          "color": "#4145ab",
          "line": {
           "width": 0
          },
          "pattern": {
           "shape": ""
          }
         },
         "name": "C/C++/C#",
         "offsetgroup": "C/C++/C#",
         "orientation": "v",
         "showlegend": true,
         "texttemplate": "%{value:.0f}",
         "type": "histogram",
         "x": [
          "Analista Dados",
          "Cientista Dados",
          "Engenheiro Dados"
         ],
         "xaxis": "x",
         "y": [
          0.23557126030624262,
          1.2135922330097086,
          0.24752475247524752
         ],
         "yaxis": "y"
        },
        {
         "alignmentgroup": "True",
         "bingroup": "x",
         "histfunc": "sum",
         "hovertemplate": "=Java<br>Profissão=%{x}<br>sum of value (normalized as percent)=%{y}<extra></extra>",
         "legendgroup": "Java",
         "marker": {
          "color": "#4675ed",
          "line": {
           "width": 0
          },
          "pattern": {
           "shape": ""
          }
         },
         "name": "Java",
         "offsetgroup": "Java",
         "orientation": "v",
         "showlegend": true,
         "texttemplate": "%{value:.0f}",
         "type": "histogram",
         "x": [
          "Analista Dados",
          "Cientista Dados",
          "Engenheiro Dados"
         ],
         "xaxis": "x",
         "y": [
          0,
          0.48543689320388345,
          0.49504950495049505
         ],
         "yaxis": "y"
        },
        {
         "alignmentgroup": "True",
         "bingroup": "x",
         "histfunc": "sum",
         "hovertemplate": "=JavaScript<br>Profissão=%{x}<br>sum of value (normalized as percent)=%{y}<extra></extra>",
         "legendgroup": "JavaScript",
         "marker": {
          "color": "#39a2fc",
          "line": {
           "width": 0
          },
          "pattern": {
           "shape": ""
          }
         },
         "name": "JavaScript",
         "offsetgroup": "JavaScript",
         "orientation": "v",
         "showlegend": true,
         "texttemplate": "%{value:.0f}",
         "type": "histogram",
         "x": [
          "Analista Dados",
          "Cientista Dados",
          "Engenheiro Dados"
         ],
         "xaxis": "x",
         "y": [
          0.8244994110718492,
          0.24271844660194172,
          1.9801980198019802
         ],
         "yaxis": "y"
        },
        {
         "alignmentgroup": "True",
         "bingroup": "x",
         "histfunc": "sum",
         "hovertemplate": "=Matlab<br>Profissão=%{x}<br>sum of value (normalized as percent)=%{y}<extra></extra>",
         "legendgroup": "Matlab",
         "marker": {
          "color": "#1bcfd4",
          "line": {
           "width": 0
          },
          "pattern": {
           "shape": ""
          }
         },
         "name": "Matlab",
         "offsetgroup": "Matlab",
         "orientation": "v",
         "showlegend": true,
         "texttemplate": "%{value:.0f}",
         "type": "histogram",
         "x": [
          "Analista Dados",
          "Cientista Dados",
          "Engenheiro Dados"
         ],
         "xaxis": "x",
         "y": [
          0,
          0.24271844660194172,
          0
         ],
         "yaxis": "y"
        },
        {
         "alignmentgroup": "True",
         "bingroup": "x",
         "histfunc": "sum",
         "hovertemplate": "=Nem uma das opções listadas<br>Profissão=%{x}<br>sum of value (normalized as percent)=%{y}<extra></extra>",
         "legendgroup": "Nem uma das opções listadas",
         "marker": {
          "color": "#24eca6",
          "line": {
           "width": 0
          },
          "pattern": {
           "shape": ""
          }
         },
         "name": "Nem uma das opções listadas",
         "offsetgroup": "Nem uma das opções listadas",
         "orientation": "v",
         "showlegend": true,
         "texttemplate": "%{value:.0f}",
         "type": "histogram",
         "x": [
          "Analista Dados",
          "Cientista Dados",
          "Engenheiro Dados"
         ],
         "xaxis": "x",
         "y": [
          11.189634864546525,
          0.7281553398058253,
          0.7425742574257426
         ],
         "yaxis": "y"
        },
        {
         "alignmentgroup": "True",
         "bingroup": "x",
         "histfunc": "sum",
         "hovertemplate": "=PHP<br>Profissão=%{x}<br>sum of value (normalized as percent)=%{y}<extra></extra>",
         "legendgroup": "PHP",
         "marker": {
          "color": "#61fc6c",
          "line": {
           "width": 0
          },
          "pattern": {
           "shape": ""
          }
         },
         "name": "PHP",
         "offsetgroup": "PHP",
         "orientation": "v",
         "showlegend": true,
         "texttemplate": "%{value:.0f}",
         "type": "histogram",
         "x": [
          "Analista Dados",
          "Cientista Dados",
          "Engenheiro Dados"
         ],
         "xaxis": "x",
         "y": [
          0.23557126030624262,
          0,
          0.24752475247524752
         ],
         "yaxis": "y"
        },
        {
         "alignmentgroup": "True",
         "bingroup": "x",
         "histfunc": "sum",
         "hovertemplate": "=Python<br>Profissão=%{x}<br>sum of value (normalized as percent)=%{y}<extra></extra>",
         "legendgroup": "Python",
         "marker": {
          "color": "#a4fc3b",
          "line": {
           "width": 0
          },
          "pattern": {
           "shape": ""
          }
         },
         "name": "Python",
         "offsetgroup": "Python",
         "orientation": "v",
         "showlegend": true,
         "texttemplate": "%{value:.0f}",
         "type": "histogram",
         "x": [
          "Analista Dados",
          "Cientista Dados",
          "Engenheiro Dados"
         ],
         "xaxis": "x",
         "y": [
          20.848056537102476,
          76.45631067961165,
          50.742574257425744
         ],
         "yaxis": "y"
        },
        {
         "alignmentgroup": "True",
         "bingroup": "x",
         "histfunc": "sum",
         "hovertemplate": "=R<br>Profissão=%{x}<br>sum of value (normalized as percent)=%{y}<extra></extra>",
         "legendgroup": "R",
         "marker": {
          "color": "#d1e834",
          "line": {
           "width": 0
          },
          "pattern": {
           "shape": ""
          }
         },
         "name": "R",
         "offsetgroup": "R",
         "orientation": "v",
         "showlegend": true,
         "texttemplate": "%{value:.0f}",
         "type": "histogram",
         "x": [
          "Analista Dados",
          "Cientista Dados",
          "Engenheiro Dados"
         ],
         "xaxis": "x",
         "y": [
          4.946996466431095,
          7.281553398058252,
          0.7425742574257426
         ],
         "yaxis": "y"
        },
        {
         "alignmentgroup": "True",
         "bingroup": "x",
         "histfunc": "sum",
         "hovertemplate": "=SAS/Stata<br>Profissão=%{x}<br>sum of value (normalized as percent)=%{y}<extra></extra>",
         "legendgroup": "SAS/Stata",
         "marker": {
          "color": "#f3c63a",
          "line": {
           "width": 0
          },
          "pattern": {
           "shape": ""
          }
         },
         "name": "SAS/Stata",
         "offsetgroup": "SAS/Stata",
         "orientation": "v",
         "showlegend": true,
         "texttemplate": "%{value:.0f}",
         "type": "histogram",
         "x": [
          "Analista Dados",
          "Cientista Dados",
          "Engenheiro Dados"
         ],
         "xaxis": "x",
         "y": [
          1.1778563015312131,
          1.2135922330097086,
          0
         ],
         "yaxis": "y"
        },
        {
         "alignmentgroup": "True",
         "bingroup": "x",
         "histfunc": "sum",
         "hovertemplate": "=SQL<br>Profissão=%{x}<br>sum of value (normalized as percent)=%{y}<extra></extra>",
         "legendgroup": "SQL",
         "marker": {
          "color": "#fe9b2d",
          "line": {
           "width": 0
          },
          "pattern": {
           "shape": ""
          }
         },
         "name": "SQL",
         "offsetgroup": "SQL",
         "orientation": "v",
         "showlegend": true,
         "texttemplate": "%{value:.0f}",
         "type": "histogram",
         "x": [
          "Analista Dados",
          "Cientista Dados",
          "Engenheiro Dados"
         ],
         "xaxis": "x",
         "y": [
          55.35924617196702,
          11.407766990291263,
          40.5940594059406
         ],
         "yaxis": "y"
        },
        {
         "alignmentgroup": "True",
         "bingroup": "x",
         "histfunc": "sum",
         "hovertemplate": "=Scala<br>Profissão=%{x}<br>sum of value (normalized as percent)=%{y}<extra></extra>",
         "legendgroup": "Scala",
         "marker": {
          "color": "#f36315",
          "line": {
           "width": 0
          },
          "pattern": {
           "shape": ""
          }
         },
         "name": "Scala",
         "offsetgroup": "Scala",
         "orientation": "v",
         "showlegend": true,
         "texttemplate": "%{value:.0f}",
         "type": "histogram",
         "x": [
          "Analista Dados",
          "Cientista Dados",
          "Engenheiro Dados"
         ],
         "xaxis": "x",
         "y": [
          0.47114252061248524,
          0.48543689320388345,
          3.217821782178218
         ],
         "yaxis": "y"
        },
        {
         "alignmentgroup": "True",
         "bingroup": "x",
         "histfunc": "sum",
         "hovertemplate": "=Visual Basic/VBA<br>Profissão=%{x}<br>sum of value (normalized as percent)=%{y}<extra></extra>",
         "legendgroup": "Visual Basic/VBA",
         "marker": {
          "color": "#d93806",
          "line": {
           "width": 0
          },
          "pattern": {
           "shape": ""
          }
         },
         "name": "Visual Basic/VBA",
         "offsetgroup": "Visual Basic/VBA",
         "orientation": "v",
         "showlegend": true,
         "texttemplate": "%{value:.0f}",
         "type": "histogram",
         "x": [
          "Analista Dados",
          "Cientista Dados",
          "Engenheiro Dados"
         ],
         "xaxis": "x",
         "y": [
          4.7114252061248525,
          0.24271844660194172,
          0.7425742574257426
         ],
         "yaxis": "y"
        }
       ],
       "layout": {
        "barmode": "relative",
        "barnorm": "percent",
        "legend": {
         "title": {
          "text": ""
         },
         "tracegroupgap": 0
        },
        "margin": {
         "t": 60
        },
        "template": {
         "data": {
          "bar": [
           {
            "error_x": {
             "color": "#2a3f5f"
            },
            "error_y": {
             "color": "#2a3f5f"
            },
            "marker": {
             "line": {
              "color": "#E5ECF6",
              "width": 0.5
             },
             "pattern": {
              "fillmode": "overlay",
              "size": 10,
              "solidity": 0.2
             }
            },
            "type": "bar"
           }
          ],
          "barpolar": [
           {
            "marker": {
             "line": {
              "color": "#E5ECF6",
              "width": 0.5
             },
             "pattern": {
              "fillmode": "overlay",
              "size": 10,
              "solidity": 0.2
             }
            },
            "type": "barpolar"
           }
          ],
          "carpet": [
           {
            "aaxis": {
             "endlinecolor": "#2a3f5f",
             "gridcolor": "white",
             "linecolor": "white",
             "minorgridcolor": "white",
             "startlinecolor": "#2a3f5f"
            },
            "baxis": {
             "endlinecolor": "#2a3f5f",
             "gridcolor": "white",
             "linecolor": "white",
             "minorgridcolor": "white",
             "startlinecolor": "#2a3f5f"
            },
            "type": "carpet"
           }
          ],
          "choropleth": [
           {
            "colorbar": {
             "outlinewidth": 0,
             "ticks": ""
            },
            "type": "choropleth"
           }
          ],
          "contour": [
           {
            "colorbar": {
             "outlinewidth": 0,
             "ticks": ""
            },
            "colorscale": [
             [
              0,
              "#0d0887"
             ],
             [
              0.1111111111111111,
              "#46039f"
             ],
             [
              0.2222222222222222,
              "#7201a8"
             ],
             [
              0.3333333333333333,
              "#9c179e"
             ],
             [
              0.4444444444444444,
              "#bd3786"
             ],
             [
              0.5555555555555556,
              "#d8576b"
             ],
             [
              0.6666666666666666,
              "#ed7953"
             ],
             [
              0.7777777777777778,
              "#fb9f3a"
             ],
             [
              0.8888888888888888,
              "#fdca26"
             ],
             [
              1,
              "#f0f921"
             ]
            ],
            "type": "contour"
           }
          ],
          "contourcarpet": [
           {
            "colorbar": {
             "outlinewidth": 0,
             "ticks": ""
            },
            "type": "contourcarpet"
           }
          ],
          "heatmap": [
           {
            "colorbar": {
             "outlinewidth": 0,
             "ticks": ""
            },
            "colorscale": [
             [
              0,
              "#0d0887"
             ],
             [
              0.1111111111111111,
              "#46039f"
             ],
             [
              0.2222222222222222,
              "#7201a8"
             ],
             [
              0.3333333333333333,
              "#9c179e"
             ],
             [
              0.4444444444444444,
              "#bd3786"
             ],
             [
              0.5555555555555556,
              "#d8576b"
             ],
             [
              0.6666666666666666,
              "#ed7953"
             ],
             [
              0.7777777777777778,
              "#fb9f3a"
             ],
             [
              0.8888888888888888,
              "#fdca26"
             ],
             [
              1,
              "#f0f921"
             ]
            ],
            "type": "heatmap"
           }
          ],
          "heatmapgl": [
           {
            "colorbar": {
             "outlinewidth": 0,
             "ticks": ""
            },
            "colorscale": [
             [
              0,
              "#0d0887"
             ],
             [
              0.1111111111111111,
              "#46039f"
             ],
             [
              0.2222222222222222,
              "#7201a8"
             ],
             [
              0.3333333333333333,
              "#9c179e"
             ],
             [
              0.4444444444444444,
              "#bd3786"
             ],
             [
              0.5555555555555556,
              "#d8576b"
             ],
             [
              0.6666666666666666,
              "#ed7953"
             ],
             [
              0.7777777777777778,
              "#fb9f3a"
             ],
             [
              0.8888888888888888,
              "#fdca26"
             ],
             [
              1,
              "#f0f921"
             ]
            ],
            "type": "heatmapgl"
           }
          ],
          "histogram": [
           {
            "marker": {
             "pattern": {
              "fillmode": "overlay",
              "size": 10,
              "solidity": 0.2
             }
            },
            "type": "histogram"
           }
          ],
          "histogram2d": [
           {
            "colorbar": {
             "outlinewidth": 0,
             "ticks": ""
            },
            "colorscale": [
             [
              0,
              "#0d0887"
             ],
             [
              0.1111111111111111,
              "#46039f"
             ],
             [
              0.2222222222222222,
              "#7201a8"
             ],
             [
              0.3333333333333333,
              "#9c179e"
             ],
             [
              0.4444444444444444,
              "#bd3786"
             ],
             [
              0.5555555555555556,
              "#d8576b"
             ],
             [
              0.6666666666666666,
              "#ed7953"
             ],
             [
              0.7777777777777778,
              "#fb9f3a"
             ],
             [
              0.8888888888888888,
              "#fdca26"
             ],
             [
              1,
              "#f0f921"
             ]
            ],
            "type": "histogram2d"
           }
          ],
          "histogram2dcontour": [
           {
            "colorbar": {
             "outlinewidth": 0,
             "ticks": ""
            },
            "colorscale": [
             [
              0,
              "#0d0887"
             ],
             [
              0.1111111111111111,
              "#46039f"
             ],
             [
              0.2222222222222222,
              "#7201a8"
             ],
             [
              0.3333333333333333,
              "#9c179e"
             ],
             [
              0.4444444444444444,
              "#bd3786"
             ],
             [
              0.5555555555555556,
              "#d8576b"
             ],
             [
              0.6666666666666666,
              "#ed7953"
             ],
             [
              0.7777777777777778,
              "#fb9f3a"
             ],
             [
              0.8888888888888888,
              "#fdca26"
             ],
             [
              1,
              "#f0f921"
             ]
            ],
            "type": "histogram2dcontour"
           }
          ],
          "mesh3d": [
           {
            "colorbar": {
             "outlinewidth": 0,
             "ticks": ""
            },
            "type": "mesh3d"
           }
          ],
          "parcoords": [
           {
            "line": {
             "colorbar": {
              "outlinewidth": 0,
              "ticks": ""
             }
            },
            "type": "parcoords"
           }
          ],
          "pie": [
           {
            "automargin": true,
            "type": "pie"
           }
          ],
          "scatter": [
           {
            "fillpattern": {
             "fillmode": "overlay",
             "size": 10,
             "solidity": 0.2
            },
            "type": "scatter"
           }
          ],
          "scatter3d": [
           {
            "line": {
             "colorbar": {
              "outlinewidth": 0,
              "ticks": ""
             }
            },
            "marker": {
             "colorbar": {
              "outlinewidth": 0,
              "ticks": ""
             }
            },
            "type": "scatter3d"
           }
          ],
          "scattercarpet": [
           {
            "marker": {
             "colorbar": {
              "outlinewidth": 0,
              "ticks": ""
             }
            },
            "type": "scattercarpet"
           }
          ],
          "scattergeo": [
           {
            "marker": {
             "colorbar": {
              "outlinewidth": 0,
              "ticks": ""
             }
            },
            "type": "scattergeo"
           }
          ],
          "scattergl": [
           {
            "marker": {
             "colorbar": {
              "outlinewidth": 0,
              "ticks": ""
             }
            },
            "type": "scattergl"
           }
          ],
          "scattermapbox": [
           {
            "marker": {
             "colorbar": {
              "outlinewidth": 0,
              "ticks": ""
             }
            },
            "type": "scattermapbox"
           }
          ],
          "scatterpolar": [
           {
            "marker": {
             "colorbar": {
              "outlinewidth": 0,
              "ticks": ""
             }
            },
            "type": "scatterpolar"
           }
          ],
          "scatterpolargl": [
           {
            "marker": {
             "colorbar": {
              "outlinewidth": 0,
              "ticks": ""
             }
            },
            "type": "scatterpolargl"
           }
          ],
          "scatterternary": [
           {
            "marker": {
             "colorbar": {
              "outlinewidth": 0,
              "ticks": ""
             }
            },
            "type": "scatterternary"
           }
          ],
          "surface": [
           {
            "colorbar": {
             "outlinewidth": 0,
             "ticks": ""
            },
            "colorscale": [
             [
              0,
              "#0d0887"
             ],
             [
              0.1111111111111111,
              "#46039f"
             ],
             [
              0.2222222222222222,
              "#7201a8"
             ],
             [
              0.3333333333333333,
              "#9c179e"
             ],
             [
              0.4444444444444444,
              "#bd3786"
             ],
             [
              0.5555555555555556,
              "#d8576b"
             ],
             [
              0.6666666666666666,
              "#ed7953"
             ],
             [
              0.7777777777777778,
              "#fb9f3a"
             ],
             [
              0.8888888888888888,
              "#fdca26"
             ],
             [
              1,
              "#f0f921"
             ]
            ],
            "type": "surface"
           }
          ],
          "table": [
           {
            "cells": {
             "fill": {
              "color": "#EBF0F8"
             },
             "line": {
              "color": "white"
             }
            },
            "header": {
             "fill": {
              "color": "#C8D4E3"
             },
             "line": {
              "color": "white"
             }
            },
            "type": "table"
           }
          ]
         },
         "layout": {
          "annotationdefaults": {
           "arrowcolor": "#2a3f5f",
           "arrowhead": 0,
           "arrowwidth": 1
          },
          "autotypenumbers": "strict",
          "coloraxis": {
           "colorbar": {
            "outlinewidth": 0,
            "ticks": ""
           }
          },
          "colorscale": {
           "diverging": [
            [
             0,
             "#8e0152"
            ],
            [
             0.1,
             "#c51b7d"
            ],
            [
             0.2,
             "#de77ae"
            ],
            [
             0.3,
             "#f1b6da"
            ],
            [
             0.4,
             "#fde0ef"
            ],
            [
             0.5,
             "#f7f7f7"
            ],
            [
             0.6,
             "#e6f5d0"
            ],
            [
             0.7,
             "#b8e186"
            ],
            [
             0.8,
             "#7fbc41"
            ],
            [
             0.9,
             "#4d9221"
            ],
            [
             1,
             "#276419"
            ]
           ],
           "sequential": [
            [
             0,
             "#0d0887"
            ],
            [
             0.1111111111111111,
             "#46039f"
            ],
            [
             0.2222222222222222,
             "#7201a8"
            ],
            [
             0.3333333333333333,
             "#9c179e"
            ],
            [
             0.4444444444444444,
             "#bd3786"
            ],
            [
             0.5555555555555556,
             "#d8576b"
            ],
            [
             0.6666666666666666,
             "#ed7953"
            ],
            [
             0.7777777777777778,
             "#fb9f3a"
            ],
            [
             0.8888888888888888,
             "#fdca26"
            ],
            [
             1,
             "#f0f921"
            ]
           ],
           "sequentialminus": [
            [
             0,
             "#0d0887"
            ],
            [
             0.1111111111111111,
             "#46039f"
            ],
            [
             0.2222222222222222,
             "#7201a8"
            ],
            [
             0.3333333333333333,
             "#9c179e"
            ],
            [
             0.4444444444444444,
             "#bd3786"
            ],
            [
             0.5555555555555556,
             "#d8576b"
            ],
            [
             0.6666666666666666,
             "#ed7953"
            ],
            [
             0.7777777777777778,
             "#fb9f3a"
            ],
            [
             0.8888888888888888,
             "#fdca26"
            ],
            [
             1,
             "#f0f921"
            ]
           ]
          },
          "colorway": [
           "#636efa",
           "#EF553B",
           "#00cc96",
           "#ab63fa",
           "#FFA15A",
           "#19d3f3",
           "#FF6692",
           "#B6E880",
           "#FF97FF",
           "#FECB52"
          ],
          "font": {
           "color": "#2a3f5f"
          },
          "geo": {
           "bgcolor": "white",
           "lakecolor": "white",
           "landcolor": "#E5ECF6",
           "showlakes": true,
           "showland": true,
           "subunitcolor": "white"
          },
          "hoverlabel": {
           "align": "left"
          },
          "hovermode": "closest",
          "mapbox": {
           "style": "light"
          },
          "paper_bgcolor": "white",
          "plot_bgcolor": "#E5ECF6",
          "polar": {
           "angularaxis": {
            "gridcolor": "white",
            "linecolor": "white",
            "ticks": ""
           },
           "bgcolor": "#E5ECF6",
           "radialaxis": {
            "gridcolor": "white",
            "linecolor": "white",
            "ticks": ""
           }
          },
          "scene": {
           "xaxis": {
            "backgroundcolor": "#E5ECF6",
            "gridcolor": "white",
            "gridwidth": 2,
            "linecolor": "white",
            "showbackground": true,
            "ticks": "",
            "zerolinecolor": "white"
           },
           "yaxis": {
            "backgroundcolor": "#E5ECF6",
            "gridcolor": "white",
            "gridwidth": 2,
            "linecolor": "white",
            "showbackground": true,
            "ticks": "",
            "zerolinecolor": "white"
           },
           "zaxis": {
            "backgroundcolor": "#E5ECF6",
            "gridcolor": "white",
            "gridwidth": 2,
            "linecolor": "white",
            "showbackground": true,
            "ticks": "",
            "zerolinecolor": "white"
           }
          },
          "shapedefaults": {
           "line": {
            "color": "#2a3f5f"
           }
          },
          "ternary": {
           "aaxis": {
            "gridcolor": "white",
            "linecolor": "white",
            "ticks": ""
           },
           "baxis": {
            "gridcolor": "white",
            "linecolor": "white",
            "ticks": ""
           },
           "bgcolor": "#E5ECF6",
           "caxis": {
            "gridcolor": "white",
            "linecolor": "white",
            "ticks": ""
           }
          },
          "title": {
           "x": 0.05
          },
          "xaxis": {
           "automargin": true,
           "gridcolor": "white",
           "linecolor": "white",
           "ticks": "",
           "title": {
            "standoff": 15
           },
           "zerolinecolor": "white",
           "zerolinewidth": 2
          },
          "yaxis": {
           "automargin": true,
           "gridcolor": "white",
           "linecolor": "white",
           "ticks": "",
           "title": {
            "standoff": 15
           },
           "zerolinecolor": "white",
           "zerolinewidth": 2
          }
         }
        },
        "title": {
         "text": "Linguagens mais utilizadas por profissão",
         "x": 0.5
        },
        "xaxis": {
         "anchor": "y",
         "domain": [
          0,
          1
         ],
         "title": {
          "text": "Profissão"
         }
        },
        "yaxis": {
         "anchor": "x",
         "domain": [
          0,
          1
         ],
         "title": {
          "text": "Percent"
         }
        }
       }
      }
     },
     "metadata": {},
     "output_type": "display_data"
    }
   ],
   "source": [
    "fig =px.histogram(prof_lang_cross_melt, y='value',barnorm='percent',color=\"('P4_e ', 'Entre as linguagens listadas abaixo, qual é a que você mais utiliza no trabalho?')\", x='profissao', color_discrete_sequence= px.colors.sequential.Turbo,labels={\"('P4_e ', 'Entre as linguagens listadas abaixo, qual é a que você mais utiliza no trabalho?')\":\"\",\"profissao\":\"Profissão\"},text_auto='.0f')\n",
    "fig.update_layout(title={\"text\": \"Linguagens mais utilizadas por profissão\", \"x\": 0.5}, yaxis_title=\"Percent\")\n",
    "fig.update_traces(marker_line_width=0)\n",
    "fig.show()"
   ]
  },
  {
   "cell_type": "markdown",
   "metadata": {},
   "source": [
    "As três principais atividades exercidas pelos cientistas de dados, independentemente da senioridade, são Coleta e limpeza de dados, Contato com os times de negócio e Desenvolvimento de modelos de Machine Learning.  \n",
    "Conforme o nível de senioridade aumenta, nota-se que diminui a proporção da coleta e da limpeza de dados e aumenta a do contato com os times de negócio."
   ]
  },
  {
   "cell_type": "code",
   "execution_count": 23,
   "metadata": {},
   "outputs": [
    {
     "data": {
      "application/vnd.plotly.v1+json": {
       "config": {
        "plotlyServerURL": "https://plot.ly"
       },
       "data": [
        {
         "alignmentgroup": "True",
         "bingroup": "x",
         "histfunc": "sum",
         "hovertemplate": "=Coleta e limpeza de dados<br>Nível=%{x}<br>sum of value (normalized as percent)=%{y}<extra></extra>",
         "legendgroup": "Coleta e limpeza de dados",
         "marker": {
          "color": "#30123b",
          "pattern": {
           "shape": ""
          }
         },
         "name": "Coleta e limpeza de dados",
         "offsetgroup": "Coleta e limpeza de dados",
         "orientation": "v",
         "showlegend": true,
         "texttemplate": "%{value:.0f}",
         "type": "histogram",
         "x": [
          "Júnior",
          "Pleno",
          "Sênior"
         ],
         "xaxis": "x",
         "y": [
          67,
          83,
          56
         ],
         "yaxis": "y"
        },
        {
         "alignmentgroup": "True",
         "bingroup": "x",
         "histfunc": "sum",
         "hovertemplate": "=Contato com os times de negócio<br>Nível=%{x}<br>sum of value (normalized as percent)=%{y}<extra></extra>",
         "legendgroup": "Contato com os times de negócio",
         "marker": {
          "color": "#4145ab",
          "pattern": {
           "shape": ""
          }
         },
         "name": "Contato com os times de negócio",
         "offsetgroup": "Contato com os times de negócio",
         "orientation": "v",
         "showlegend": true,
         "texttemplate": "%{value:.0f}",
         "type": "histogram",
         "x": [
          "Júnior",
          "Pleno",
          "Sênior"
         ],
         "xaxis": "x",
         "y": [
          19,
          43,
          34
         ],
         "yaxis": "y"
        },
        {
         "alignmentgroup": "True",
         "bingroup": "x",
         "histfunc": "sum",
         "hovertemplate": "=Desenvolvimento de modelos de ML<br>Nível=%{x}<br>sum of value (normalized as percent)=%{y}<extra></extra>",
         "legendgroup": "Desenvolvimento de modelos de ML",
         "marker": {
          "color": "#4675ed",
          "pattern": {
           "shape": ""
          }
         },
         "name": "Desenvolvimento de modelos de ML",
         "offsetgroup": "Desenvolvimento de modelos de ML",
         "orientation": "v",
         "showlegend": true,
         "texttemplate": "%{value:.0f}",
         "type": "histogram",
         "x": [
          "Júnior",
          "Pleno",
          "Sênior"
         ],
         "xaxis": "x",
         "y": [
          43,
          53,
          43
         ],
         "yaxis": "y"
        },
        {
         "alignmentgroup": "True",
         "bingroup": "x",
         "histfunc": "sum",
         "hovertemplate": "=Colocação de modelos em produção, criação de pipelines de dados<br>Nível=%{x}<br>sum of value (normalized as percent)=%{y}<extra></extra>",
         "legendgroup": "Colocação de modelos em produção, criação de pipelines de dados",
         "marker": {
          "color": "#39a2fc",
          "pattern": {
           "shape": ""
          }
         },
         "name": "Colocação de modelos em produção, criação de pipelines de dados",
         "offsetgroup": "Colocação de modelos em produção, criação de pipelines de dados",
         "orientation": "v",
         "showlegend": true,
         "texttemplate": "%{value:.0f}",
         "type": "histogram",
         "x": [
          "Júnior",
          "Pleno",
          "Sênior"
         ],
         "xaxis": "x",
         "y": [
          6,
          16,
          12
         ],
         "yaxis": "y"
        },
        {
         "alignmentgroup": "True",
         "bingroup": "x",
         "histfunc": "sum",
         "hovertemplate": "=Manutenção de modelos de ML<br>Nível=%{x}<br>sum of value (normalized as percent)=%{y}<extra></extra>",
         "legendgroup": "Manutenção de modelos de ML",
         "marker": {
          "color": "#1bcfd4",
          "pattern": {
           "shape": ""
          }
         },
         "name": "Manutenção de modelos de ML",
         "offsetgroup": "Manutenção de modelos de ML",
         "orientation": "v",
         "showlegend": true,
         "texttemplate": "%{value:.0f}",
         "type": "histogram",
         "x": [
          "Júnior",
          "Pleno",
          "Sênior"
         ],
         "xaxis": "x",
         "y": [
          14,
          11,
          6
         ],
         "yaxis": "y"
        },
        {
         "alignmentgroup": "True",
         "bingroup": "x",
         "histfunc": "sum",
         "hovertemplate": "=Construção de dashboards / ferramentas de BI<br>Nível=%{x}<br>sum of value (normalized as percent)=%{y}<extra></extra>",
         "legendgroup": "Construção de dashboards / ferramentas de BI",
         "marker": {
          "color": "#24eca6",
          "pattern": {
           "shape": ""
          }
         },
         "name": "Construção de dashboards / ferramentas de BI",
         "offsetgroup": "Construção de dashboards / ferramentas de BI",
         "orientation": "v",
         "showlegend": true,
         "texttemplate": "%{value:.0f}",
         "type": "histogram",
         "x": [
          "Júnior",
          "Pleno",
          "Sênior"
         ],
         "xaxis": "x",
         "y": [
          7,
          4,
          6
         ],
         "yaxis": "y"
        },
        {
         "alignmentgroup": "True",
         "bingroup": "x",
         "histfunc": "sum",
         "hovertemplate": "=Manutenção em ETLs, DAGs e automações<br>Nível=%{x}<br>sum of value (normalized as percent)=%{y}<extra></extra>",
         "legendgroup": "Manutenção em ETLs, DAGs e automações",
         "marker": {
          "color": "#61fc6c",
          "pattern": {
           "shape": ""
          }
         },
         "name": "Manutenção em ETLs, DAGs e automações",
         "offsetgroup": "Manutenção em ETLs, DAGs e automações",
         "orientation": "v",
         "showlegend": true,
         "texttemplate": "%{value:.0f}",
         "type": "histogram",
         "x": [
          "Júnior",
          "Pleno",
          "Sênior"
         ],
         "xaxis": "x",
         "y": [
          3,
          4,
          1
         ],
         "yaxis": "y"
        },
        {
         "alignmentgroup": "True",
         "bingroup": "x",
         "histfunc": "sum",
         "hovertemplate": "=Soluções de Feature Store, Cultura MLOps<br>Nível=%{x}<br>sum of value (normalized as percent)=%{y}<extra></extra>",
         "legendgroup": "Soluções de Feature Store, Cultura MLOps",
         "marker": {
          "color": "#a4fc3b",
          "pattern": {
           "shape": ""
          }
         },
         "name": "Soluções de Feature Store, Cultura MLOps",
         "offsetgroup": "Soluções de Feature Store, Cultura MLOps",
         "orientation": "v",
         "showlegend": true,
         "texttemplate": "%{value:.0f}",
         "type": "histogram",
         "x": [
          "Júnior",
          "Pleno",
          "Sênior"
         ],
         "xaxis": "x",
         "y": [
          1,
          2,
          0
         ],
         "yaxis": "y"
        },
        {
         "alignmentgroup": "True",
         "bingroup": "x",
         "histfunc": "sum",
         "hovertemplate": "=Infra: clusters, servidores, API, containers<br>Nível=%{x}<br>sum of value (normalized as percent)=%{y}<extra></extra>",
         "legendgroup": "Infra: clusters, servidores, API, containers",
         "marker": {
          "color": "#d1e834",
          "pattern": {
           "shape": ""
          }
         },
         "name": "Infra: clusters, servidores, API, containers",
         "offsetgroup": "Infra: clusters, servidores, API, containers",
         "orientation": "v",
         "showlegend": true,
         "texttemplate": "%{value:.0f}",
         "type": "histogram",
         "x": [
          "Júnior",
          "Pleno",
          "Sênior"
         ],
         "xaxis": "x",
         "y": [
          1,
          3,
          0
         ],
         "yaxis": "y"
        }
       ],
       "layout": {
        "barmode": "relative",
        "barnorm": "percent",
        "legend": {
         "title": {
          "text": ""
         },
         "tracegroupgap": 0
        },
        "margin": {
         "t": 60
        },
        "template": {
         "data": {
          "bar": [
           {
            "error_x": {
             "color": "#2a3f5f"
            },
            "error_y": {
             "color": "#2a3f5f"
            },
            "marker": {
             "line": {
              "color": "#E5ECF6",
              "width": 0.5
             },
             "pattern": {
              "fillmode": "overlay",
              "size": 10,
              "solidity": 0.2
             }
            },
            "type": "bar"
           }
          ],
          "barpolar": [
           {
            "marker": {
             "line": {
              "color": "#E5ECF6",
              "width": 0.5
             },
             "pattern": {
              "fillmode": "overlay",
              "size": 10,
              "solidity": 0.2
             }
            },
            "type": "barpolar"
           }
          ],
          "carpet": [
           {
            "aaxis": {
             "endlinecolor": "#2a3f5f",
             "gridcolor": "white",
             "linecolor": "white",
             "minorgridcolor": "white",
             "startlinecolor": "#2a3f5f"
            },
            "baxis": {
             "endlinecolor": "#2a3f5f",
             "gridcolor": "white",
             "linecolor": "white",
             "minorgridcolor": "white",
             "startlinecolor": "#2a3f5f"
            },
            "type": "carpet"
           }
          ],
          "choropleth": [
           {
            "colorbar": {
             "outlinewidth": 0,
             "ticks": ""
            },
            "type": "choropleth"
           }
          ],
          "contour": [
           {
            "colorbar": {
             "outlinewidth": 0,
             "ticks": ""
            },
            "colorscale": [
             [
              0,
              "#0d0887"
             ],
             [
              0.1111111111111111,
              "#46039f"
             ],
             [
              0.2222222222222222,
              "#7201a8"
             ],
             [
              0.3333333333333333,
              "#9c179e"
             ],
             [
              0.4444444444444444,
              "#bd3786"
             ],
             [
              0.5555555555555556,
              "#d8576b"
             ],
             [
              0.6666666666666666,
              "#ed7953"
             ],
             [
              0.7777777777777778,
              "#fb9f3a"
             ],
             [
              0.8888888888888888,
              "#fdca26"
             ],
             [
              1,
              "#f0f921"
             ]
            ],
            "type": "contour"
           }
          ],
          "contourcarpet": [
           {
            "colorbar": {
             "outlinewidth": 0,
             "ticks": ""
            },
            "type": "contourcarpet"
           }
          ],
          "heatmap": [
           {
            "colorbar": {
             "outlinewidth": 0,
             "ticks": ""
            },
            "colorscale": [
             [
              0,
              "#0d0887"
             ],
             [
              0.1111111111111111,
              "#46039f"
             ],
             [
              0.2222222222222222,
              "#7201a8"
             ],
             [
              0.3333333333333333,
              "#9c179e"
             ],
             [
              0.4444444444444444,
              "#bd3786"
             ],
             [
              0.5555555555555556,
              "#d8576b"
             ],
             [
              0.6666666666666666,
              "#ed7953"
             ],
             [
              0.7777777777777778,
              "#fb9f3a"
             ],
             [
              0.8888888888888888,
              "#fdca26"
             ],
             [
              1,
              "#f0f921"
             ]
            ],
            "type": "heatmap"
           }
          ],
          "heatmapgl": [
           {
            "colorbar": {
             "outlinewidth": 0,
             "ticks": ""
            },
            "colorscale": [
             [
              0,
              "#0d0887"
             ],
             [
              0.1111111111111111,
              "#46039f"
             ],
             [
              0.2222222222222222,
              "#7201a8"
             ],
             [
              0.3333333333333333,
              "#9c179e"
             ],
             [
              0.4444444444444444,
              "#bd3786"
             ],
             [
              0.5555555555555556,
              "#d8576b"
             ],
             [
              0.6666666666666666,
              "#ed7953"
             ],
             [
              0.7777777777777778,
              "#fb9f3a"
             ],
             [
              0.8888888888888888,
              "#fdca26"
             ],
             [
              1,
              "#f0f921"
             ]
            ],
            "type": "heatmapgl"
           }
          ],
          "histogram": [
           {
            "marker": {
             "pattern": {
              "fillmode": "overlay",
              "size": 10,
              "solidity": 0.2
             }
            },
            "type": "histogram"
           }
          ],
          "histogram2d": [
           {
            "colorbar": {
             "outlinewidth": 0,
             "ticks": ""
            },
            "colorscale": [
             [
              0,
              "#0d0887"
             ],
             [
              0.1111111111111111,
              "#46039f"
             ],
             [
              0.2222222222222222,
              "#7201a8"
             ],
             [
              0.3333333333333333,
              "#9c179e"
             ],
             [
              0.4444444444444444,
              "#bd3786"
             ],
             [
              0.5555555555555556,
              "#d8576b"
             ],
             [
              0.6666666666666666,
              "#ed7953"
             ],
             [
              0.7777777777777778,
              "#fb9f3a"
             ],
             [
              0.8888888888888888,
              "#fdca26"
             ],
             [
              1,
              "#f0f921"
             ]
            ],
            "type": "histogram2d"
           }
          ],
          "histogram2dcontour": [
           {
            "colorbar": {
             "outlinewidth": 0,
             "ticks": ""
            },
            "colorscale": [
             [
              0,
              "#0d0887"
             ],
             [
              0.1111111111111111,
              "#46039f"
             ],
             [
              0.2222222222222222,
              "#7201a8"
             ],
             [
              0.3333333333333333,
              "#9c179e"
             ],
             [
              0.4444444444444444,
              "#bd3786"
             ],
             [
              0.5555555555555556,
              "#d8576b"
             ],
             [
              0.6666666666666666,
              "#ed7953"
             ],
             [
              0.7777777777777778,
              "#fb9f3a"
             ],
             [
              0.8888888888888888,
              "#fdca26"
             ],
             [
              1,
              "#f0f921"
             ]
            ],
            "type": "histogram2dcontour"
           }
          ],
          "mesh3d": [
           {
            "colorbar": {
             "outlinewidth": 0,
             "ticks": ""
            },
            "type": "mesh3d"
           }
          ],
          "parcoords": [
           {
            "line": {
             "colorbar": {
              "outlinewidth": 0,
              "ticks": ""
             }
            },
            "type": "parcoords"
           }
          ],
          "pie": [
           {
            "automargin": true,
            "type": "pie"
           }
          ],
          "scatter": [
           {
            "fillpattern": {
             "fillmode": "overlay",
             "size": 10,
             "solidity": 0.2
            },
            "type": "scatter"
           }
          ],
          "scatter3d": [
           {
            "line": {
             "colorbar": {
              "outlinewidth": 0,
              "ticks": ""
             }
            },
            "marker": {
             "colorbar": {
              "outlinewidth": 0,
              "ticks": ""
             }
            },
            "type": "scatter3d"
           }
          ],
          "scattercarpet": [
           {
            "marker": {
             "colorbar": {
              "outlinewidth": 0,
              "ticks": ""
             }
            },
            "type": "scattercarpet"
           }
          ],
          "scattergeo": [
           {
            "marker": {
             "colorbar": {
              "outlinewidth": 0,
              "ticks": ""
             }
            },
            "type": "scattergeo"
           }
          ],
          "scattergl": [
           {
            "marker": {
             "colorbar": {
              "outlinewidth": 0,
              "ticks": ""
             }
            },
            "type": "scattergl"
           }
          ],
          "scattermapbox": [
           {
            "marker": {
             "colorbar": {
              "outlinewidth": 0,
              "ticks": ""
             }
            },
            "type": "scattermapbox"
           }
          ],
          "scatterpolar": [
           {
            "marker": {
             "colorbar": {
              "outlinewidth": 0,
              "ticks": ""
             }
            },
            "type": "scatterpolar"
           }
          ],
          "scatterpolargl": [
           {
            "marker": {
             "colorbar": {
              "outlinewidth": 0,
              "ticks": ""
             }
            },
            "type": "scatterpolargl"
           }
          ],
          "scatterternary": [
           {
            "marker": {
             "colorbar": {
              "outlinewidth": 0,
              "ticks": ""
             }
            },
            "type": "scatterternary"
           }
          ],
          "surface": [
           {
            "colorbar": {
             "outlinewidth": 0,
             "ticks": ""
            },
            "colorscale": [
             [
              0,
              "#0d0887"
             ],
             [
              0.1111111111111111,
              "#46039f"
             ],
             [
              0.2222222222222222,
              "#7201a8"
             ],
             [
              0.3333333333333333,
              "#9c179e"
             ],
             [
              0.4444444444444444,
              "#bd3786"
             ],
             [
              0.5555555555555556,
              "#d8576b"
             ],
             [
              0.6666666666666666,
              "#ed7953"
             ],
             [
              0.7777777777777778,
              "#fb9f3a"
             ],
             [
              0.8888888888888888,
              "#fdca26"
             ],
             [
              1,
              "#f0f921"
             ]
            ],
            "type": "surface"
           }
          ],
          "table": [
           {
            "cells": {
             "fill": {
              "color": "#EBF0F8"
             },
             "line": {
              "color": "white"
             }
            },
            "header": {
             "fill": {
              "color": "#C8D4E3"
             },
             "line": {
              "color": "white"
             }
            },
            "type": "table"
           }
          ]
         },
         "layout": {
          "annotationdefaults": {
           "arrowcolor": "#2a3f5f",
           "arrowhead": 0,
           "arrowwidth": 1
          },
          "autotypenumbers": "strict",
          "coloraxis": {
           "colorbar": {
            "outlinewidth": 0,
            "ticks": ""
           }
          },
          "colorscale": {
           "diverging": [
            [
             0,
             "#8e0152"
            ],
            [
             0.1,
             "#c51b7d"
            ],
            [
             0.2,
             "#de77ae"
            ],
            [
             0.3,
             "#f1b6da"
            ],
            [
             0.4,
             "#fde0ef"
            ],
            [
             0.5,
             "#f7f7f7"
            ],
            [
             0.6,
             "#e6f5d0"
            ],
            [
             0.7,
             "#b8e186"
            ],
            [
             0.8,
             "#7fbc41"
            ],
            [
             0.9,
             "#4d9221"
            ],
            [
             1,
             "#276419"
            ]
           ],
           "sequential": [
            [
             0,
             "#0d0887"
            ],
            [
             0.1111111111111111,
             "#46039f"
            ],
            [
             0.2222222222222222,
             "#7201a8"
            ],
            [
             0.3333333333333333,
             "#9c179e"
            ],
            [
             0.4444444444444444,
             "#bd3786"
            ],
            [
             0.5555555555555556,
             "#d8576b"
            ],
            [
             0.6666666666666666,
             "#ed7953"
            ],
            [
             0.7777777777777778,
             "#fb9f3a"
            ],
            [
             0.8888888888888888,
             "#fdca26"
            ],
            [
             1,
             "#f0f921"
            ]
           ],
           "sequentialminus": [
            [
             0,
             "#0d0887"
            ],
            [
             0.1111111111111111,
             "#46039f"
            ],
            [
             0.2222222222222222,
             "#7201a8"
            ],
            [
             0.3333333333333333,
             "#9c179e"
            ],
            [
             0.4444444444444444,
             "#bd3786"
            ],
            [
             0.5555555555555556,
             "#d8576b"
            ],
            [
             0.6666666666666666,
             "#ed7953"
            ],
            [
             0.7777777777777778,
             "#fb9f3a"
            ],
            [
             0.8888888888888888,
             "#fdca26"
            ],
            [
             1,
             "#f0f921"
            ]
           ]
          },
          "colorway": [
           "#636efa",
           "#EF553B",
           "#00cc96",
           "#ab63fa",
           "#FFA15A",
           "#19d3f3",
           "#FF6692",
           "#B6E880",
           "#FF97FF",
           "#FECB52"
          ],
          "font": {
           "color": "#2a3f5f"
          },
          "geo": {
           "bgcolor": "white",
           "lakecolor": "white",
           "landcolor": "#E5ECF6",
           "showlakes": true,
           "showland": true,
           "subunitcolor": "white"
          },
          "hoverlabel": {
           "align": "left"
          },
          "hovermode": "closest",
          "mapbox": {
           "style": "light"
          },
          "paper_bgcolor": "white",
          "plot_bgcolor": "#E5ECF6",
          "polar": {
           "angularaxis": {
            "gridcolor": "white",
            "linecolor": "white",
            "ticks": ""
           },
           "bgcolor": "#E5ECF6",
           "radialaxis": {
            "gridcolor": "white",
            "linecolor": "white",
            "ticks": ""
           }
          },
          "scene": {
           "xaxis": {
            "backgroundcolor": "#E5ECF6",
            "gridcolor": "white",
            "gridwidth": 2,
            "linecolor": "white",
            "showbackground": true,
            "ticks": "",
            "zerolinecolor": "white"
           },
           "yaxis": {
            "backgroundcolor": "#E5ECF6",
            "gridcolor": "white",
            "gridwidth": 2,
            "linecolor": "white",
            "showbackground": true,
            "ticks": "",
            "zerolinecolor": "white"
           },
           "zaxis": {
            "backgroundcolor": "#E5ECF6",
            "gridcolor": "white",
            "gridwidth": 2,
            "linecolor": "white",
            "showbackground": true,
            "ticks": "",
            "zerolinecolor": "white"
           }
          },
          "shapedefaults": {
           "line": {
            "color": "#2a3f5f"
           }
          },
          "ternary": {
           "aaxis": {
            "gridcolor": "white",
            "linecolor": "white",
            "ticks": ""
           },
           "baxis": {
            "gridcolor": "white",
            "linecolor": "white",
            "ticks": ""
           },
           "bgcolor": "#E5ECF6",
           "caxis": {
            "gridcolor": "white",
            "linecolor": "white",
            "ticks": ""
           }
          },
          "title": {
           "x": 0.05
          },
          "xaxis": {
           "automargin": true,
           "gridcolor": "white",
           "linecolor": "white",
           "ticks": "",
           "title": {
            "standoff": 15
           },
           "zerolinecolor": "white",
           "zerolinewidth": 2
          },
          "yaxis": {
           "automargin": true,
           "gridcolor": "white",
           "linecolor": "white",
           "ticks": "",
           "title": {
            "standoff": 15
           },
           "zerolinecolor": "white",
           "zerolinewidth": 2
          }
         }
        },
        "title": {
         "text": "Cientista de Dados: Atividade em que se gasta mais tempo",
         "x": 0.5
        },
        "xaxis": {
         "anchor": "y",
         "domain": [
          0,
          1
         ],
         "title": {
          "text": "Nível"
         }
        },
        "yaxis": {
         "anchor": "x",
         "domain": [
          0,
          1
         ],
         "title": {
          "text": "Percent"
         }
        }
       }
      }
     },
     "metadata": {},
     "output_type": "display_data"
    }
   ],
   "source": [
    "fig =px.histogram(df_atividade_melt_sg, y='value', color=\"variable\", x=\"('P2_g ', 'Nivel')\",barnorm='percent',text_auto='.0f', color_discrete_sequence= px.colors.sequential.Turbo, barmode='relative',labels={\"variable\":\"\",\"('P2_g ', 'Nivel')\":\"Nível\"})\n",
    "fig.update_layout(title={\"text\": \"Cientista de Dados: Atividade em que se gasta mais tempo\", \"x\": 0.5}, yaxis_title=\"Percent\")\n",
    "fig.show()"
   ]
  },
  {
   "cell_type": "code",
   "execution_count": 24,
   "metadata": {},
   "outputs": [
    {
     "data": {
      "application/vnd.plotly.v1+json": {
       "config": {
        "plotlyServerURL": "https://plot.ly"
       },
       "data": [
        {
         "alignmentgroup": "True",
         "bingroup": "y",
         "histfunc": "sum",
         "hovertemplate": "=%{y}<br>sum of 0 (normalized as percent)=%{x}<extra></extra>",
         "legendgroup": "Estudos Ad-hoc com o objetivo de confirmar hipóteses, realizar modelos preditivos, forecasts, análise de cluster para resolver problemas pontuais e responder perguntas das áreas de negócio.",
         "marker": {
          "color": "#30123b",
          "pattern": {
           "shape": ""
          }
         },
         "name": "Estudos Ad-hoc com o objetivo de confirmar hipóteses, realizar modelos preditivos, forecasts, análise de cluster para resolver problemas pontuais e responder perguntas das áreas de negócio.",
         "offsetgroup": "Estudos Ad-hoc com o objetivo de confirmar hipóteses, realizar modelos preditivos, forecasts, análise de cluster para resolver problemas pontuais e responder perguntas das áreas de negócio.",
         "orientation": "h",
         "showlegend": true,
         "texttemplate": "%{value:.01f}",
         "type": "histogram",
         "x": [
          276
         ],
         "xaxis": "x",
         "y": [
          "x"
         ],
         "yaxis": "y"
        },
        {
         "alignmentgroup": "True",
         "bingroup": "y",
         "histfunc": "sum",
         "hovertemplate": "=%{y}<br>sum of 0 (normalized as percent)=%{x}<extra></extra>",
         "legendgroup": "Sou responsável pela coleta e limpeza dos dados que uso para análise e modelagem.",
         "marker": {
          "color": "#4145ab",
          "pattern": {
           "shape": ""
          }
         },
         "name": "Sou responsável pela coleta e limpeza dos dados que uso para análise e modelagem.",
         "offsetgroup": "Sou responsável pela coleta e limpeza dos dados que uso para análise e modelagem.",
         "orientation": "h",
         "showlegend": true,
         "texttemplate": "%{value:.01f}",
         "type": "histogram",
         "x": [
          258
         ],
         "xaxis": "x",
         "y": [
          "x"
         ],
         "yaxis": "y"
        },
        {
         "alignmentgroup": "True",
         "bingroup": "y",
         "histfunc": "sum",
         "hovertemplate": "=%{y}<br>sum of 0 (normalized as percent)=%{x}<extra></extra>",
         "legendgroup": "Sou responsável por entrar em contato com os times de negócio para definição do problema, identificar a solução e apresentação de resultados.",
         "marker": {
          "color": "#4675ed",
          "pattern": {
           "shape": ""
          }
         },
         "name": "Sou responsável por entrar em contato com os times de negócio para definição do problema, identificar a solução e apresentação de resultados.",
         "offsetgroup": "Sou responsável por entrar em contato com os times de negócio para definição do problema, identificar a solução e apresentação de resultados.",
         "orientation": "h",
         "showlegend": true,
         "texttemplate": "%{value:.01f}",
         "type": "histogram",
         "x": [
          226
         ],
         "xaxis": "x",
         "y": [
          "x"
         ],
         "yaxis": "y"
        },
        {
         "alignmentgroup": "True",
         "bingroup": "y",
         "histfunc": "sum",
         "hovertemplate": "=%{y}<br>sum of 0 (normalized as percent)=%{x}<extra></extra>",
         "legendgroup": "Desenvolvo modelos de Machine Learning com o objetivo de colocar em produção em sistemas (produtos de dados).",
         "marker": {
          "color": "#39a2fc",
          "pattern": {
           "shape": ""
          }
         },
         "name": "Desenvolvo modelos de Machine Learning com o objetivo de colocar em produção em sistemas (produtos de dados).",
         "offsetgroup": "Desenvolvo modelos de Machine Learning com o objetivo de colocar em produção em sistemas (produtos de dados).",
         "orientation": "h",
         "showlegend": true,
         "texttemplate": "%{value:.01f}",
         "type": "histogram",
         "x": [
          294
         ],
         "xaxis": "x",
         "y": [
          "x"
         ],
         "yaxis": "y"
        },
        {
         "alignmentgroup": "True",
         "bingroup": "y",
         "histfunc": "sum",
         "hovertemplate": "=%{y}<br>sum of 0 (normalized as percent)=%{x}<extra></extra>",
         "legendgroup": "Sou responsável por colocar modelos em produção, criar os pipelines de dados, APIs de consumo e monitoramento.",
         "marker": {
          "color": "#1bcfd4",
          "pattern": {
           "shape": ""
          }
         },
         "name": "Sou responsável por colocar modelos em produção, criar os pipelines de dados, APIs de consumo e monitoramento.",
         "offsetgroup": "Sou responsável por colocar modelos em produção, criar os pipelines de dados, APIs de consumo e monitoramento.",
         "orientation": "h",
         "showlegend": true,
         "texttemplate": "%{value:.01f}",
         "type": "histogram",
         "x": [
          144
         ],
         "xaxis": "x",
         "y": [
          "x"
         ],
         "yaxis": "y"
        },
        {
         "alignmentgroup": "True",
         "bingroup": "y",
         "histfunc": "sum",
         "hovertemplate": "=%{y}<br>sum of 0 (normalized as percent)=%{x}<extra></extra>",
         "legendgroup": "Cuido da manutenção de modelos de Machine Learning já em produção, atuando no monitoramento, ajustes e refatoração quando necessário.",
         "marker": {
          "color": "#24eca6",
          "pattern": {
           "shape": ""
          }
         },
         "name": "Cuido da manutenção de modelos de Machine Learning já em produção, atuando no monitoramento, ajustes e refatoração quando necessário.",
         "offsetgroup": "Cuido da manutenção de modelos de Machine Learning já em produção, atuando no monitoramento, ajustes e refatoração quando necessário.",
         "orientation": "h",
         "showlegend": true,
         "texttemplate": "%{value:.01f}",
         "type": "histogram",
         "x": [
          142
         ],
         "xaxis": "x",
         "y": [
          "x"
         ],
         "yaxis": "y"
        },
        {
         "alignmentgroup": "True",
         "bingroup": "y",
         "histfunc": "sum",
         "hovertemplate": "=%{y}<br>sum of 0 (normalized as percent)=%{x}<extra></extra>",
         "legendgroup": "Realizo construções de dashboards em ferramentas de BI como PowerBI, Tableau, Looker, Qlik, etc')",
         "marker": {
          "color": "#61fc6c",
          "pattern": {
           "shape": ""
          }
         },
         "name": "Realizo construções de dashboards em ferramentas de BI como PowerBI, Tableau, Looker, Qlik, etc')",
         "offsetgroup": "Realizo construções de dashboards em ferramentas de BI como PowerBI, Tableau, Looker, Qlik, etc')",
         "orientation": "h",
         "showlegend": true,
         "texttemplate": "%{value:.01f}",
         "type": "histogram",
         "x": [
          104
         ],
         "xaxis": "x",
         "y": [
          "x"
         ],
         "yaxis": "y"
        },
        {
         "alignmentgroup": "True",
         "bingroup": "y",
         "histfunc": "sum",
         "hovertemplate": "=%{y}<br>sum of 0 (normalized as percent)=%{x}<extra></extra>",
         "legendgroup": "Utilizo ferramentas avançadas de estatística como SAS, SPSS, Stata etc, para realizar análises estatísticas e ajustar modelos.Crio e dou manutenção em ETLs, DAGs e automações de pipelines de dados.",
         "marker": {
          "color": "#a4fc3b",
          "pattern": {
           "shape": ""
          }
         },
         "name": "Utilizo ferramentas avançadas de estatística como SAS, SPSS, Stata etc, para realizar análises estatísticas e ajustar modelos.Crio e dou manutenção em ETLs, DAGs e automações de pipelines de dados.",
         "offsetgroup": "Utilizo ferramentas avançadas de estatística como SAS, SPSS, Stata etc, para realizar análises estatísticas e ajustar modelos.Crio e dou manutenção em ETLs, DAGs e automações de pipelines de dados.",
         "orientation": "h",
         "showlegend": true,
         "texttemplate": "%{value:.01f}",
         "type": "histogram",
         "x": [
          35
         ],
         "xaxis": "x",
         "y": [
          "x"
         ],
         "yaxis": "y"
        },
        {
         "alignmentgroup": "True",
         "bingroup": "y",
         "histfunc": "sum",
         "hovertemplate": "=%{y}<br>sum of 0 (normalized as percent)=%{x}<extra></extra>",
         "legendgroup": "Sou responsável por criar e manter a infra que meus modelos e soluções rodam (clusters, servidores, API, containers, etc.",
         "marker": {
          "color": "#d1e834",
          "pattern": {
           "shape": ""
          }
         },
         "name": "Sou responsável por criar e manter a infra que meus modelos e soluções rodam (clusters, servidores, API, containers, etc.",
         "offsetgroup": "Sou responsável por criar e manter a infra que meus modelos e soluções rodam (clusters, servidores, API, containers, etc.",
         "orientation": "h",
         "showlegend": true,
         "texttemplate": "%{value:.01f}",
         "type": "histogram",
         "x": [
          43
         ],
         "xaxis": "x",
         "y": [
          "x"
         ],
         "yaxis": "y"
        }
       ],
       "layout": {
        "barmode": "relative",
        "barnorm": "percent",
        "height": 550,
        "legend": {
         "orientation": "h",
         "title": {
          "text": ""
         },
         "tracegroupgap": 0
        },
        "margin": {
         "t": 60
        },
        "template": {
         "data": {
          "bar": [
           {
            "error_x": {
             "color": "#2a3f5f"
            },
            "error_y": {
             "color": "#2a3f5f"
            },
            "marker": {
             "line": {
              "color": "#E5ECF6",
              "width": 0.5
             },
             "pattern": {
              "fillmode": "overlay",
              "size": 10,
              "solidity": 0.2
             }
            },
            "type": "bar"
           }
          ],
          "barpolar": [
           {
            "marker": {
             "line": {
              "color": "#E5ECF6",
              "width": 0.5
             },
             "pattern": {
              "fillmode": "overlay",
              "size": 10,
              "solidity": 0.2
             }
            },
            "type": "barpolar"
           }
          ],
          "carpet": [
           {
            "aaxis": {
             "endlinecolor": "#2a3f5f",
             "gridcolor": "white",
             "linecolor": "white",
             "minorgridcolor": "white",
             "startlinecolor": "#2a3f5f"
            },
            "baxis": {
             "endlinecolor": "#2a3f5f",
             "gridcolor": "white",
             "linecolor": "white",
             "minorgridcolor": "white",
             "startlinecolor": "#2a3f5f"
            },
            "type": "carpet"
           }
          ],
          "choropleth": [
           {
            "colorbar": {
             "outlinewidth": 0,
             "ticks": ""
            },
            "type": "choropleth"
           }
          ],
          "contour": [
           {
            "colorbar": {
             "outlinewidth": 0,
             "ticks": ""
            },
            "colorscale": [
             [
              0,
              "#0d0887"
             ],
             [
              0.1111111111111111,
              "#46039f"
             ],
             [
              0.2222222222222222,
              "#7201a8"
             ],
             [
              0.3333333333333333,
              "#9c179e"
             ],
             [
              0.4444444444444444,
              "#bd3786"
             ],
             [
              0.5555555555555556,
              "#d8576b"
             ],
             [
              0.6666666666666666,
              "#ed7953"
             ],
             [
              0.7777777777777778,
              "#fb9f3a"
             ],
             [
              0.8888888888888888,
              "#fdca26"
             ],
             [
              1,
              "#f0f921"
             ]
            ],
            "type": "contour"
           }
          ],
          "contourcarpet": [
           {
            "colorbar": {
             "outlinewidth": 0,
             "ticks": ""
            },
            "type": "contourcarpet"
           }
          ],
          "heatmap": [
           {
            "colorbar": {
             "outlinewidth": 0,
             "ticks": ""
            },
            "colorscale": [
             [
              0,
              "#0d0887"
             ],
             [
              0.1111111111111111,
              "#46039f"
             ],
             [
              0.2222222222222222,
              "#7201a8"
             ],
             [
              0.3333333333333333,
              "#9c179e"
             ],
             [
              0.4444444444444444,
              "#bd3786"
             ],
             [
              0.5555555555555556,
              "#d8576b"
             ],
             [
              0.6666666666666666,
              "#ed7953"
             ],
             [
              0.7777777777777778,
              "#fb9f3a"
             ],
             [
              0.8888888888888888,
              "#fdca26"
             ],
             [
              1,
              "#f0f921"
             ]
            ],
            "type": "heatmap"
           }
          ],
          "heatmapgl": [
           {
            "colorbar": {
             "outlinewidth": 0,
             "ticks": ""
            },
            "colorscale": [
             [
              0,
              "#0d0887"
             ],
             [
              0.1111111111111111,
              "#46039f"
             ],
             [
              0.2222222222222222,
              "#7201a8"
             ],
             [
              0.3333333333333333,
              "#9c179e"
             ],
             [
              0.4444444444444444,
              "#bd3786"
             ],
             [
              0.5555555555555556,
              "#d8576b"
             ],
             [
              0.6666666666666666,
              "#ed7953"
             ],
             [
              0.7777777777777778,
              "#fb9f3a"
             ],
             [
              0.8888888888888888,
              "#fdca26"
             ],
             [
              1,
              "#f0f921"
             ]
            ],
            "type": "heatmapgl"
           }
          ],
          "histogram": [
           {
            "marker": {
             "pattern": {
              "fillmode": "overlay",
              "size": 10,
              "solidity": 0.2
             }
            },
            "type": "histogram"
           }
          ],
          "histogram2d": [
           {
            "colorbar": {
             "outlinewidth": 0,
             "ticks": ""
            },
            "colorscale": [
             [
              0,
              "#0d0887"
             ],
             [
              0.1111111111111111,
              "#46039f"
             ],
             [
              0.2222222222222222,
              "#7201a8"
             ],
             [
              0.3333333333333333,
              "#9c179e"
             ],
             [
              0.4444444444444444,
              "#bd3786"
             ],
             [
              0.5555555555555556,
              "#d8576b"
             ],
             [
              0.6666666666666666,
              "#ed7953"
             ],
             [
              0.7777777777777778,
              "#fb9f3a"
             ],
             [
              0.8888888888888888,
              "#fdca26"
             ],
             [
              1,
              "#f0f921"
             ]
            ],
            "type": "histogram2d"
           }
          ],
          "histogram2dcontour": [
           {
            "colorbar": {
             "outlinewidth": 0,
             "ticks": ""
            },
            "colorscale": [
             [
              0,
              "#0d0887"
             ],
             [
              0.1111111111111111,
              "#46039f"
             ],
             [
              0.2222222222222222,
              "#7201a8"
             ],
             [
              0.3333333333333333,
              "#9c179e"
             ],
             [
              0.4444444444444444,
              "#bd3786"
             ],
             [
              0.5555555555555556,
              "#d8576b"
             ],
             [
              0.6666666666666666,
              "#ed7953"
             ],
             [
              0.7777777777777778,
              "#fb9f3a"
             ],
             [
              0.8888888888888888,
              "#fdca26"
             ],
             [
              1,
              "#f0f921"
             ]
            ],
            "type": "histogram2dcontour"
           }
          ],
          "mesh3d": [
           {
            "colorbar": {
             "outlinewidth": 0,
             "ticks": ""
            },
            "type": "mesh3d"
           }
          ],
          "parcoords": [
           {
            "line": {
             "colorbar": {
              "outlinewidth": 0,
              "ticks": ""
             }
            },
            "type": "parcoords"
           }
          ],
          "pie": [
           {
            "automargin": true,
            "type": "pie"
           }
          ],
          "scatter": [
           {
            "fillpattern": {
             "fillmode": "overlay",
             "size": 10,
             "solidity": 0.2
            },
            "type": "scatter"
           }
          ],
          "scatter3d": [
           {
            "line": {
             "colorbar": {
              "outlinewidth": 0,
              "ticks": ""
             }
            },
            "marker": {
             "colorbar": {
              "outlinewidth": 0,
              "ticks": ""
             }
            },
            "type": "scatter3d"
           }
          ],
          "scattercarpet": [
           {
            "marker": {
             "colorbar": {
              "outlinewidth": 0,
              "ticks": ""
             }
            },
            "type": "scattercarpet"
           }
          ],
          "scattergeo": [
           {
            "marker": {
             "colorbar": {
              "outlinewidth": 0,
              "ticks": ""
             }
            },
            "type": "scattergeo"
           }
          ],
          "scattergl": [
           {
            "marker": {
             "colorbar": {
              "outlinewidth": 0,
              "ticks": ""
             }
            },
            "type": "scattergl"
           }
          ],
          "scattermapbox": [
           {
            "marker": {
             "colorbar": {
              "outlinewidth": 0,
              "ticks": ""
             }
            },
            "type": "scattermapbox"
           }
          ],
          "scatterpolar": [
           {
            "marker": {
             "colorbar": {
              "outlinewidth": 0,
              "ticks": ""
             }
            },
            "type": "scatterpolar"
           }
          ],
          "scatterpolargl": [
           {
            "marker": {
             "colorbar": {
              "outlinewidth": 0,
              "ticks": ""
             }
            },
            "type": "scatterpolargl"
           }
          ],
          "scatterternary": [
           {
            "marker": {
             "colorbar": {
              "outlinewidth": 0,
              "ticks": ""
             }
            },
            "type": "scatterternary"
           }
          ],
          "surface": [
           {
            "colorbar": {
             "outlinewidth": 0,
             "ticks": ""
            },
            "colorscale": [
             [
              0,
              "#0d0887"
             ],
             [
              0.1111111111111111,
              "#46039f"
             ],
             [
              0.2222222222222222,
              "#7201a8"
             ],
             [
              0.3333333333333333,
              "#9c179e"
             ],
             [
              0.4444444444444444,
              "#bd3786"
             ],
             [
              0.5555555555555556,
              "#d8576b"
             ],
             [
              0.6666666666666666,
              "#ed7953"
             ],
             [
              0.7777777777777778,
              "#fb9f3a"
             ],
             [
              0.8888888888888888,
              "#fdca26"
             ],
             [
              1,
              "#f0f921"
             ]
            ],
            "type": "surface"
           }
          ],
          "table": [
           {
            "cells": {
             "fill": {
              "color": "#EBF0F8"
             },
             "line": {
              "color": "white"
             }
            },
            "header": {
             "fill": {
              "color": "#C8D4E3"
             },
             "line": {
              "color": "white"
             }
            },
            "type": "table"
           }
          ]
         },
         "layout": {
          "annotationdefaults": {
           "arrowcolor": "#2a3f5f",
           "arrowhead": 0,
           "arrowwidth": 1
          },
          "autotypenumbers": "strict",
          "coloraxis": {
           "colorbar": {
            "outlinewidth": 0,
            "ticks": ""
           }
          },
          "colorscale": {
           "diverging": [
            [
             0,
             "#8e0152"
            ],
            [
             0.1,
             "#c51b7d"
            ],
            [
             0.2,
             "#de77ae"
            ],
            [
             0.3,
             "#f1b6da"
            ],
            [
             0.4,
             "#fde0ef"
            ],
            [
             0.5,
             "#f7f7f7"
            ],
            [
             0.6,
             "#e6f5d0"
            ],
            [
             0.7,
             "#b8e186"
            ],
            [
             0.8,
             "#7fbc41"
            ],
            [
             0.9,
             "#4d9221"
            ],
            [
             1,
             "#276419"
            ]
           ],
           "sequential": [
            [
             0,
             "#0d0887"
            ],
            [
             0.1111111111111111,
             "#46039f"
            ],
            [
             0.2222222222222222,
             "#7201a8"
            ],
            [
             0.3333333333333333,
             "#9c179e"
            ],
            [
             0.4444444444444444,
             "#bd3786"
            ],
            [
             0.5555555555555556,
             "#d8576b"
            ],
            [
             0.6666666666666666,
             "#ed7953"
            ],
            [
             0.7777777777777778,
             "#fb9f3a"
            ],
            [
             0.8888888888888888,
             "#fdca26"
            ],
            [
             1,
             "#f0f921"
            ]
           ],
           "sequentialminus": [
            [
             0,
             "#0d0887"
            ],
            [
             0.1111111111111111,
             "#46039f"
            ],
            [
             0.2222222222222222,
             "#7201a8"
            ],
            [
             0.3333333333333333,
             "#9c179e"
            ],
            [
             0.4444444444444444,
             "#bd3786"
            ],
            [
             0.5555555555555556,
             "#d8576b"
            ],
            [
             0.6666666666666666,
             "#ed7953"
            ],
            [
             0.7777777777777778,
             "#fb9f3a"
            ],
            [
             0.8888888888888888,
             "#fdca26"
            ],
            [
             1,
             "#f0f921"
            ]
           ]
          },
          "colorway": [
           "#636efa",
           "#EF553B",
           "#00cc96",
           "#ab63fa",
           "#FFA15A",
           "#19d3f3",
           "#FF6692",
           "#B6E880",
           "#FF97FF",
           "#FECB52"
          ],
          "font": {
           "color": "#2a3f5f"
          },
          "geo": {
           "bgcolor": "white",
           "lakecolor": "white",
           "landcolor": "#E5ECF6",
           "showlakes": true,
           "showland": true,
           "subunitcolor": "white"
          },
          "hoverlabel": {
           "align": "left"
          },
          "hovermode": "closest",
          "mapbox": {
           "style": "light"
          },
          "paper_bgcolor": "white",
          "plot_bgcolor": "#E5ECF6",
          "polar": {
           "angularaxis": {
            "gridcolor": "white",
            "linecolor": "white",
            "ticks": ""
           },
           "bgcolor": "#E5ECF6",
           "radialaxis": {
            "gridcolor": "white",
            "linecolor": "white",
            "ticks": ""
           }
          },
          "scene": {
           "xaxis": {
            "backgroundcolor": "#E5ECF6",
            "gridcolor": "white",
            "gridwidth": 2,
            "linecolor": "white",
            "showbackground": true,
            "ticks": "",
            "zerolinecolor": "white"
           },
           "yaxis": {
            "backgroundcolor": "#E5ECF6",
            "gridcolor": "white",
            "gridwidth": 2,
            "linecolor": "white",
            "showbackground": true,
            "ticks": "",
            "zerolinecolor": "white"
           },
           "zaxis": {
            "backgroundcolor": "#E5ECF6",
            "gridcolor": "white",
            "gridwidth": 2,
            "linecolor": "white",
            "showbackground": true,
            "ticks": "",
            "zerolinecolor": "white"
           }
          },
          "shapedefaults": {
           "line": {
            "color": "#2a3f5f"
           }
          },
          "ternary": {
           "aaxis": {
            "gridcolor": "white",
            "linecolor": "white",
            "ticks": ""
           },
           "baxis": {
            "gridcolor": "white",
            "linecolor": "white",
            "ticks": ""
           },
           "bgcolor": "#E5ECF6",
           "caxis": {
            "gridcolor": "white",
            "linecolor": "white",
            "ticks": ""
           }
          },
          "title": {
           "x": 0.05
          },
          "xaxis": {
           "automargin": true,
           "gridcolor": "white",
           "linecolor": "white",
           "ticks": "",
           "title": {
            "standoff": 15
           },
           "zerolinecolor": "white",
           "zerolinewidth": 2
          },
          "yaxis": {
           "automargin": true,
           "gridcolor": "white",
           "linecolor": "white",
           "ticks": "",
           "title": {
            "standoff": 15
           },
           "zerolinecolor": "white",
           "zerolinewidth": 2
          }
         }
        },
        "title": {
         "text": "Atividades que compõe a rotina de trabalho do cientista de dados",
         "x": 0.5
        },
        "xaxis": {
         "anchor": "y",
         "domain": [
          0,
          1
         ],
         "title": {
          "text": "%"
         }
        },
        "yaxis": {
         "anchor": "x",
         "domain": [
          0,
          1
         ],
         "title": {
          "text": ""
         }
        }
       }
      }
     },
     "metadata": {},
     "output_type": "display_data"
    }
   ],
   "source": [
    "fig =px.histogram(atv, y='x', color=\"index\", x=0, barnorm='percent',text_auto='.01f', color_discrete_sequence= px.colors.sequential.Turbo, barmode='relative',labels={\"index\":\"\",\"x\":\"\", \"x\":\"\"}, height=550)\n",
    "fig.update_layout(title={\"text\": \"Atividades que compõe a rotina de trabalho do cientista de dados\", \"x\": 0.5}, xaxis_title=\"%\")\n",
    "#fig.update_traces(width=30)\n",
    "fig.update_layout(legend_orientation='h')\n",
    "\n",
    "fig.show()"
   ]
  },
  {
   "cell_type": "markdown",
   "metadata": {},
   "source": [
    "## Parte 3: perfil salarial dos respondentes\n",
    "\n",
    "Nesta terceira parte da EDA, vamos caracterizar aspectos salariais dos respondentes do questionário.\n",
    "Algumas das perguntas que queremos responder são:\n",
    "- Como é a distribuição pelas faixas de salário?\n",
    "- Como as distribuições das faixas salariais variam em função de profissão, região, gênero, vínculo empregatício, senioridade e experiência?"
   ]
  },
  {
   "cell_type": "markdown",
   "metadata": {},
   "source": [
    "### Histograma de distribuição salarial\n",
    "* A maior concentração está na faixa R$ 8k-12k (moda 479 ocorrências), o histograma é unimodal\n",
    "* As categorias mínima e máxima respondem pelas menores ocorrências (32 e 34 respectivamente)\n",
    "* A mediana está à esquerda da moda (distribuição deslocada à esquerda)"
   ]
  },
  {
   "cell_type": "code",
   "execution_count": 25,
   "metadata": {},
   "outputs": [
    {
     "data": {
      "image/png": "[encoded data removed]",
      "text/plain": [
       "<Figure size 1296x432 with 1 Axes>"
      ]
     },
     "metadata": {
      "needs_background": "light"
     },
     "output_type": "display_data"
    }
   ],
   "source": [
    "fig = plt.figure(figsize=(18,6))\n",
    "ax = sns.countplot(data=df, x=\"('P2_h ', 'Faixa salarial')\", palette='turbo')\n",
    "ax.bar_label(ax.containers[0])\n",
    "ax.set(xlabel=\"\",ylabel=\"Contagem\")\n",
    "ax.set_title('Distribuição dos respondentes por faixa-salarial', fontsize=13)\n",
    "\n",
    "plt.show()"
   ]
  },
  {
   "cell_type": "markdown",
   "metadata": {},
   "source": [
    "Proporcionalmente, o Engenheiro de Dados apresenta ganhos nas faixas superiores mais frequentes do que o Cientista de Dados que, por sua vez, possui ganhos superiores mais frequentes do que o Analista de Dados.  \n",
    "A faixa salarial mais frequente do Cientista de dados é R$8k-12k, e 5% dos Cientistas de dados estão na faixa acima de R$20k."
   ]
  },
  {
   "cell_type": "code",
   "execution_count": 26,
   "metadata": {},
   "outputs": [
    {
     "data": {
      "application/vnd.plotly.v1+json": {
       "config": {
        "plotlyServerURL": "https://plot.ly"
       },
       "data": [
        {
         "alignmentgroup": "True",
         "bingroup": "x",
         "histfunc": "sum",
         "hovertemplate": "= < R$2k<br>Profissão=%{x}<br>sum of value (normalized as percent)=%{y}<extra></extra>",
         "legendgroup": " < R$2k",
         "marker": {
          "color": "#30123b",
          "line": {
           "width": 0
          },
          "pattern": {
           "shape": ""
          }
         },
         "name": " < R$2k",
         "offsetgroup": " < R$2k",
         "orientation": "v",
         "showlegend": true,
         "texttemplate": "%{value:.0f}",
         "type": "histogram",
         "x": [
          "Analista Dados",
          "Analista Dados",
          "Cientista Dados",
          "Cientista Dados",
          "Engenheiro Dados",
          "Engenheiro Dados"
         ],
         "xaxis": "x",
         "y": [
          1.5312131919905771,
          7.538280329799764,
          1.6990291262135921,
          6.067961165048544,
          0.24752475247524752,
          2.4752475247524752
         ],
         "yaxis": "y"
        },
        {
         "alignmentgroup": "True",
         "bingroup": "x",
         "histfunc": "sum",
         "hovertemplate": "=R$2k-3k<br>Profissão=%{x}<br>sum of value (normalized as percent)=%{y}<extra></extra>",
         "legendgroup": "R$2k-3k",
         "marker": {
          "color": "#4145ab",
          "line": {
           "width": 0
          },
          "pattern": {
           "shape": ""
          }
         },
         "name": "R$2k-3k",
         "offsetgroup": "R$2k-3k",
         "orientation": "v",
         "showlegend": true,
         "texttemplate": "%{value:.0f}",
         "type": "histogram",
         "x": [
          "Analista Dados",
          "Cientista Dados",
          "Engenheiro Dados"
         ],
         "xaxis": "x",
         "y": [
          12.48527679623086,
          3.8834951456310676,
          4.9504950495049505
         ],
         "yaxis": "y"
        },
        {
         "alignmentgroup": "True",
         "bingroup": "x",
         "histfunc": "sum",
         "hovertemplate": "=R$3k-4k<br>Profissão=%{x}<br>sum of value (normalized as percent)=%{y}<extra></extra>",
         "legendgroup": "R$3k-4k",
         "marker": {
          "color": "#4675ed",
          "line": {
           "width": 0
          },
          "pattern": {
           "shape": ""
          }
         },
         "name": "R$3k-4k",
         "offsetgroup": "R$3k-4k",
         "orientation": "v",
         "showlegend": true,
         "texttemplate": "%{value:.0f}",
         "type": "histogram",
         "x": [
          "Analista Dados",
          "Cientista Dados",
          "Engenheiro Dados"
         ],
         "xaxis": "x",
         "y": [
          12.36749116607774,
          5.582524271844661,
          6.9306930693069315
         ],
         "yaxis": "y"
        },
        {
         "alignmentgroup": "True",
         "bingroup": "x",
         "histfunc": "sum",
         "hovertemplate": "=R$4k-6k<br>Profissão=%{x}<br>sum of value (normalized as percent)=%{y}<extra></extra>",
         "legendgroup": "R$4k-6k",
         "marker": {
          "color": "#39a2fc",
          "line": {
           "width": 0
          },
          "pattern": {
           "shape": ""
          }
         },
         "name": "R$4k-6k",
         "offsetgroup": "R$4k-6k",
         "orientation": "v",
         "showlegend": true,
         "texttemplate": "%{value:.0f}",
         "type": "histogram",
         "x": [
          "Analista Dados",
          "Cientista Dados",
          "Engenheiro Dados"
         ],
         "xaxis": "x",
         "y": [
          23.08598351001178,
          16.74757281553398,
          15.841584158415841
         ],
         "yaxis": "y"
        },
        {
         "alignmentgroup": "True",
         "bingroup": "x",
         "histfunc": "sum",
         "hovertemplate": "=R$6k-8k<br>Profissão=%{x}<br>sum of value (normalized as percent)=%{y}<extra></extra>",
         "legendgroup": "R$6k-8k",
         "marker": {
          "color": "#1bcfd4",
          "line": {
           "width": 0
          },
          "pattern": {
           "shape": ""
          }
         },
         "name": "R$6k-8k",
         "offsetgroup": "R$6k-8k",
         "orientation": "v",
         "showlegend": true,
         "texttemplate": "%{value:.0f}",
         "type": "histogram",
         "x": [
          "Analista Dados",
          "Cientista Dados",
          "Engenheiro Dados"
         ],
         "xaxis": "x",
         "y": [
          16.843345111896348,
          20.388349514563107,
          20.049504950495052
         ],
         "yaxis": "y"
        },
        {
         "alignmentgroup": "True",
         "bingroup": "x",
         "histfunc": "sum",
         "hovertemplate": "=R$8k-12k<br>Profissão=%{x}<br>sum of value (normalized as percent)=%{y}<extra></extra>",
         "legendgroup": "R$8k-12k",
         "marker": {
          "color": "#24eca6",
          "line": {
           "width": 0
          },
          "pattern": {
           "shape": ""
          }
         },
         "name": "R$8k-12k",
         "offsetgroup": "R$8k-12k",
         "orientation": "v",
         "showlegend": true,
         "texttemplate": "%{value:.0f}",
         "type": "histogram",
         "x": [
          "Analista Dados",
          "Cientista Dados",
          "Engenheiro Dados"
         ],
         "xaxis": "x",
         "y": [
          17.6678445229682,
          24.271844660194176,
          23.01980198019802
         ],
         "yaxis": "y"
        },
        {
         "alignmentgroup": "True",
         "bingroup": "x",
         "histfunc": "sum",
         "hovertemplate": "=R$12k-16k<br>Profissão=%{x}<br>sum of value (normalized as percent)=%{y}<extra></extra>",
         "legendgroup": "R$12k-16k",
         "marker": {
          "color": "#61fc6c",
          "line": {
           "width": 0
          },
          "pattern": {
           "shape": ""
          }
         },
         "name": "R$12k-16k",
         "offsetgroup": "R$12k-16k",
         "orientation": "v",
         "showlegend": true,
         "texttemplate": "%{value:.0f}",
         "type": "histogram",
         "x": [
          "Analista Dados",
          "Cientista Dados",
          "Engenheiro Dados"
         ],
         "xaxis": "x",
         "y": [
          5.418138987043581,
          11.165048543689322,
          13.861386138613863
         ],
         "yaxis": "y"
        },
        {
         "alignmentgroup": "True",
         "bingroup": "x",
         "histfunc": "sum",
         "hovertemplate": "=R$16k-20k<br>Profissão=%{x}<br>sum of value (normalized as percent)=%{y}<extra></extra>",
         "legendgroup": "R$16k-20k",
         "marker": {
          "color": "#a4fc3b",
          "line": {
           "width": 0
          },
          "pattern": {
           "shape": ""
          }
         },
         "name": "R$16k-20k",
         "offsetgroup": "R$16k-20k",
         "orientation": "v",
         "showlegend": true,
         "texttemplate": "%{value:.0f}",
         "type": "histogram",
         "x": [
          "Analista Dados",
          "Cientista Dados",
          "Engenheiro Dados"
         ],
         "xaxis": "x",
         "y": [
          1.5312131919905771,
          4.854368932038835,
          4.9504950495049505
         ],
         "yaxis": "y"
        },
        {
         "alignmentgroup": "True",
         "bingroup": "x",
         "histfunc": "sum",
         "hovertemplate": "=R$20k+<br>Profissão=%{x}<br>sum of value (normalized as percent)=%{y}<extra></extra>",
         "legendgroup": "R$20k+",
         "marker": {
          "color": "#d1e834",
          "line": {
           "width": 0
          },
          "pattern": {
           "shape": ""
          }
         },
         "name": "R$20k+",
         "offsetgroup": "R$20k+",
         "orientation": "v",
         "showlegend": true,
         "texttemplate": "%{value:.0f}",
         "type": "histogram",
         "x": [
          "Analista Dados",
          "Analista Dados",
          "Analista Dados",
          "Analista Dados",
          "Cientista Dados",
          "Cientista Dados",
          "Cientista Dados",
          "Cientista Dados",
          "Engenheiro Dados",
          "Engenheiro Dados",
          "Engenheiro Dados",
          "Engenheiro Dados"
         ],
         "xaxis": "x",
         "y": [
          0.8244994110718492,
          0.35335689045936397,
          0.23557126030624262,
          0.11778563015312131,
          1.6990291262135921,
          1.6990291262135921,
          0.9708737864077669,
          0.9708737864077669,
          1.2376237623762376,
          1.4851485148514851,
          3.217821782178218,
          1.7326732673267329
         ],
         "yaxis": "y"
        }
       ],
       "layout": {
        "barmode": "relative",
        "barnorm": "percent",
        "legend": {
         "title": {
          "text": ""
         },
         "tracegroupgap": 0
        },
        "margin": {
         "t": 60
        },
        "template": {
         "data": {
          "bar": [
           {
            "error_x": {
             "color": "#2a3f5f"
            },
            "error_y": {
             "color": "#2a3f5f"
            },
            "marker": {
             "line": {
              "color": "#E5ECF6",
              "width": 0.5
             },
             "pattern": {
              "fillmode": "overlay",
              "size": 10,
              "solidity": 0.2
             }
            },
            "type": "bar"
           }
          ],
          "barpolar": [
           {
            "marker": {
             "line": {
              "color": "#E5ECF6",
              "width": 0.5
             },
             "pattern": {
              "fillmode": "overlay",
              "size": 10,
              "solidity": 0.2
             }
            },
            "type": "barpolar"
           }
          ],
          "carpet": [
           {
            "aaxis": {
             "endlinecolor": "#2a3f5f",
             "gridcolor": "white",
             "linecolor": "white",
             "minorgridcolor": "white",
             "startlinecolor": "#2a3f5f"
            },
            "baxis": {
             "endlinecolor": "#2a3f5f",
             "gridcolor": "white",
             "linecolor": "white",
             "minorgridcolor": "white",
             "startlinecolor": "#2a3f5f"
            },
            "type": "carpet"
           }
          ],
          "choropleth": [
           {
            "colorbar": {
             "outlinewidth": 0,
             "ticks": ""
            },
            "type": "choropleth"
           }
          ],
          "contour": [
           {
            "colorbar": {
             "outlinewidth": 0,
             "ticks": ""
            },
            "colorscale": [
             [
              0,
              "#0d0887"
             ],
             [
              0.1111111111111111,
              "#46039f"
             ],
             [
              0.2222222222222222,
              "#7201a8"
             ],
             [
              0.3333333333333333,
              "#9c179e"
             ],
             [
              0.4444444444444444,
              "#bd3786"
             ],
             [
              0.5555555555555556,
              "#d8576b"
             ],
             [
              0.6666666666666666,
              "#ed7953"
             ],
             [
              0.7777777777777778,
              "#fb9f3a"
             ],
             [
              0.8888888888888888,
              "#fdca26"
             ],
             [
              1,
              "#f0f921"
             ]
            ],
            "type": "contour"
           }
          ],
          "contourcarpet": [
           {
            "colorbar": {
             "outlinewidth": 0,
             "ticks": ""
            },
            "type": "contourcarpet"
           }
          ],
          "heatmap": [
           {
            "colorbar": {
             "outlinewidth": 0,
             "ticks": ""
            },
            "colorscale": [
             [
              0,
              "#0d0887"
             ],
             [
              0.1111111111111111,
              "#46039f"
             ],
             [
              0.2222222222222222,
              "#7201a8"
             ],
             [
              0.3333333333333333,
              "#9c179e"
             ],
             [
              0.4444444444444444,
              "#bd3786"
             ],
             [
              0.5555555555555556,
              "#d8576b"
             ],
             [
              0.6666666666666666,
              "#ed7953"
             ],
             [
              0.7777777777777778,
              "#fb9f3a"
             ],
             [
              0.8888888888888888,
              "#fdca26"
             ],
             [
              1,
              "#f0f921"
             ]
            ],
            "type": "heatmap"
           }
          ],
          "heatmapgl": [
           {
            "colorbar": {
             "outlinewidth": 0,
             "ticks": ""
            },
            "colorscale": [
             [
              0,
              "#0d0887"
             ],
             [
              0.1111111111111111,
              "#46039f"
             ],
             [
              0.2222222222222222,
              "#7201a8"
             ],
             [
              0.3333333333333333,
              "#9c179e"
             ],
             [
              0.4444444444444444,
              "#bd3786"
             ],
             [
              0.5555555555555556,
              "#d8576b"
             ],
             [
              0.6666666666666666,
              "#ed7953"
             ],
             [
              0.7777777777777778,
              "#fb9f3a"
             ],
             [
              0.8888888888888888,
              "#fdca26"
             ],
             [
              1,
              "#f0f921"
             ]
            ],
            "type": "heatmapgl"
           }
          ],
          "histogram": [
           {
            "marker": {
             "pattern": {
              "fillmode": "overlay",
              "size": 10,
              "solidity": 0.2
             }
            },
            "type": "histogram"
           }
          ],
          "histogram2d": [
           {
            "colorbar": {
             "outlinewidth": 0,
             "ticks": ""
            },
            "colorscale": [
             [
              0,
              "#0d0887"
             ],
             [
              0.1111111111111111,
              "#46039f"
             ],
             [
              0.2222222222222222,
              "#7201a8"
             ],
             [
              0.3333333333333333,
              "#9c179e"
             ],
             [
              0.4444444444444444,
              "#bd3786"
             ],
             [
              0.5555555555555556,
              "#d8576b"
             ],
             [
              0.6666666666666666,
              "#ed7953"
             ],
             [
              0.7777777777777778,
              "#fb9f3a"
             ],
             [
              0.8888888888888888,
              "#fdca26"
             ],
             [
              1,
              "#f0f921"
             ]
            ],
            "type": "histogram2d"
           }
          ],
          "histogram2dcontour": [
           {
            "colorbar": {
             "outlinewidth": 0,
             "ticks": ""
            },
            "colorscale": [
             [
              0,
              "#0d0887"
             ],
             [
              0.1111111111111111,
              "#46039f"
             ],
             [
              0.2222222222222222,
              "#7201a8"
             ],
             [
              0.3333333333333333,
              "#9c179e"
             ],
             [
              0.4444444444444444,
              "#bd3786"
             ],
             [
              0.5555555555555556,
              "#d8576b"
             ],
             [
              0.6666666666666666,
              "#ed7953"
             ],
             [
              0.7777777777777778,
              "#fb9f3a"
             ],
             [
              0.8888888888888888,
              "#fdca26"
             ],
             [
              1,
              "#f0f921"
             ]
            ],
            "type": "histogram2dcontour"
           }
          ],
          "mesh3d": [
           {
            "colorbar": {
             "outlinewidth": 0,
             "ticks": ""
            },
            "type": "mesh3d"
           }
          ],
          "parcoords": [
           {
            "line": {
             "colorbar": {
              "outlinewidth": 0,
              "ticks": ""
             }
            },
            "type": "parcoords"
           }
          ],
          "pie": [
           {
            "automargin": true,
            "type": "pie"
           }
          ],
          "scatter": [
           {
            "fillpattern": {
             "fillmode": "overlay",
             "size": 10,
             "solidity": 0.2
            },
            "type": "scatter"
           }
          ],
          "scatter3d": [
           {
            "line": {
             "colorbar": {
              "outlinewidth": 0,
              "ticks": ""
             }
            },
            "marker": {
             "colorbar": {
              "outlinewidth": 0,
              "ticks": ""
             }
            },
            "type": "scatter3d"
           }
          ],
          "scattercarpet": [
           {
            "marker": {
             "colorbar": {
              "outlinewidth": 0,
              "ticks": ""
             }
            },
            "type": "scattercarpet"
           }
          ],
          "scattergeo": [
           {
            "marker": {
             "colorbar": {
              "outlinewidth": 0,
              "ticks": ""
             }
            },
            "type": "scattergeo"
           }
          ],
          "scattergl": [
           {
            "marker": {
             "colorbar": {
              "outlinewidth": 0,
              "ticks": ""
             }
            },
            "type": "scattergl"
           }
          ],
          "scattermapbox": [
           {
            "marker": {
             "colorbar": {
              "outlinewidth": 0,
              "ticks": ""
             }
            },
            "type": "scattermapbox"
           }
          ],
          "scatterpolar": [
           {
            "marker": {
             "colorbar": {
              "outlinewidth": 0,
              "ticks": ""
             }
            },
            "type": "scatterpolar"
           }
          ],
          "scatterpolargl": [
           {
            "marker": {
             "colorbar": {
              "outlinewidth": 0,
              "ticks": ""
             }
            },
            "type": "scatterpolargl"
           }
          ],
          "scatterternary": [
           {
            "marker": {
             "colorbar": {
              "outlinewidth": 0,
              "ticks": ""
             }
            },
            "type": "scatterternary"
           }
          ],
          "surface": [
           {
            "colorbar": {
             "outlinewidth": 0,
             "ticks": ""
            },
            "colorscale": [
             [
              0,
              "#0d0887"
             ],
             [
              0.1111111111111111,
              "#46039f"
             ],
             [
              0.2222222222222222,
              "#7201a8"
             ],
             [
              0.3333333333333333,
              "#9c179e"
             ],
             [
              0.4444444444444444,
              "#bd3786"
             ],
             [
              0.5555555555555556,
              "#d8576b"
             ],
             [
              0.6666666666666666,
              "#ed7953"
             ],
             [
              0.7777777777777778,
              "#fb9f3a"
             ],
             [
              0.8888888888888888,
              "#fdca26"
             ],
             [
              1,
              "#f0f921"
             ]
            ],
            "type": "surface"
           }
          ],
          "table": [
           {
            "cells": {
             "fill": {
              "color": "#EBF0F8"
             },
             "line": {
              "color": "white"
             }
            },
            "header": {
             "fill": {
              "color": "#C8D4E3"
             },
             "line": {
              "color": "white"
             }
            },
            "type": "table"
           }
          ]
         },
         "layout": {
          "annotationdefaults": {
           "arrowcolor": "#2a3f5f",
           "arrowhead": 0,
           "arrowwidth": 1
          },
          "autotypenumbers": "strict",
          "coloraxis": {
           "colorbar": {
            "outlinewidth": 0,
            "ticks": ""
           }
          },
          "colorscale": {
           "diverging": [
            [
             0,
             "#8e0152"
            ],
            [
             0.1,
             "#c51b7d"
            ],
            [
             0.2,
             "#de77ae"
            ],
            [
             0.3,
             "#f1b6da"
            ],
            [
             0.4,
             "#fde0ef"
            ],
            [
             0.5,
             "#f7f7f7"
            ],
            [
             0.6,
             "#e6f5d0"
            ],
            [
             0.7,
             "#b8e186"
            ],
            [
             0.8,
             "#7fbc41"
            ],
            [
             0.9,
             "#4d9221"
            ],
            [
             1,
             "#276419"
            ]
           ],
           "sequential": [
            [
             0,
             "#0d0887"
            ],
            [
             0.1111111111111111,
             "#46039f"
            ],
            [
             0.2222222222222222,
             "#7201a8"
            ],
            [
             0.3333333333333333,
             "#9c179e"
            ],
            [
             0.4444444444444444,
             "#bd3786"
            ],
            [
             0.5555555555555556,
             "#d8576b"
            ],
            [
             0.6666666666666666,
             "#ed7953"
            ],
            [
             0.7777777777777778,
             "#fb9f3a"
            ],
            [
             0.8888888888888888,
             "#fdca26"
            ],
            [
             1,
             "#f0f921"
            ]
           ],
           "sequentialminus": [
            [
             0,
             "#0d0887"
            ],
            [
             0.1111111111111111,
             "#46039f"
            ],
            [
             0.2222222222222222,
             "#7201a8"
            ],
            [
             0.3333333333333333,
             "#9c179e"
            ],
            [
             0.4444444444444444,
             "#bd3786"
            ],
            [
             0.5555555555555556,
             "#d8576b"
            ],
            [
             0.6666666666666666,
             "#ed7953"
            ],
            [
             0.7777777777777778,
             "#fb9f3a"
            ],
            [
             0.8888888888888888,
             "#fdca26"
            ],
            [
             1,
             "#f0f921"
            ]
           ]
          },
          "colorway": [
           "#636efa",
           "#EF553B",
           "#00cc96",
           "#ab63fa",
           "#FFA15A",
           "#19d3f3",
           "#FF6692",
           "#B6E880",
           "#FF97FF",
           "#FECB52"
          ],
          "font": {
           "color": "#2a3f5f"
          },
          "geo": {
           "bgcolor": "white",
           "lakecolor": "white",
           "landcolor": "#E5ECF6",
           "showlakes": true,
           "showland": true,
           "subunitcolor": "white"
          },
          "hoverlabel": {
           "align": "left"
          },
          "hovermode": "closest",
          "mapbox": {
           "style": "light"
          },
          "paper_bgcolor": "white",
          "plot_bgcolor": "#E5ECF6",
          "polar": {
           "angularaxis": {
            "gridcolor": "white",
            "linecolor": "white",
            "ticks": ""
           },
           "bgcolor": "#E5ECF6",
           "radialaxis": {
            "gridcolor": "white",
            "linecolor": "white",
            "ticks": ""
           }
          },
          "scene": {
           "xaxis": {
            "backgroundcolor": "#E5ECF6",
            "gridcolor": "white",
            "gridwidth": 2,
            "linecolor": "white",
            "showbackground": true,
            "ticks": "",
            "zerolinecolor": "white"
           },
           "yaxis": {
            "backgroundcolor": "#E5ECF6",
            "gridcolor": "white",
            "gridwidth": 2,
            "linecolor": "white",
            "showbackground": true,
            "ticks": "",
            "zerolinecolor": "white"
           },
           "zaxis": {
            "backgroundcolor": "#E5ECF6",
            "gridcolor": "white",
            "gridwidth": 2,
            "linecolor": "white",
            "showbackground": true,
            "ticks": "",
            "zerolinecolor": "white"
           }
          },
          "shapedefaults": {
           "line": {
            "color": "#2a3f5f"
           }
          },
          "ternary": {
           "aaxis": {
            "gridcolor": "white",
            "linecolor": "white",
            "ticks": ""
           },
           "baxis": {
            "gridcolor": "white",
            "linecolor": "white",
            "ticks": ""
           },
           "bgcolor": "#E5ECF6",
           "caxis": {
            "gridcolor": "white",
            "linecolor": "white",
            "ticks": ""
           }
          },
          "title": {
           "x": 0.05
          },
          "xaxis": {
           "automargin": true,
           "gridcolor": "white",
           "linecolor": "white",
           "ticks": "",
           "title": {
            "standoff": 15
           },
           "zerolinecolor": "white",
           "zerolinewidth": 2
          },
          "yaxis": {
           "automargin": true,
           "gridcolor": "white",
           "linecolor": "white",
           "ticks": "",
           "title": {
            "standoff": 15
           },
           "zerolinecolor": "white",
           "zerolinewidth": 2
          }
         }
        },
        "title": {
         "text": "Distribuição do Salário por Profissão",
         "x": 0.5
        },
        "xaxis": {
         "anchor": "y",
         "domain": [
          0,
          1
         ],
         "title": {
          "text": "Profissão"
         }
        },
        "yaxis": {
         "anchor": "x",
         "domain": [
          0,
          1
         ],
         "title": {
          "text": "Percent"
         }
        }
       }
      }
     },
     "metadata": {},
     "output_type": "display_data"
    }
   ],
   "source": [
    "fig =px.histogram(prof_sal_cross_melt, y='value',barnorm='percent',color=\"salario\", x='profissao', color_discrete_sequence= px.colors.sequential.Turbo,labels={\"salario\":\"\",\"profissao\":\"Profissão\"},text_auto='.0f')\n",
    "fig.update_layout(title={\"text\": \"Distribuição do Salário por Profissão\", \"x\": 0.5}, yaxis_title=\"Percent\")\n",
    "fig.update_traces(marker_line_width=0)\n",
    "fig.show()"
   ]
  },
  {
   "cell_type": "markdown",
   "metadata": {},
   "source": [
    "No gráfico de linhas a seguir, a curva normalizada de ganhos por gênero demonstra uma certa disparidade de ganhos entre homens e mulheres, sendo que nas faixas de salários maiores (a partir de R$8k-12k), os homens têm representatividade maior."
   ]
  },
  {
   "cell_type": "code",
   "execution_count": 27,
   "metadata": {},
   "outputs": [
    {
     "data": {
      "application/vnd.plotly.v1+json": {
       "config": {
        "plotlyServerURL": "https://plot.ly"
       },
       "data": [
        {
         "hovertemplate": "variable=Feminino<br>Faixas salariais =%{x}<br>Proporção=%{y}<extra></extra>",
         "legendgroup": "Feminino",
         "line": {
          "color": "Red",
          "dash": "solid"
         },
         "marker": {
          "symbol": "circle"
         },
         "mode": "markers+lines",
         "name": "Feminino",
         "orientation": "v",
         "showlegend": true,
         "type": "scatter",
         "x": [
          "até R$1k",
          "R$1k-2k",
          "R$2k-3k",
          "R$3k-4k",
          "R$4k-6k",
          "R$6k-8k",
          "R$8k-12k",
          "R$12k-16k",
          "R$16k-20k",
          "R$20k-25k",
          "R$25k-30k",
          "R$30k-40k",
          "R$40k+"
         ],
         "xaxis": "x",
         "y": [
          1.146788990825688,
          5.275229357798166,
          9.174311926605505,
          9.174311926605505,
          19.03669724770642,
          18.34862385321101,
          22.24770642201835,
          7.79816513761468,
          3.669724770642202,
          1.834862385321101,
          0.9174311926605505,
          0.6880733944954129,
          0.6880733944954129
         ],
         "yaxis": "y"
        },
        {
         "hovertemplate": "variable=Masculino<br>Faixas salariais =%{x}<br>Proporção=%{y}<extra></extra>",
         "legendgroup": "Masculino",
         "line": {
          "color": "Blue",
          "dash": "solid"
         },
         "marker": {
          "symbol": "circle"
         },
         "mode": "markers+lines",
         "name": "Masculino",
         "orientation": "v",
         "showlegend": true,
         "type": "scatter",
         "x": [
          "até R$1k",
          "R$1k-2k",
          "R$2k-3k",
          "R$3k-4k",
          "R$4k-6k",
          "R$6k-8k",
          "R$8k-12k",
          "R$12k-16k",
          "R$16k-20k",
          "R$20k-25k",
          "R$25k-30k",
          "R$30k-40k",
          "R$40k+"
         ],
         "xaxis": "x",
         "y": [
          1.4033264033264035,
          5.301455301455301,
          7.276507276507277,
          7.4324324324324325,
          16.476091476091476,
          16.268191268191266,
          19.854469854469855,
          11.902286902286903,
          5.873180873180874,
          2.806652806652807,
          2.027027027027027,
          1.7671517671517671,
          1.6112266112266114
         ],
         "yaxis": "y"
        }
       ],
       "layout": {
        "legend": {
         "title": {
          "text": "variable"
         },
         "tracegroupgap": 0
        },
        "template": {
         "data": {
          "bar": [
           {
            "error_x": {
             "color": "#2a3f5f"
            },
            "error_y": {
             "color": "#2a3f5f"
            },
            "marker": {
             "line": {
              "color": "#E5ECF6",
              "width": 0.5
             },
             "pattern": {
              "fillmode": "overlay",
              "size": 10,
              "solidity": 0.2
             }
            },
            "type": "bar"
           }
          ],
          "barpolar": [
           {
            "marker": {
             "line": {
              "color": "#E5ECF6",
              "width": 0.5
             },
             "pattern": {
              "fillmode": "overlay",
              "size": 10,
              "solidity": 0.2
             }
            },
            "type": "barpolar"
           }
          ],
          "carpet": [
           {
            "aaxis": {
             "endlinecolor": "#2a3f5f",
             "gridcolor": "white",
             "linecolor": "white",
             "minorgridcolor": "white",
             "startlinecolor": "#2a3f5f"
            },
            "baxis": {
             "endlinecolor": "#2a3f5f",
             "gridcolor": "white",
             "linecolor": "white",
             "minorgridcolor": "white",
             "startlinecolor": "#2a3f5f"
            },
            "type": "carpet"
           }
          ],
          "choropleth": [
           {
            "colorbar": {
             "outlinewidth": 0,
             "ticks": ""
            },
            "type": "choropleth"
           }
          ],
          "contour": [
           {
            "colorbar": {
             "outlinewidth": 0,
             "ticks": ""
            },
            "colorscale": [
             [
              0,
              "#0d0887"
             ],
             [
              0.1111111111111111,
              "#46039f"
             ],
             [
              0.2222222222222222,
              "#7201a8"
             ],
             [
              0.3333333333333333,
              "#9c179e"
             ],
             [
              0.4444444444444444,
              "#bd3786"
             ],
             [
              0.5555555555555556,
              "#d8576b"
             ],
             [
              0.6666666666666666,
              "#ed7953"
             ],
             [
              0.7777777777777778,
              "#fb9f3a"
             ],
             [
              0.8888888888888888,
              "#fdca26"
             ],
             [
              1,
              "#f0f921"
             ]
            ],
            "type": "contour"
           }
          ],
          "contourcarpet": [
           {
            "colorbar": {
             "outlinewidth": 0,
             "ticks": ""
            },
            "type": "contourcarpet"
           }
          ],
          "heatmap": [
           {
            "colorbar": {
             "outlinewidth": 0,
             "ticks": ""
            },
            "colorscale": [
             [
              0,
              "#0d0887"
             ],
             [
              0.1111111111111111,
              "#46039f"
             ],
             [
              0.2222222222222222,
              "#7201a8"
             ],
             [
              0.3333333333333333,
              "#9c179e"
             ],
             [
              0.4444444444444444,
              "#bd3786"
             ],
             [
              0.5555555555555556,
              "#d8576b"
             ],
             [
              0.6666666666666666,
              "#ed7953"
             ],
             [
              0.7777777777777778,
              "#fb9f3a"
             ],
             [
              0.8888888888888888,
              "#fdca26"
             ],
             [
              1,
              "#f0f921"
             ]
            ],
            "type": "heatmap"
           }
          ],
          "heatmapgl": [
           {
            "colorbar": {
             "outlinewidth": 0,
             "ticks": ""
            },
            "colorscale": [
             [
              0,
              "#0d0887"
             ],
             [
              0.1111111111111111,
              "#46039f"
             ],
             [
              0.2222222222222222,
              "#7201a8"
             ],
             [
              0.3333333333333333,
              "#9c179e"
             ],
             [
              0.4444444444444444,
              "#bd3786"
             ],
             [
              0.5555555555555556,
              "#d8576b"
             ],
             [
              0.6666666666666666,
              "#ed7953"
             ],
             [
              0.7777777777777778,
              "#fb9f3a"
             ],
             [
              0.8888888888888888,
              "#fdca26"
             ],
             [
              1,
              "#f0f921"
             ]
            ],
            "type": "heatmapgl"
           }
          ],
          "histogram": [
           {
            "marker": {
             "pattern": {
              "fillmode": "overlay",
              "size": 10,
              "solidity": 0.2
             }
            },
            "type": "histogram"
           }
          ],
          "histogram2d": [
           {
            "colorbar": {
             "outlinewidth": 0,
             "ticks": ""
            },
            "colorscale": [
             [
              0,
              "#0d0887"
             ],
             [
              0.1111111111111111,
              "#46039f"
             ],
             [
              0.2222222222222222,
              "#7201a8"
             ],
             [
              0.3333333333333333,
              "#9c179e"
             ],
             [
              0.4444444444444444,
              "#bd3786"
             ],
             [
              0.5555555555555556,
              "#d8576b"
             ],
             [
              0.6666666666666666,
              "#ed7953"
             ],
             [
              0.7777777777777778,
              "#fb9f3a"
             ],
             [
              0.8888888888888888,
              "#fdca26"
             ],
             [
              1,
              "#f0f921"
             ]
            ],
            "type": "histogram2d"
           }
          ],
          "histogram2dcontour": [
           {
            "colorbar": {
             "outlinewidth": 0,
             "ticks": ""
            },
            "colorscale": [
             [
              0,
              "#0d0887"
             ],
             [
              0.1111111111111111,
              "#46039f"
             ],
             [
              0.2222222222222222,
              "#7201a8"
             ],
             [
              0.3333333333333333,
              "#9c179e"
             ],
             [
              0.4444444444444444,
              "#bd3786"
             ],
             [
              0.5555555555555556,
              "#d8576b"
             ],
             [
              0.6666666666666666,
              "#ed7953"
             ],
             [
              0.7777777777777778,
              "#fb9f3a"
             ],
             [
              0.8888888888888888,
              "#fdca26"
             ],
             [
              1,
              "#f0f921"
             ]
            ],
            "type": "histogram2dcontour"
           }
          ],
          "mesh3d": [
           {
            "colorbar": {
             "outlinewidth": 0,
             "ticks": ""
            },
            "type": "mesh3d"
           }
          ],
          "parcoords": [
           {
            "line": {
             "colorbar": {
              "outlinewidth": 0,
              "ticks": ""
             }
            },
            "type": "parcoords"
           }
          ],
          "pie": [
           {
            "automargin": true,
            "type": "pie"
           }
          ],
          "scatter": [
           {
            "fillpattern": {
             "fillmode": "overlay",
             "size": 10,
             "solidity": 0.2
            },
            "type": "scatter"
           }
          ],
          "scatter3d": [
           {
            "line": {
             "colorbar": {
              "outlinewidth": 0,
              "ticks": ""
             }
            },
            "marker": {
             "colorbar": {
              "outlinewidth": 0,
              "ticks": ""
             }
            },
            "type": "scatter3d"
           }
          ],
          "scattercarpet": [
           {
            "marker": {
             "colorbar": {
              "outlinewidth": 0,
              "ticks": ""
             }
            },
            "type": "scattercarpet"
           }
          ],
          "scattergeo": [
           {
            "marker": {
             "colorbar": {
              "outlinewidth": 0,
              "ticks": ""
             }
            },
            "type": "scattergeo"
           }
          ],
          "scattergl": [
           {
            "marker": {
             "colorbar": {
              "outlinewidth": 0,
              "ticks": ""
             }
            },
            "type": "scattergl"
           }
          ],
          "scattermapbox": [
           {
            "marker": {
             "colorbar": {
              "outlinewidth": 0,
              "ticks": ""
             }
            },
            "type": "scattermapbox"
           }
          ],
          "scatterpolar": [
           {
            "marker": {
             "colorbar": {
              "outlinewidth": 0,
              "ticks": ""
             }
            },
            "type": "scatterpolar"
           }
          ],
          "scatterpolargl": [
           {
            "marker": {
             "colorbar": {
              "outlinewidth": 0,
              "ticks": ""
             }
            },
            "type": "scatterpolargl"
           }
          ],
          "scatterternary": [
           {
            "marker": {
             "colorbar": {
              "outlinewidth": 0,
              "ticks": ""
             }
            },
            "type": "scatterternary"
           }
          ],
          "surface": [
           {
            "colorbar": {
             "outlinewidth": 0,
             "ticks": ""
            },
            "colorscale": [
             [
              0,
              "#0d0887"
             ],
             [
              0.1111111111111111,
              "#46039f"
             ],
             [
              0.2222222222222222,
              "#7201a8"
             ],
             [
              0.3333333333333333,
              "#9c179e"
             ],
             [
              0.4444444444444444,
              "#bd3786"
             ],
             [
              0.5555555555555556,
              "#d8576b"
             ],
             [
              0.6666666666666666,
              "#ed7953"
             ],
             [
              0.7777777777777778,
              "#fb9f3a"
             ],
             [
              0.8888888888888888,
              "#fdca26"
             ],
             [
              1,
              "#f0f921"
             ]
            ],
            "type": "surface"
           }
          ],
          "table": [
           {
            "cells": {
             "fill": {
              "color": "#EBF0F8"
             },
             "line": {
              "color": "white"
             }
            },
            "header": {
             "fill": {
              "color": "#C8D4E3"
             },
             "line": {
              "color": "white"
             }
            },
            "type": "table"
           }
          ]
         },
         "layout": {
          "annotationdefaults": {
           "arrowcolor": "#2a3f5f",
           "arrowhead": 0,
           "arrowwidth": 1
          },
          "autotypenumbers": "strict",
          "coloraxis": {
           "colorbar": {
            "outlinewidth": 0,
            "ticks": ""
           }
          },
          "colorscale": {
           "diverging": [
            [
             0,
             "#8e0152"
            ],
            [
             0.1,
             "#c51b7d"
            ],
            [
             0.2,
             "#de77ae"
            ],
            [
             0.3,
             "#f1b6da"
            ],
            [
             0.4,
             "#fde0ef"
            ],
            [
             0.5,
             "#f7f7f7"
            ],
            [
             0.6,
             "#e6f5d0"
            ],
            [
             0.7,
             "#b8e186"
            ],
            [
             0.8,
             "#7fbc41"
            ],
            [
             0.9,
             "#4d9221"
            ],
            [
             1,
             "#276419"
            ]
           ],
           "sequential": [
            [
             0,
             "#0d0887"
            ],
            [
             0.1111111111111111,
             "#46039f"
            ],
            [
             0.2222222222222222,
             "#7201a8"
            ],
            [
             0.3333333333333333,
             "#9c179e"
            ],
            [
             0.4444444444444444,
             "#bd3786"
            ],
            [
             0.5555555555555556,
             "#d8576b"
            ],
            [
             0.6666666666666666,
             "#ed7953"
            ],
            [
             0.7777777777777778,
             "#fb9f3a"
            ],
            [
             0.8888888888888888,
             "#fdca26"
            ],
            [
             1,
             "#f0f921"
            ]
           ],
           "sequentialminus": [
            [
             0,
             "#0d0887"
            ],
            [
             0.1111111111111111,
             "#46039f"
            ],
            [
             0.2222222222222222,
             "#7201a8"
            ],
            [
             0.3333333333333333,
             "#9c179e"
            ],
            [
             0.4444444444444444,
             "#bd3786"
            ],
            [
             0.5555555555555556,
             "#d8576b"
            ],
            [
             0.6666666666666666,
             "#ed7953"
            ],
            [
             0.7777777777777778,
             "#fb9f3a"
            ],
            [
             0.8888888888888888,
             "#fdca26"
            ],
            [
             1,
             "#f0f921"
            ]
           ]
          },
          "colorway": [
           "#636efa",
           "#EF553B",
           "#00cc96",
           "#ab63fa",
           "#FFA15A",
           "#19d3f3",
           "#FF6692",
           "#B6E880",
           "#FF97FF",
           "#FECB52"
          ],
          "font": {
           "color": "#2a3f5f"
          },
          "geo": {
           "bgcolor": "white",
           "lakecolor": "white",
           "landcolor": "#E5ECF6",
           "showlakes": true,
           "showland": true,
           "subunitcolor": "white"
          },
          "hoverlabel": {
           "align": "left"
          },
          "hovermode": "closest",
          "mapbox": {
           "style": "light"
          },
          "paper_bgcolor": "white",
          "plot_bgcolor": "#E5ECF6",
          "polar": {
           "angularaxis": {
            "gridcolor": "white",
            "linecolor": "white",
            "ticks": ""
           },
           "bgcolor": "#E5ECF6",
           "radialaxis": {
            "gridcolor": "white",
            "linecolor": "white",
            "ticks": ""
           }
          },
          "scene": {
           "xaxis": {
            "backgroundcolor": "#E5ECF6",
            "gridcolor": "white",
            "gridwidth": 2,
            "linecolor": "white",
            "showbackground": true,
            "ticks": "",
            "zerolinecolor": "white"
           },
           "yaxis": {
            "backgroundcolor": "#E5ECF6",
            "gridcolor": "white",
            "gridwidth": 2,
            "linecolor": "white",
            "showbackground": true,
            "ticks": "",
            "zerolinecolor": "white"
           },
           "zaxis": {
            "backgroundcolor": "#E5ECF6",
            "gridcolor": "white",
            "gridwidth": 2,
            "linecolor": "white",
            "showbackground": true,
            "ticks": "",
            "zerolinecolor": "white"
           }
          },
          "shapedefaults": {
           "line": {
            "color": "#2a3f5f"
           }
          },
          "ternary": {
           "aaxis": {
            "gridcolor": "white",
            "linecolor": "white",
            "ticks": ""
           },
           "baxis": {
            "gridcolor": "white",
            "linecolor": "white",
            "ticks": ""
           },
           "bgcolor": "#E5ECF6",
           "caxis": {
            "gridcolor": "white",
            "linecolor": "white",
            "ticks": ""
           }
          },
          "title": {
           "x": 0.05
          },
          "xaxis": {
           "automargin": true,
           "gridcolor": "white",
           "linecolor": "white",
           "ticks": "",
           "title": {
            "standoff": 15
           },
           "zerolinecolor": "white",
           "zerolinewidth": 2
          },
          "yaxis": {
           "automargin": true,
           "gridcolor": "white",
           "linecolor": "white",
           "ticks": "",
           "title": {
            "standoff": 15
           },
           "zerolinecolor": "white",
           "zerolinewidth": 2
          }
         }
        },
        "title": {
         "text": "Proporções de faixas-salariais por gênero"
        },
        "xaxis": {
         "anchor": "y",
         "domain": [
          0,
          1
         ],
         "title": {
          "text": "Faixas salariais "
         }
        },
        "yaxis": {
         "anchor": "x",
         "domain": [
          0,
          1
         ],
         "title": {
          "text": "Proporção"
         }
        }
       }
      }
     },
     "metadata": {},
     "output_type": "display_data"
    }
   ],
   "source": [
    "sexo_prop = pd.crosstab(df[\"('P2_h ', 'Faixa salarial')\"],df[\"('P1_b ', 'Genero')\"],normalize='columns')*100\n",
    "\n",
    "fig = px.line(sexo_prop.iloc[:,0:2], x=sexo_prop.index, y=sexo_prop.iloc[:,0:2].columns, markers=True, title=\"Proporções de faixas-salariais por gênero\",\n",
    " labels={\n",
    "                     \"value\": \"Proporção\",\n",
    "                     \"('P2_h ', 'Faixa salarial')\": \"Faixas salariais \",\n",
    "                     \"('P1_b ', 'Genero')\": \"\"\n",
    "                 }, color_discrete_sequence=['Red','Blue','Black'])\n",
    "                \n",
    "fig.show()"
   ]
  },
  {
   "cell_type": "markdown",
   "metadata": {},
   "source": [
    "Os profissionais que atuam fora do Brasil apresentam uma moda elevada na faixa de R$30k-40k.  \n",
    "O empreendedor CNPJ também apresenta uma moda elevada, na faixa de R$16k-20k.\n",
    "Os empregados CLT e os CNPJ apresentam distribuições salariais semelhantes."
   ]
  },
  {
   "cell_type": "code",
   "execution_count": 28,
   "metadata": {},
   "outputs": [
    {
     "data": {
      "application/vnd.plotly.v1+json": {
       "config": {
        "plotlyServerURL": "https://plot.ly"
       },
       "data": [
        {
         "hovertemplate": "=Empreendedor (CNPJ)<br>Faixas salariais =%{x}<br>Proporção=%{y}<extra></extra>",
         "legendgroup": "Empreendedor (CNPJ)",
         "line": {
          "color": "#30123b",
          "dash": "solid"
         },
         "marker": {
          "symbol": "circle"
         },
         "mode": "markers+lines",
         "name": "Empreendedor (CNPJ)",
         "orientation": "v",
         "showlegend": true,
         "type": "scatter",
         "x": [
          "até R$1k",
          "R$1k-2k",
          "R$2k-3k",
          "R$3k-4k",
          "R$4k-6k",
          "R$6k-8k",
          "R$8k-12k",
          "R$12k-16k",
          "R$16k-20k",
          "R$20k-25k",
          "R$25k-30k",
          "R$30k-40k",
          "R$40k+"
         ],
         "xaxis": "x",
         "y": [
          0,
          4.3478260869565215,
          2.1739130434782608,
          2.1739130434782608,
          6.521739130434782,
          6.521739130434782,
          6.521739130434782,
          13.043478260869565,
          30.434782608695656,
          8.695652173913043,
          8.695652173913043,
          4.3478260869565215,
          6.521739130434782
         ],
         "yaxis": "y"
        },
        {
         "hovertemplate": "=Empregado (CLT)<br>Faixas salariais =%{x}<br>Proporção=%{y}<extra></extra>",
         "legendgroup": "Empregado (CLT)",
         "line": {
          "color": "#4584f9",
          "dash": "solid"
         },
         "marker": {
          "symbol": "circle"
         },
         "mode": "markers+lines",
         "name": "Empregado (CLT)",
         "orientation": "v",
         "showlegend": true,
         "type": "scatter",
         "x": [
          "até R$1k",
          "R$1k-2k",
          "R$2k-3k",
          "R$3k-4k",
          "R$4k-6k",
          "R$6k-8k",
          "R$8k-12k",
          "R$12k-16k",
          "R$16k-20k",
          "R$20k-25k",
          "R$25k-30k",
          "R$30k-40k",
          "R$40k+"
         ],
         "xaxis": "x",
         "y": [
          0.2302820955670697,
          2.3028209556706964,
          6.850892343120322,
          8.635578583765112,
          19.516407599309154,
          19.45883707541739,
          21.876799078871617,
          11.57167530224525,
          4.8359240069084635,
          2.0149683362118593,
          1.2089810017271159,
          0.7484168105929765,
          0.7484168105929765
         ],
         "yaxis": "y"
        },
        {
         "hovertemplate": "=Empregado (CNPJ)<br>Faixas salariais =%{x}<br>Proporção=%{y}<extra></extra>",
         "legendgroup": "Empregado (CNPJ)",
         "line": {
          "color": "#1ae4b6",
          "dash": "solid"
         },
         "marker": {
          "symbol": "circle"
         },
         "mode": "markers+lines",
         "name": "Empregado (CNPJ)",
         "orientation": "v",
         "showlegend": true,
         "type": "scatter",
         "x": [
          "até R$1k",
          "R$1k-2k",
          "R$2k-3k",
          "R$3k-4k",
          "R$4k-6k",
          "R$6k-8k",
          "R$8k-12k",
          "R$12k-16k",
          "R$16k-20k",
          "R$20k-25k",
          "R$25k-30k",
          "R$30k-40k",
          "R$40k+"
         ],
         "xaxis": "x",
         "y": [
          2.2026431718061676,
          1.3215859030837005,
          4.405286343612335,
          7.488986784140969,
          16.299559471365637,
          14.537444933920703,
          25.55066079295154,
          13.215859030837004,
          6.167400881057269,
          2.2026431718061676,
          3.524229074889868,
          0.881057268722467,
          2.2026431718061676
         ],
         "yaxis": "y"
        },
        {
         "hovertemplate": "=Estagiário<br>Faixas salariais =%{x}<br>Proporção=%{y}<extra></extra>",
         "legendgroup": "Estagiário",
         "line": {
          "color": "#a1fc3d",
          "dash": "solid"
         },
         "marker": {
          "symbol": "circle"
         },
         "mode": "markers+lines",
         "name": "Estagiário",
         "orientation": "v",
         "showlegend": true,
         "type": "scatter",
         "x": [
          "até R$1k",
          "R$1k-2k",
          "R$2k-3k",
          "R$3k-4k",
          "R$4k-6k",
          "R$6k-8k",
          "R$8k-12k",
          "R$12k-16k",
          "R$16k-20k",
          "R$20k-25k",
          "R$25k-30k",
          "R$30k-40k",
          "R$40k+"
         ],
         "xaxis": "x",
         "y": [
          14.960629921259844,
          55.118110236220474,
          25.984251968503933,
          3.149606299212598,
          0.7874015748031495,
          0,
          0,
          0,
          0,
          0,
          0,
          0,
          0
         ],
         "yaxis": "y"
        },
        {
         "hovertemplate": "=Freelancer<br>Faixas salariais =%{x}<br>Proporção=%{y}<extra></extra>",
         "legendgroup": "Freelancer",
         "line": {
          "color": "#f9ba38",
          "dash": "solid"
         },
         "marker": {
          "symbol": "circle"
         },
         "mode": "markers+lines",
         "name": "Freelancer",
         "orientation": "v",
         "showlegend": true,
         "type": "scatter",
         "x": [
          "até R$1k",
          "R$1k-2k",
          "R$2k-3k",
          "R$3k-4k",
          "R$4k-6k",
          "R$6k-8k",
          "R$8k-12k",
          "R$12k-16k",
          "R$16k-20k",
          "R$20k-25k",
          "R$25k-30k",
          "R$30k-40k",
          "R$40k+"
         ],
         "xaxis": "x",
         "y": [
          13.793103448275861,
          20.689655172413794,
          24.137931034482758,
          3.4482758620689653,
          10.344827586206897,
          0,
          20.689655172413794,
          3.4482758620689653,
          0,
          0,
          0,
          0,
          3.4482758620689653
         ],
         "yaxis": "y"
        },
        {
         "hovertemplate": "=Servidor Público<br>Faixas salariais =%{x}<br>Proporção=%{y}<extra></extra>",
         "legendgroup": "Servidor Público",
         "line": {
          "color": "#e5460a",
          "dash": "solid"
         },
         "marker": {
          "symbol": "circle"
         },
         "mode": "markers+lines",
         "name": "Servidor Público",
         "orientation": "v",
         "showlegend": true,
         "type": "scatter",
         "x": [
          "até R$1k",
          "R$1k-2k",
          "R$2k-3k",
          "R$3k-4k",
          "R$4k-6k",
          "R$6k-8k",
          "R$8k-12k",
          "R$12k-16k",
          "R$16k-20k",
          "R$20k-25k",
          "R$25k-30k",
          "R$30k-40k",
          "R$40k+"
         ],
         "xaxis": "x",
         "y": [
          0,
          4.464285714285714,
          6.25,
          6.25,
          13.392857142857142,
          14.285714285714285,
          19.642857142857142,
          16.071428571428573,
          7.142857142857142,
          6.25,
          2.6785714285714284,
          3.571428571428571,
          0
         ],
         "yaxis": "y"
        },
        {
         "hovertemplate": "=Trabalho fora do Brasil<br>Faixas salariais =%{x}<br>Proporção=%{y}<extra></extra>",
         "legendgroup": "Trabalho fora do Brasil",
         "line": {
          "color": "#7a0402",
          "dash": "solid"
         },
         "marker": {
          "symbol": "circle"
         },
         "mode": "markers+lines",
         "name": "Trabalho fora do Brasil",
         "orientation": "v",
         "showlegend": true,
         "type": "scatter",
         "x": [
          "até R$1k",
          "R$1k-2k",
          "R$2k-3k",
          "R$3k-4k",
          "R$4k-6k",
          "R$6k-8k",
          "R$8k-12k",
          "R$12k-16k",
          "R$16k-20k",
          "R$20k-25k",
          "R$25k-30k",
          "R$30k-40k",
          "R$40k+"
         ],
         "xaxis": "x",
         "y": [
          0,
          0,
          1.25,
          2.5,
          5,
          2.5,
          11.25,
          7.5,
          11.25,
          13.750000000000002,
          8.75,
          21.25,
          15
         ],
         "yaxis": "y"
        }
       ],
       "layout": {
        "legend": {
         "title": {
          "text": ""
         },
         "tracegroupgap": 0
        },
        "template": {
         "data": {
          "bar": [
           {
            "error_x": {
             "color": "#2a3f5f"
            },
            "error_y": {
             "color": "#2a3f5f"
            },
            "marker": {
             "line": {
              "color": "#E5ECF6",
              "width": 0.5
             },
             "pattern": {
              "fillmode": "overlay",
              "size": 10,
              "solidity": 0.2
             }
            },
            "type": "bar"
           }
          ],
          "barpolar": [
           {
            "marker": {
             "line": {
              "color": "#E5ECF6",
              "width": 0.5
             },
             "pattern": {
              "fillmode": "overlay",
              "size": 10,
              "solidity": 0.2
             }
            },
            "type": "barpolar"
           }
          ],
          "carpet": [
           {
            "aaxis": {
             "endlinecolor": "#2a3f5f",
             "gridcolor": "white",
             "linecolor": "white",
             "minorgridcolor": "white",
             "startlinecolor": "#2a3f5f"
            },
            "baxis": {
             "endlinecolor": "#2a3f5f",
             "gridcolor": "white",
             "linecolor": "white",
             "minorgridcolor": "white",
             "startlinecolor": "#2a3f5f"
            },
            "type": "carpet"
           }
          ],
          "choropleth": [
           {
            "colorbar": {
             "outlinewidth": 0,
             "ticks": ""
            },
            "type": "choropleth"
           }
          ],
          "contour": [
           {
            "colorbar": {
             "outlinewidth": 0,
             "ticks": ""
            },
            "colorscale": [
             [
              0,
              "#0d0887"
             ],
             [
              0.1111111111111111,
              "#46039f"
             ],
             [
              0.2222222222222222,
              "#7201a8"
             ],
             [
              0.3333333333333333,
              "#9c179e"
             ],
             [
              0.4444444444444444,
              "#bd3786"
             ],
             [
              0.5555555555555556,
              "#d8576b"
             ],
             [
              0.6666666666666666,
              "#ed7953"
             ],
             [
              0.7777777777777778,
              "#fb9f3a"
             ],
             [
              0.8888888888888888,
              "#fdca26"
             ],
             [
              1,
              "#f0f921"
             ]
            ],
            "type": "contour"
           }
          ],
          "contourcarpet": [
           {
            "colorbar": {
             "outlinewidth": 0,
             "ticks": ""
            },
            "type": "contourcarpet"
           }
          ],
          "heatmap": [
           {
            "colorbar": {
             "outlinewidth": 0,
             "ticks": ""
            },
            "colorscale": [
             [
              0,
              "#0d0887"
             ],
             [
              0.1111111111111111,
              "#46039f"
             ],
             [
              0.2222222222222222,
              "#7201a8"
             ],
             [
              0.3333333333333333,
              "#9c179e"
             ],
             [
              0.4444444444444444,
              "#bd3786"
             ],
             [
              0.5555555555555556,
              "#d8576b"
             ],
             [
              0.6666666666666666,
              "#ed7953"
             ],
             [
              0.7777777777777778,
              "#fb9f3a"
             ],
             [
              0.8888888888888888,
              "#fdca26"
             ],
             [
              1,
              "#f0f921"
             ]
            ],
            "type": "heatmap"
           }
          ],
          "heatmapgl": [
           {
            "colorbar": {
             "outlinewidth": 0,
             "ticks": ""
            },
            "colorscale": [
             [
              0,
              "#0d0887"
             ],
             [
              0.1111111111111111,
              "#46039f"
             ],
             [
              0.2222222222222222,
              "#7201a8"
             ],
             [
              0.3333333333333333,
              "#9c179e"
             ],
             [
              0.4444444444444444,
              "#bd3786"
             ],
             [
              0.5555555555555556,
              "#d8576b"
             ],
             [
              0.6666666666666666,
              "#ed7953"
             ],
             [
              0.7777777777777778,
              "#fb9f3a"
             ],
             [
              0.8888888888888888,
              "#fdca26"
             ],
             [
              1,
              "#f0f921"
             ]
            ],
            "type": "heatmapgl"
           }
          ],
          "histogram": [
           {
            "marker": {
             "pattern": {
              "fillmode": "overlay",
              "size": 10,
              "solidity": 0.2
             }
            },
            "type": "histogram"
           }
          ],
          "histogram2d": [
           {
            "colorbar": {
             "outlinewidth": 0,
             "ticks": ""
            },
            "colorscale": [
             [
              0,
              "#0d0887"
             ],
             [
              0.1111111111111111,
              "#46039f"
             ],
             [
              0.2222222222222222,
              "#7201a8"
             ],
             [
              0.3333333333333333,
              "#9c179e"
             ],
             [
              0.4444444444444444,
              "#bd3786"
             ],
             [
              0.5555555555555556,
              "#d8576b"
             ],
             [
              0.6666666666666666,
              "#ed7953"
             ],
             [
              0.7777777777777778,
              "#fb9f3a"
             ],
             [
              0.8888888888888888,
              "#fdca26"
             ],
             [
              1,
              "#f0f921"
             ]
            ],
            "type": "histogram2d"
           }
          ],
          "histogram2dcontour": [
           {
            "colorbar": {
             "outlinewidth": 0,
             "ticks": ""
            },
            "colorscale": [
             [
              0,
              "#0d0887"
             ],
             [
              0.1111111111111111,
              "#46039f"
             ],
             [
              0.2222222222222222,
              "#7201a8"
             ],
             [
              0.3333333333333333,
              "#9c179e"
             ],
             [
              0.4444444444444444,
              "#bd3786"
             ],
             [
              0.5555555555555556,
              "#d8576b"
             ],
             [
              0.6666666666666666,
              "#ed7953"
             ],
             [
              0.7777777777777778,
              "#fb9f3a"
             ],
             [
              0.8888888888888888,
              "#fdca26"
             ],
             [
              1,
              "#f0f921"
             ]
            ],
            "type": "histogram2dcontour"
           }
          ],
          "mesh3d": [
           {
            "colorbar": {
             "outlinewidth": 0,
             "ticks": ""
            },
            "type": "mesh3d"
           }
          ],
          "parcoords": [
           {
            "line": {
             "colorbar": {
              "outlinewidth": 0,
              "ticks": ""
             }
            },
            "type": "parcoords"
           }
          ],
          "pie": [
           {
            "automargin": true,
            "type": "pie"
           }
          ],
          "scatter": [
           {
            "fillpattern": {
             "fillmode": "overlay",
             "size": 10,
             "solidity": 0.2
            },
            "type": "scatter"
           }
          ],
          "scatter3d": [
           {
            "line": {
             "colorbar": {
              "outlinewidth": 0,
              "ticks": ""
             }
            },
            "marker": {
             "colorbar": {
              "outlinewidth": 0,
              "ticks": ""
             }
            },
            "type": "scatter3d"
           }
          ],
          "scattercarpet": [
           {
            "marker": {
             "colorbar": {
              "outlinewidth": 0,
              "ticks": ""
             }
            },
            "type": "scattercarpet"
           }
          ],
          "scattergeo": [
           {
            "marker": {
             "colorbar": {
              "outlinewidth": 0,
              "ticks": ""
             }
            },
            "type": "scattergeo"
           }
          ],
          "scattergl": [
           {
            "marker": {
             "colorbar": {
              "outlinewidth": 0,
              "ticks": ""
             }
            },
            "type": "scattergl"
           }
          ],
          "scattermapbox": [
           {
            "marker": {
             "colorbar": {
              "outlinewidth": 0,
              "ticks": ""
             }
            },
            "type": "scattermapbox"
           }
          ],
          "scatterpolar": [
           {
            "marker": {
             "colorbar": {
              "outlinewidth": 0,
              "ticks": ""
             }
            },
            "type": "scatterpolar"
           }
          ],
          "scatterpolargl": [
           {
            "marker": {
             "colorbar": {
              "outlinewidth": 0,
              "ticks": ""
             }
            },
            "type": "scatterpolargl"
           }
          ],
          "scatterternary": [
           {
            "marker": {
             "colorbar": {
              "outlinewidth": 0,
              "ticks": ""
             }
            },
            "type": "scatterternary"
           }
          ],
          "surface": [
           {
            "colorbar": {
             "outlinewidth": 0,
             "ticks": ""
            },
            "colorscale": [
             [
              0,
              "#0d0887"
             ],
             [
              0.1111111111111111,
              "#46039f"
             ],
             [
              0.2222222222222222,
              "#7201a8"
             ],
             [
              0.3333333333333333,
              "#9c179e"
             ],
             [
              0.4444444444444444,
              "#bd3786"
             ],
             [
              0.5555555555555556,
              "#d8576b"
             ],
             [
              0.6666666666666666,
              "#ed7953"
             ],
             [
              0.7777777777777778,
              "#fb9f3a"
             ],
             [
              0.8888888888888888,
              "#fdca26"
             ],
             [
              1,
              "#f0f921"
             ]
            ],
            "type": "surface"
           }
          ],
          "table": [
           {
            "cells": {
             "fill": {
              "color": "#EBF0F8"
             },
             "line": {
              "color": "white"
             }
            },
            "header": {
             "fill": {
              "color": "#C8D4E3"
             },
             "line": {
              "color": "white"
             }
            },
            "type": "table"
           }
          ]
         },
         "layout": {
          "annotationdefaults": {
           "arrowcolor": "#2a3f5f",
           "arrowhead": 0,
           "arrowwidth": 1
          },
          "autotypenumbers": "strict",
          "coloraxis": {
           "colorbar": {
            "outlinewidth": 0,
            "ticks": ""
           }
          },
          "colorscale": {
           "diverging": [
            [
             0,
             "#8e0152"
            ],
            [
             0.1,
             "#c51b7d"
            ],
            [
             0.2,
             "#de77ae"
            ],
            [
             0.3,
             "#f1b6da"
            ],
            [
             0.4,
             "#fde0ef"
            ],
            [
             0.5,
             "#f7f7f7"
            ],
            [
             0.6,
             "#e6f5d0"
            ],
            [
             0.7,
             "#b8e186"
            ],
            [
             0.8,
             "#7fbc41"
            ],
            [
             0.9,
             "#4d9221"
            ],
            [
             1,
             "#276419"
            ]
           ],
           "sequential": [
            [
             0,
             "#0d0887"
            ],
            [
             0.1111111111111111,
             "#46039f"
            ],
            [
             0.2222222222222222,
             "#7201a8"
            ],
            [
             0.3333333333333333,
             "#9c179e"
            ],
            [
             0.4444444444444444,
             "#bd3786"
            ],
            [
             0.5555555555555556,
             "#d8576b"
            ],
            [
             0.6666666666666666,
             "#ed7953"
            ],
            [
             0.7777777777777778,
             "#fb9f3a"
            ],
            [
             0.8888888888888888,
             "#fdca26"
            ],
            [
             1,
             "#f0f921"
            ]
           ],
           "sequentialminus": [
            [
             0,
             "#0d0887"
            ],
            [
             0.1111111111111111,
             "#46039f"
            ],
            [
             0.2222222222222222,
             "#7201a8"
            ],
            [
             0.3333333333333333,
             "#9c179e"
            ],
            [
             0.4444444444444444,
             "#bd3786"
            ],
            [
             0.5555555555555556,
             "#d8576b"
            ],
            [
             0.6666666666666666,
             "#ed7953"
            ],
            [
             0.7777777777777778,
             "#fb9f3a"
            ],
            [
             0.8888888888888888,
             "#fdca26"
            ],
            [
             1,
             "#f0f921"
            ]
           ]
          },
          "colorway": [
           "#636efa",
           "#EF553B",
           "#00cc96",
           "#ab63fa",
           "#FFA15A",
           "#19d3f3",
           "#FF6692",
           "#B6E880",
           "#FF97FF",
           "#FECB52"
          ],
          "font": {
           "color": "#2a3f5f"
          },
          "geo": {
           "bgcolor": "white",
           "lakecolor": "white",
           "landcolor": "#E5ECF6",
           "showlakes": true,
           "showland": true,
           "subunitcolor": "white"
          },
          "hoverlabel": {
           "align": "left"
          },
          "hovermode": "closest",
          "mapbox": {
           "style": "light"
          },
          "paper_bgcolor": "white",
          "plot_bgcolor": "#E5ECF6",
          "polar": {
           "angularaxis": {
            "gridcolor": "white",
            "linecolor": "white",
            "ticks": ""
           },
           "bgcolor": "#E5ECF6",
           "radialaxis": {
            "gridcolor": "white",
            "linecolor": "white",
            "ticks": ""
           }
          },
          "scene": {
           "xaxis": {
            "backgroundcolor": "#E5ECF6",
            "gridcolor": "white",
            "gridwidth": 2,
            "linecolor": "white",
            "showbackground": true,
            "ticks": "",
            "zerolinecolor": "white"
           },
           "yaxis": {
            "backgroundcolor": "#E5ECF6",
            "gridcolor": "white",
            "gridwidth": 2,
            "linecolor": "white",
            "showbackground": true,
            "ticks": "",
            "zerolinecolor": "white"
           },
           "zaxis": {
            "backgroundcolor": "#E5ECF6",
            "gridcolor": "white",
            "gridwidth": 2,
            "linecolor": "white",
            "showbackground": true,
            "ticks": "",
            "zerolinecolor": "white"
           }
          },
          "shapedefaults": {
           "line": {
            "color": "#2a3f5f"
           }
          },
          "ternary": {
           "aaxis": {
            "gridcolor": "white",
            "linecolor": "white",
            "ticks": ""
           },
           "baxis": {
            "gridcolor": "white",
            "linecolor": "white",
            "ticks": ""
           },
           "bgcolor": "#E5ECF6",
           "caxis": {
            "gridcolor": "white",
            "linecolor": "white",
            "ticks": ""
           }
          },
          "title": {
           "x": 0.05
          },
          "xaxis": {
           "automargin": true,
           "gridcolor": "white",
           "linecolor": "white",
           "ticks": "",
           "title": {
            "standoff": 15
           },
           "zerolinecolor": "white",
           "zerolinewidth": 2
          },
          "yaxis": {
           "automargin": true,
           "gridcolor": "white",
           "linecolor": "white",
           "ticks": "",
           "title": {
            "standoff": 15
           },
           "zerolinecolor": "white",
           "zerolinewidth": 2
          }
         }
        },
        "title": {
         "text": "Proporções de faixas-salariais por tipo vínculo empregatício"
        },
        "xaxis": {
         "anchor": "y",
         "domain": [
          0,
          1
         ],
         "title": {
          "text": "Faixas salariais "
         }
        },
        "yaxis": {
         "anchor": "x",
         "domain": [
          0,
          1
         ],
         "title": {
          "text": "Proporção"
         }
        }
       }
      }
     },
     "metadata": {},
     "output_type": "display_data"
    }
   ],
   "source": [
    "salary_prop = pd.crosstab(df[\"('P2_h ', 'Faixa salarial')\"],df['Vínculo Empregatício'],normalize='columns')*100\n",
    "\n",
    "fig = px.line(salary_prop, x=salary_prop.index, y=salary_prop.columns, markers=True, title=\"Proporções de faixas-salariais por tipo vínculo empregatício\",\n",
    " labels={\n",
    "                     \"value\": \"Proporção\",\n",
    "                     \"('P2_h ', 'Faixa salarial')\": \"Faixas salariais \",\n",
    "                     \"Vínculo Empregatício\": \"\"\n",
    "                 }, color_discrete_sequence=['#30123b', '#4584f9', '#1ae4b6', '#a1fc3d', '#f9ba38', '#e5460a', '#7a0402'])\n",
    "fig.show()\n"
   ]
  },
  {
   "cell_type": "markdown",
   "metadata": {},
   "source": [
    "Conforme expectativa, a distribuição salarial tende a refletir o nível de senioridade do profissional."
   ]
  },
  {
   "cell_type": "code",
   "execution_count": 29,
   "metadata": {},
   "outputs": [
    {
     "data": {
      "application/vnd.plotly.v1+json": {
       "config": {
        "plotlyServerURL": "https://plot.ly"
       },
       "data": [
        {
         "hovertemplate": "=Gestor<br>Faixas salariais =%{x}<br>Proporção=%{y}<extra></extra>",
         "legendgroup": "Gestor",
         "line": {
          "color": "#30123b",
          "dash": "solid"
         },
         "marker": {
          "symbol": "circle"
         },
         "mode": "markers+lines",
         "name": "Gestor",
         "orientation": "v",
         "showlegend": true,
         "type": "scatter",
         "x": [
          "até R$1k",
          "R$1k-2k",
          "R$2k-3k",
          "R$3k-4k",
          "R$4k-6k",
          "R$6k-8k",
          "R$8k-12k",
          "R$12k-16k",
          "R$16k-20k",
          "R$20k-25k",
          "R$25k-30k",
          "R$30k-40k",
          "R$40k+"
         ],
         "xaxis": "x",
         "y": [
          1.574803149606299,
          0.7874015748031495,
          1.3779527559055118,
          2.3622047244094486,
          6.299212598425196,
          12.007874015748031,
          19.88188976377953,
          20.866141732283463,
          13.779527559055119,
          8.267716535433072,
          4.921259842519685,
          3.543307086614173,
          4.330708661417323
         ],
         "yaxis": "y"
        },
        {
         "hovertemplate": "=Júnior<br>Faixas salariais =%{x}<br>Proporção=%{y}<extra></extra>",
         "legendgroup": "Júnior",
         "line": {
          "color": "#1ae4b6",
          "dash": "solid"
         },
         "marker": {
          "symbol": "circle"
         },
         "mode": "markers+lines",
         "name": "Júnior",
         "orientation": "v",
         "showlegend": true,
         "type": "scatter",
         "x": [
          "até R$1k",
          "R$1k-2k",
          "R$2k-3k",
          "R$3k-4k",
          "R$4k-6k",
          "R$6k-8k",
          "R$8k-12k",
          "R$12k-16k",
          "R$16k-20k",
          "R$20k-25k",
          "R$25k-30k",
          "R$30k-40k",
          "R$40k+"
         ],
         "xaxis": "x",
         "y": [
          3.542673107890499,
          18.035426731078903,
          22.383252818035427,
          18.357487922705314,
          25.76489533011272,
          6.602254428341385,
          4.3478260869565215,
          0.644122383252818,
          0,
          0.1610305958132045,
          0,
          0.1610305958132045,
          0
         ],
         "yaxis": "y"
        },
        {
         "hovertemplate": "=Pleno<br>Faixas salariais =%{x}<br>Proporção=%{y}<extra></extra>",
         "legendgroup": "Pleno",
         "line": {
          "color": "#f9ba38",
          "dash": "solid"
         },
         "marker": {
          "symbol": "circle"
         },
         "mode": "markers+lines",
         "name": "Pleno",
         "orientation": "v",
         "showlegend": true,
         "type": "scatter",
         "x": [
          "até R$1k",
          "R$1k-2k",
          "R$2k-3k",
          "R$3k-4k",
          "R$4k-6k",
          "R$6k-8k",
          "R$8k-12k",
          "R$12k-16k",
          "R$16k-20k",
          "R$20k-25k",
          "R$25k-30k",
          "R$30k-40k",
          "R$40k+"
         ],
         "xaxis": "x",
         "y": [
          0.303951367781155,
          1.3677811550151975,
          4.25531914893617,
          7.446808510638298,
          25.379939209726444,
          30.243161094224924,
          22.9483282674772,
          3.951367781155015,
          1.6717325227963524,
          0.911854103343465,
          0.911854103343465,
          0.303951367781155,
          0.303951367781155
         ],
         "yaxis": "y"
        },
        {
         "hovertemplate": "=Sênior<br>Faixas salariais =%{x}<br>Proporção=%{y}<extra></extra>",
         "legendgroup": "Sênior",
         "line": {
          "color": "#7a0402",
          "dash": "solid"
         },
         "marker": {
          "symbol": "circle"
         },
         "mode": "markers+lines",
         "name": "Sênior",
         "orientation": "v",
         "showlegend": true,
         "type": "scatter",
         "x": [
          "até R$1k",
          "R$1k-2k",
          "R$2k-3k",
          "R$3k-4k",
          "R$4k-6k",
          "R$6k-8k",
          "R$8k-12k",
          "R$12k-16k",
          "R$16k-20k",
          "R$20k-25k",
          "R$25k-30k",
          "R$30k-40k",
          "R$40k+"
         ],
         "xaxis": "x",
         "y": [
          0,
          0.17301038062283738,
          1.0380622837370241,
          1.384083044982699,
          7.612456747404845,
          15.916955017301039,
          34.602076124567475,
          21.972318339100347,
          8.304498269896193,
          2.249134948096886,
          2.0761245674740483,
          2.941176470588235,
          1.7301038062283738
         ],
         "yaxis": "y"
        }
       ],
       "layout": {
        "legend": {
         "title": {
          "text": ""
         },
         "tracegroupgap": 0
        },
        "template": {
         "data": {
          "bar": [
           {
            "error_x": {
             "color": "#2a3f5f"
            },
            "error_y": {
             "color": "#2a3f5f"
            },
            "marker": {
             "line": {
              "color": "#E5ECF6",
              "width": 0.5
             },
             "pattern": {
              "fillmode": "overlay",
              "size": 10,
              "solidity": 0.2
             }
            },
            "type": "bar"
           }
          ],
          "barpolar": [
           {
            "marker": {
             "line": {
              "color": "#E5ECF6",
              "width": 0.5
             },
             "pattern": {
              "fillmode": "overlay",
              "size": 10,
              "solidity": 0.2
             }
            },
            "type": "barpolar"
           }
          ],
          "carpet": [
           {
            "aaxis": {
             "endlinecolor": "#2a3f5f",
             "gridcolor": "white",
             "linecolor": "white",
             "minorgridcolor": "white",
             "startlinecolor": "#2a3f5f"
            },
            "baxis": {
             "endlinecolor": "#2a3f5f",
             "gridcolor": "white",
             "linecolor": "white",
             "minorgridcolor": "white",
             "startlinecolor": "#2a3f5f"
            },
            "type": "carpet"
           }
          ],
          "choropleth": [
           {
            "colorbar": {
             "outlinewidth": 0,
             "ticks": ""
            },
            "type": "choropleth"
           }
          ],
          "contour": [
           {
            "colorbar": {
             "outlinewidth": 0,
             "ticks": ""
            },
            "colorscale": [
             [
              0,
              "#0d0887"
             ],
             [
              0.1111111111111111,
              "#46039f"
             ],
             [
              0.2222222222222222,
              "#7201a8"
             ],
             [
              0.3333333333333333,
              "#9c179e"
             ],
             [
              0.4444444444444444,
              "#bd3786"
             ],
             [
              0.5555555555555556,
              "#d8576b"
             ],
             [
              0.6666666666666666,
              "#ed7953"
             ],
             [
              0.7777777777777778,
              "#fb9f3a"
             ],
             [
              0.8888888888888888,
              "#fdca26"
             ],
             [
              1,
              "#f0f921"
             ]
            ],
            "type": "contour"
           }
          ],
          "contourcarpet": [
           {
            "colorbar": {
             "outlinewidth": 0,
             "ticks": ""
            },
            "type": "contourcarpet"
           }
          ],
          "heatmap": [
           {
            "colorbar": {
             "outlinewidth": 0,
             "ticks": ""
            },
            "colorscale": [
             [
              0,
              "#0d0887"
             ],
             [
              0.1111111111111111,
              "#46039f"
             ],
             [
              0.2222222222222222,
              "#7201a8"
             ],
             [
              0.3333333333333333,
              "#9c179e"
             ],
             [
              0.4444444444444444,
              "#bd3786"
             ],
             [
              0.5555555555555556,
              "#d8576b"
             ],
             [
              0.6666666666666666,
              "#ed7953"
             ],
             [
              0.7777777777777778,
              "#fb9f3a"
             ],
             [
              0.8888888888888888,
              "#fdca26"
             ],
             [
              1,
              "#f0f921"
             ]
            ],
            "type": "heatmap"
           }
          ],
          "heatmapgl": [
           {
            "colorbar": {
             "outlinewidth": 0,
             "ticks": ""
            },
            "colorscale": [
             [
              0,
              "#0d0887"
             ],
             [
              0.1111111111111111,
              "#46039f"
             ],
             [
              0.2222222222222222,
              "#7201a8"
             ],
             [
              0.3333333333333333,
              "#9c179e"
             ],
             [
              0.4444444444444444,
              "#bd3786"
             ],
             [
              0.5555555555555556,
              "#d8576b"
             ],
             [
              0.6666666666666666,
              "#ed7953"
             ],
             [
              0.7777777777777778,
              "#fb9f3a"
             ],
             [
              0.8888888888888888,
              "#fdca26"
             ],
             [
              1,
              "#f0f921"
             ]
            ],
            "type": "heatmapgl"
           }
          ],
          "histogram": [
           {
            "marker": {
             "pattern": {
              "fillmode": "overlay",
              "size": 10,
              "solidity": 0.2
             }
            },
            "type": "histogram"
           }
          ],
          "histogram2d": [
           {
            "colorbar": {
             "outlinewidth": 0,
             "ticks": ""
            },
            "colorscale": [
             [
              0,
              "#0d0887"
             ],
             [
              0.1111111111111111,
              "#46039f"
             ],
             [
              0.2222222222222222,
              "#7201a8"
             ],
             [
              0.3333333333333333,
              "#9c179e"
             ],
             [
              0.4444444444444444,
              "#bd3786"
             ],
             [
              0.5555555555555556,
              "#d8576b"
             ],
             [
              0.6666666666666666,
              "#ed7953"
             ],
             [
              0.7777777777777778,
              "#fb9f3a"
             ],
             [
              0.8888888888888888,
              "#fdca26"
             ],
             [
              1,
              "#f0f921"
             ]
            ],
            "type": "histogram2d"
           }
          ],
          "histogram2dcontour": [
           {
            "colorbar": {
             "outlinewidth": 0,
             "ticks": ""
            },
            "colorscale": [
             [
              0,
              "#0d0887"
             ],
             [
              0.1111111111111111,
              "#46039f"
             ],
             [
              0.2222222222222222,
              "#7201a8"
             ],
             [
              0.3333333333333333,
              "#9c179e"
             ],
             [
              0.4444444444444444,
              "#bd3786"
             ],
             [
              0.5555555555555556,
              "#d8576b"
             ],
             [
              0.6666666666666666,
              "#ed7953"
             ],
             [
              0.7777777777777778,
              "#fb9f3a"
             ],
             [
              0.8888888888888888,
              "#fdca26"
             ],
             [
              1,
              "#f0f921"
             ]
            ],
            "type": "histogram2dcontour"
           }
          ],
          "mesh3d": [
           {
            "colorbar": {
             "outlinewidth": 0,
             "ticks": ""
            },
            "type": "mesh3d"
           }
          ],
          "parcoords": [
           {
            "line": {
             "colorbar": {
              "outlinewidth": 0,
              "ticks": ""
             }
            },
            "type": "parcoords"
           }
          ],
          "pie": [
           {
            "automargin": true,
            "type": "pie"
           }
          ],
          "scatter": [
           {
            "fillpattern": {
             "fillmode": "overlay",
             "size": 10,
             "solidity": 0.2
            },
            "type": "scatter"
           }
          ],
          "scatter3d": [
           {
            "line": {
             "colorbar": {
              "outlinewidth": 0,
              "ticks": ""
             }
            },
            "marker": {
             "colorbar": {
              "outlinewidth": 0,
              "ticks": ""
             }
            },
            "type": "scatter3d"
           }
          ],
          "scattercarpet": [
           {
            "marker": {
             "colorbar": {
              "outlinewidth": 0,
              "ticks": ""
             }
            },
            "type": "scattercarpet"
           }
          ],
          "scattergeo": [
           {
            "marker": {
             "colorbar": {
              "outlinewidth": 0,
              "ticks": ""
             }
            },
            "type": "scattergeo"
           }
          ],
          "scattergl": [
           {
            "marker": {
             "colorbar": {
              "outlinewidth": 0,
              "ticks": ""
             }
            },
            "type": "scattergl"
           }
          ],
          "scattermapbox": [
           {
            "marker": {
             "colorbar": {
              "outlinewidth": 0,
              "ticks": ""
             }
            },
            "type": "scattermapbox"
           }
          ],
          "scatterpolar": [
           {
            "marker": {
             "colorbar": {
              "outlinewidth": 0,
              "ticks": ""
             }
            },
            "type": "scatterpolar"
           }
          ],
          "scatterpolargl": [
           {
            "marker": {
             "colorbar": {
              "outlinewidth": 0,
              "ticks": ""
             }
            },
            "type": "scatterpolargl"
           }
          ],
          "scatterternary": [
           {
            "marker": {
             "colorbar": {
              "outlinewidth": 0,
              "ticks": ""
             }
            },
            "type": "scatterternary"
           }
          ],
          "surface": [
           {
            "colorbar": {
             "outlinewidth": 0,
             "ticks": ""
            },
            "colorscale": [
             [
              0,
              "#0d0887"
             ],
             [
              0.1111111111111111,
              "#46039f"
             ],
             [
              0.2222222222222222,
              "#7201a8"
             ],
             [
              0.3333333333333333,
              "#9c179e"
             ],
             [
              0.4444444444444444,
              "#bd3786"
             ],
             [
              0.5555555555555556,
              "#d8576b"
             ],
             [
              0.6666666666666666,
              "#ed7953"
             ],
             [
              0.7777777777777778,
              "#fb9f3a"
             ],
             [
              0.8888888888888888,
              "#fdca26"
             ],
             [
              1,
              "#f0f921"
             ]
            ],
            "type": "surface"
           }
          ],
          "table": [
           {
            "cells": {
             "fill": {
              "color": "#EBF0F8"
             },
             "line": {
              "color": "white"
             }
            },
            "header": {
             "fill": {
              "color": "#C8D4E3"
             },
             "line": {
              "color": "white"
             }
            },
            "type": "table"
           }
          ]
         },
         "layout": {
          "annotationdefaults": {
           "arrowcolor": "#2a3f5f",
           "arrowhead": 0,
           "arrowwidth": 1
          },
          "autotypenumbers": "strict",
          "coloraxis": {
           "colorbar": {
            "outlinewidth": 0,
            "ticks": ""
           }
          },
          "colorscale": {
           "diverging": [
            [
             0,
             "#8e0152"
            ],
            [
             0.1,
             "#c51b7d"
            ],
            [
             0.2,
             "#de77ae"
            ],
            [
             0.3,
             "#f1b6da"
            ],
            [
             0.4,
             "#fde0ef"
            ],
            [
             0.5,
             "#f7f7f7"
            ],
            [
             0.6,
             "#e6f5d0"
            ],
            [
             0.7,
             "#b8e186"
            ],
            [
             0.8,
             "#7fbc41"
            ],
            [
             0.9,
             "#4d9221"
            ],
            [
             1,
             "#276419"
            ]
           ],
           "sequential": [
            [
             0,
             "#0d0887"
            ],
            [
             0.1111111111111111,
             "#46039f"
            ],
            [
             0.2222222222222222,
             "#7201a8"
            ],
            [
             0.3333333333333333,
             "#9c179e"
            ],
            [
             0.4444444444444444,
             "#bd3786"
            ],
            [
             0.5555555555555556,
             "#d8576b"
            ],
            [
             0.6666666666666666,
             "#ed7953"
            ],
            [
             0.7777777777777778,
             "#fb9f3a"
            ],
            [
             0.8888888888888888,
             "#fdca26"
            ],
            [
             1,
             "#f0f921"
            ]
           ],
           "sequentialminus": [
            [
             0,
             "#0d0887"
            ],
            [
             0.1111111111111111,
             "#46039f"
            ],
            [
             0.2222222222222222,
             "#7201a8"
            ],
            [
             0.3333333333333333,
             "#9c179e"
            ],
            [
             0.4444444444444444,
             "#bd3786"
            ],
            [
             0.5555555555555556,
             "#d8576b"
            ],
            [
             0.6666666666666666,
             "#ed7953"
            ],
            [
             0.7777777777777778,
             "#fb9f3a"
            ],
            [
             0.8888888888888888,
             "#fdca26"
            ],
            [
             1,
             "#f0f921"
            ]
           ]
          },
          "colorway": [
           "#636efa",
           "#EF553B",
           "#00cc96",
           "#ab63fa",
           "#FFA15A",
           "#19d3f3",
           "#FF6692",
           "#B6E880",
           "#FF97FF",
           "#FECB52"
          ],
          "font": {
           "color": "#2a3f5f"
          },
          "geo": {
           "bgcolor": "white",
           "lakecolor": "white",
           "landcolor": "#E5ECF6",
           "showlakes": true,
           "showland": true,
           "subunitcolor": "white"
          },
          "hoverlabel": {
           "align": "left"
          },
          "hovermode": "closest",
          "mapbox": {
           "style": "light"
          },
          "paper_bgcolor": "white",
          "plot_bgcolor": "#E5ECF6",
          "polar": {
           "angularaxis": {
            "gridcolor": "white",
            "linecolor": "white",
            "ticks": ""
           },
           "bgcolor": "#E5ECF6",
           "radialaxis": {
            "gridcolor": "white",
            "linecolor": "white",
            "ticks": ""
           }
          },
          "scene": {
           "xaxis": {
            "backgroundcolor": "#E5ECF6",
            "gridcolor": "white",
            "gridwidth": 2,
            "linecolor": "white",
            "showbackground": true,
            "ticks": "",
            "zerolinecolor": "white"
           },
           "yaxis": {
            "backgroundcolor": "#E5ECF6",
            "gridcolor": "white",
            "gridwidth": 2,
            "linecolor": "white",
            "showbackground": true,
            "ticks": "",
            "zerolinecolor": "white"
           },
           "zaxis": {
            "backgroundcolor": "#E5ECF6",
            "gridcolor": "white",
            "gridwidth": 2,
            "linecolor": "white",
            "showbackground": true,
            "ticks": "",
            "zerolinecolor": "white"
           }
          },
          "shapedefaults": {
           "line": {
            "color": "#2a3f5f"
           }
          },
          "ternary": {
           "aaxis": {
            "gridcolor": "white",
            "linecolor": "white",
            "ticks": ""
           },
           "baxis": {
            "gridcolor": "white",
            "linecolor": "white",
            "ticks": ""
           },
           "bgcolor": "#E5ECF6",
           "caxis": {
            "gridcolor": "white",
            "linecolor": "white",
            "ticks": ""
           }
          },
          "title": {
           "x": 0.05
          },
          "xaxis": {
           "automargin": true,
           "gridcolor": "white",
           "linecolor": "white",
           "ticks": "",
           "title": {
            "standoff": 15
           },
           "zerolinecolor": "white",
           "zerolinewidth": 2
          },
          "yaxis": {
           "automargin": true,
           "gridcolor": "white",
           "linecolor": "white",
           "ticks": "",
           "title": {
            "standoff": 15
           },
           "zerolinecolor": "white",
           "zerolinewidth": 2
          }
         }
        },
        "title": {
         "text": "Proporções de faixas-salariais por nível de senioridade"
        },
        "xaxis": {
         "anchor": "y",
         "domain": [
          0,
          1
         ],
         "title": {
          "text": "Faixas salariais "
         }
        },
        "yaxis": {
         "anchor": "x",
         "domain": [
          0,
          1
         ],
         "title": {
          "text": "Proporção"
         }
        }
       }
      }
     },
     "metadata": {},
     "output_type": "display_data"
    }
   ],
   "source": [
    "nivel_prop = pd.crosstab(df[\"('P2_h ', 'Faixa salarial')\"],df[\"('P2_g ', 'Nivel')\"],normalize='columns')*100\n",
    "\n",
    "fig = px.line(nivel_prop, x=nivel_prop.index, y=nivel_prop.columns, markers=True,title=\"Proporções de faixas-salariais por nível de senioridade\",\n",
    " labels={\n",
    "                     \"value\": \"Proporção\",\n",
    "                     \"('P2_h ', 'Faixa salarial')\": \"Faixas salariais \",\n",
    "                     \"('P2_g ', 'Nivel')\": \"\"\n",
    "                 }, color_discrete_sequence=['#30123b', '#1ae4b6', '#f9ba38', '#7a0402'])\n",
    "                \n",
    "\n",
    "fig.show()"
   ]
  },
  {
   "cell_type": "code",
   "execution_count": 30,
   "metadata": {},
   "outputs": [
    {
     "data": {
      "application/vnd.plotly.v1+json": {
       "config": {
        "plotlyServerURL": "https://plot.ly"
       },
       "data": [
        {
         "alignmentgroup": "True",
         "bingroup": "x",
         "histfunc": "sum",
         "hovertemplate": "Faixa salarial=até R$1k<br>Nível=%{x}<br>sum of ('P0', 'id') (normalized as percent)=%{y}<extra></extra>",
         "legendgroup": "até R$1k",
         "marker": {
          "color": "#30123b",
          "line": {
           "width": 0
          },
          "pattern": {
           "shape": ""
          }
         },
         "name": "até R$1k",
         "offsetgroup": "até R$1k",
         "orientation": "v",
         "showlegend": true,
         "texttemplate": "%{value:.0f}",
         "type": "histogram",
         "x": [
          "Gestor",
          "Júnior",
          "Pleno",
          "Sênior"
         ],
         "xaxis": "x",
         "y": [
          8,
          22,
          2,
          0
         ],
         "yaxis": "y"
        },
        {
         "alignmentgroup": "True",
         "bingroup": "x",
         "histfunc": "sum",
         "hovertemplate": "Faixa salarial=R$1k-2k<br>Nível=%{x}<br>sum of ('P0', 'id') (normalized as percent)=%{y}<extra></extra>",
         "legendgroup": "R$1k-2k",
         "marker": {
          "color": "#4145ab",
          "line": {
           "width": 0
          },
          "pattern": {
           "shape": ""
          }
         },
         "name": "R$1k-2k",
         "offsetgroup": "R$1k-2k",
         "orientation": "v",
         "showlegend": true,
         "texttemplate": "%{value:.0f}",
         "type": "histogram",
         "x": [
          "Gestor",
          "Júnior",
          "Pleno",
          "Sênior"
         ],
         "xaxis": "x",
         "y": [
          4,
          112,
          9,
          1
         ],
         "yaxis": "y"
        },
        {
         "alignmentgroup": "True",
         "bingroup": "x",
         "histfunc": "sum",
         "hovertemplate": "Faixa salarial=R$2k-3k<br>Nível=%{x}<br>sum of ('P0', 'id') (normalized as percent)=%{y}<extra></extra>",
         "legendgroup": "R$2k-3k",
         "marker": {
          "color": "#4675ed",
          "line": {
           "width": 0
          },
          "pattern": {
           "shape": ""
          }
         },
         "name": "R$2k-3k",
         "offsetgroup": "R$2k-3k",
         "orientation": "v",
         "showlegend": true,
         "texttemplate": "%{value:.0f}",
         "type": "histogram",
         "x": [
          "Gestor",
          "Júnior",
          "Pleno",
          "Sênior"
         ],
         "xaxis": "x",
         "y": [
          7,
          139,
          28,
          6
         ],
         "yaxis": "y"
        },
        {
         "alignmentgroup": "True",
         "bingroup": "x",
         "histfunc": "sum",
         "hovertemplate": "Faixa salarial=R$3k-4k<br>Nível=%{x}<br>sum of ('P0', 'id') (normalized as percent)=%{y}<extra></extra>",
         "legendgroup": "R$3k-4k",
         "marker": {
          "color": "#39a2fc",
          "line": {
           "width": 0
          },
          "pattern": {
           "shape": ""
          }
         },
         "name": "R$3k-4k",
         "offsetgroup": "R$3k-4k",
         "orientation": "v",
         "showlegend": true,
         "texttemplate": "%{value:.0f}",
         "type": "histogram",
         "x": [
          "Gestor",
          "Júnior",
          "Pleno",
          "Sênior"
         ],
         "xaxis": "x",
         "y": [
          12,
          114,
          49,
          8
         ],
         "yaxis": "y"
        },
        {
         "alignmentgroup": "True",
         "bingroup": "x",
         "histfunc": "sum",
         "hovertemplate": "Faixa salarial=R$4k-6k<br>Nível=%{x}<br>sum of ('P0', 'id') (normalized as percent)=%{y}<extra></extra>",
         "legendgroup": "R$4k-6k",
         "marker": {
          "color": "#1bcfd4",
          "line": {
           "width": 0
          },
          "pattern": {
           "shape": ""
          }
         },
         "name": "R$4k-6k",
         "offsetgroup": "R$4k-6k",
         "orientation": "v",
         "showlegend": true,
         "texttemplate": "%{value:.0f}",
         "type": "histogram",
         "x": [
          "Gestor",
          "Júnior",
          "Pleno",
          "Sênior"
         ],
         "xaxis": "x",
         "y": [
          32,
          160,
          167,
          44
         ],
         "yaxis": "y"
        },
        {
         "alignmentgroup": "True",
         "bingroup": "x",
         "histfunc": "sum",
         "hovertemplate": "Faixa salarial=R$6k-8k<br>Nível=%{x}<br>sum of ('P0', 'id') (normalized as percent)=%{y}<extra></extra>",
         "legendgroup": "R$6k-8k",
         "marker": {
          "color": "#24eca6",
          "line": {
           "width": 0
          },
          "pattern": {
           "shape": ""
          }
         },
         "name": "R$6k-8k",
         "offsetgroup": "R$6k-8k",
         "orientation": "v",
         "showlegend": true,
         "texttemplate": "%{value:.0f}",
         "type": "histogram",
         "x": [
          "Gestor",
          "Júnior",
          "Pleno",
          "Sênior"
         ],
         "xaxis": "x",
         "y": [
          61,
          41,
          199,
          92
         ],
         "yaxis": "y"
        },
        {
         "alignmentgroup": "True",
         "bingroup": "x",
         "histfunc": "sum",
         "hovertemplate": "Faixa salarial=R$8k-12k<br>Nível=%{x}<br>sum of ('P0', 'id') (normalized as percent)=%{y}<extra></extra>",
         "legendgroup": "R$8k-12k",
         "marker": {
          "color": "#61fc6c",
          "line": {
           "width": 0
          },
          "pattern": {
           "shape": ""
          }
         },
         "name": "R$8k-12k",
         "offsetgroup": "R$8k-12k",
         "orientation": "v",
         "showlegend": true,
         "texttemplate": "%{value:.0f}",
         "type": "histogram",
         "x": [
          "Gestor",
          "Júnior",
          "Pleno",
          "Sênior"
         ],
         "xaxis": "x",
         "y": [
          101,
          27,
          151,
          200
         ],
         "yaxis": "y"
        },
        {
         "alignmentgroup": "True",
         "bingroup": "x",
         "histfunc": "sum",
         "hovertemplate": "Faixa salarial=R$12k-16k<br>Nível=%{x}<br>sum of ('P0', 'id') (normalized as percent)=%{y}<extra></extra>",
         "legendgroup": "R$12k-16k",
         "marker": {
          "color": "#a4fc3b",
          "line": {
           "width": 0
          },
          "pattern": {
           "shape": ""
          }
         },
         "name": "R$12k-16k",
         "offsetgroup": "R$12k-16k",
         "orientation": "v",
         "showlegend": true,
         "texttemplate": "%{value:.0f}",
         "type": "histogram",
         "x": [
          "Gestor",
          "Júnior",
          "Pleno",
          "Sênior"
         ],
         "xaxis": "x",
         "y": [
          106,
          4,
          26,
          127
         ],
         "yaxis": "y"
        },
        {
         "alignmentgroup": "True",
         "bingroup": "x",
         "histfunc": "sum",
         "hovertemplate": "Faixa salarial=R$16k-20k<br>Nível=%{x}<br>sum of ('P0', 'id') (normalized as percent)=%{y}<extra></extra>",
         "legendgroup": "R$16k-20k",
         "marker": {
          "color": "#d1e834",
          "line": {
           "width": 0
          },
          "pattern": {
           "shape": ""
          }
         },
         "name": "R$16k-20k",
         "offsetgroup": "R$16k-20k",
         "orientation": "v",
         "showlegend": true,
         "texttemplate": "%{value:.0f}",
         "type": "histogram",
         "x": [
          "Gestor",
          "Júnior",
          "Pleno",
          "Sênior"
         ],
         "xaxis": "x",
         "y": [
          70,
          0,
          11,
          48
         ],
         "yaxis": "y"
        },
        {
         "alignmentgroup": "True",
         "bingroup": "x",
         "histfunc": "sum",
         "hovertemplate": "Faixa salarial=R$20k-25k<br>Nível=%{x}<br>sum of ('P0', 'id') (normalized as percent)=%{y}<extra></extra>",
         "legendgroup": "R$20k-25k",
         "marker": {
          "color": "#f3c63a",
          "line": {
           "width": 0
          },
          "pattern": {
           "shape": ""
          }
         },
         "name": "R$20k-25k",
         "offsetgroup": "R$20k-25k",
         "orientation": "v",
         "showlegend": true,
         "texttemplate": "%{value:.0f}",
         "type": "histogram",
         "x": [
          "Gestor",
          "Júnior",
          "Pleno",
          "Sênior"
         ],
         "xaxis": "x",
         "y": [
          42,
          1,
          6,
          13
         ],
         "yaxis": "y"
        },
        {
         "alignmentgroup": "True",
         "bingroup": "x",
         "histfunc": "sum",
         "hovertemplate": "Faixa salarial=R$25k-30k<br>Nível=%{x}<br>sum of ('P0', 'id') (normalized as percent)=%{y}<extra></extra>",
         "legendgroup": "R$25k-30k",
         "marker": {
          "color": "#fe9b2d",
          "line": {
           "width": 0
          },
          "pattern": {
           "shape": ""
          }
         },
         "name": "R$25k-30k",
         "offsetgroup": "R$25k-30k",
         "orientation": "v",
         "showlegend": true,
         "texttemplate": "%{value:.0f}",
         "type": "histogram",
         "x": [
          "Gestor",
          "Júnior",
          "Pleno",
          "Sênior"
         ],
         "xaxis": "x",
         "y": [
          25,
          0,
          6,
          12
         ],
         "yaxis": "y"
        },
        {
         "alignmentgroup": "True",
         "bingroup": "x",
         "histfunc": "sum",
         "hovertemplate": "Faixa salarial=R$30k-40k<br>Nível=%{x}<br>sum of ('P0', 'id') (normalized as percent)=%{y}<extra></extra>",
         "legendgroup": "R$30k-40k",
         "marker": {
          "color": "#f36315",
          "line": {
           "width": 0
          },
          "pattern": {
           "shape": ""
          }
         },
         "name": "R$30k-40k",
         "offsetgroup": "R$30k-40k",
         "orientation": "v",
         "showlegend": true,
         "texttemplate": "%{value:.0f}",
         "type": "histogram",
         "x": [
          "Gestor",
          "Júnior",
          "Pleno",
          "Sênior"
         ],
         "xaxis": "x",
         "y": [
          18,
          1,
          2,
          17
         ],
         "yaxis": "y"
        },
        {
         "alignmentgroup": "True",
         "bingroup": "x",
         "histfunc": "sum",
         "hovertemplate": "Faixa salarial=R$40k+<br>Nível=%{x}<br>sum of ('P0', 'id') (normalized as percent)=%{y}<extra></extra>",
         "legendgroup": "R$40k+",
         "marker": {
          "color": "#d93806",
          "line": {
           "width": 0
          },
          "pattern": {
           "shape": ""
          }
         },
         "name": "R$40k+",
         "offsetgroup": "R$40k+",
         "orientation": "v",
         "showlegend": true,
         "texttemplate": "%{value:.0f}",
         "type": "histogram",
         "x": [
          "Gestor",
          "Júnior",
          "Pleno",
          "Sênior"
         ],
         "xaxis": "x",
         "y": [
          22,
          0,
          2,
          10
         ],
         "yaxis": "y"
        }
       ],
       "layout": {
        "barmode": "relative",
        "barnorm": "percent",
        "legend": {
         "title": {
          "text": "Faixa salarial"
         },
         "tracegroupgap": 0
        },
        "margin": {
         "t": 60
        },
        "template": {
         "data": {
          "bar": [
           {
            "error_x": {
             "color": "#2a3f5f"
            },
            "error_y": {
             "color": "#2a3f5f"
            },
            "marker": {
             "line": {
              "color": "#E5ECF6",
              "width": 0.5
             },
             "pattern": {
              "fillmode": "overlay",
              "size": 10,
              "solidity": 0.2
             }
            },
            "type": "bar"
           }
          ],
          "barpolar": [
           {
            "marker": {
             "line": {
              "color": "#E5ECF6",
              "width": 0.5
             },
             "pattern": {
              "fillmode": "overlay",
              "size": 10,
              "solidity": 0.2
             }
            },
            "type": "barpolar"
           }
          ],
          "carpet": [
           {
            "aaxis": {
             "endlinecolor": "#2a3f5f",
             "gridcolor": "white",
             "linecolor": "white",
             "minorgridcolor": "white",
             "startlinecolor": "#2a3f5f"
            },
            "baxis": {
             "endlinecolor": "#2a3f5f",
             "gridcolor": "white",
             "linecolor": "white",
             "minorgridcolor": "white",
             "startlinecolor": "#2a3f5f"
            },
            "type": "carpet"
           }
          ],
          "choropleth": [
           {
            "colorbar": {
             "outlinewidth": 0,
             "ticks": ""
            },
            "type": "choropleth"
           }
          ],
          "contour": [
           {
            "colorbar": {
             "outlinewidth": 0,
             "ticks": ""
            },
            "colorscale": [
             [
              0,
              "#0d0887"
             ],
             [
              0.1111111111111111,
              "#46039f"
             ],
             [
              0.2222222222222222,
              "#7201a8"
             ],
             [
              0.3333333333333333,
              "#9c179e"
             ],
             [
              0.4444444444444444,
              "#bd3786"
             ],
             [
              0.5555555555555556,
              "#d8576b"
             ],
             [
              0.6666666666666666,
              "#ed7953"
             ],
             [
              0.7777777777777778,
              "#fb9f3a"
             ],
             [
              0.8888888888888888,
              "#fdca26"
             ],
             [
              1,
              "#f0f921"
             ]
            ],
            "type": "contour"
           }
          ],
          "contourcarpet": [
           {
            "colorbar": {
             "outlinewidth": 0,
             "ticks": ""
            },
            "type": "contourcarpet"
           }
          ],
          "heatmap": [
           {
            "colorbar": {
             "outlinewidth": 0,
             "ticks": ""
            },
            "colorscale": [
             [
              0,
              "#0d0887"
             ],
             [
              0.1111111111111111,
              "#46039f"
             ],
             [
              0.2222222222222222,
              "#7201a8"
             ],
             [
              0.3333333333333333,
              "#9c179e"
             ],
             [
              0.4444444444444444,
              "#bd3786"
             ],
             [
              0.5555555555555556,
              "#d8576b"
             ],
             [
              0.6666666666666666,
              "#ed7953"
             ],
             [
              0.7777777777777778,
              "#fb9f3a"
             ],
             [
              0.8888888888888888,
              "#fdca26"
             ],
             [
              1,
              "#f0f921"
             ]
            ],
            "type": "heatmap"
           }
          ],
          "heatmapgl": [
           {
            "colorbar": {
             "outlinewidth": 0,
             "ticks": ""
            },
            "colorscale": [
             [
              0,
              "#0d0887"
             ],
             [
              0.1111111111111111,
              "#46039f"
             ],
             [
              0.2222222222222222,
              "#7201a8"
             ],
             [
              0.3333333333333333,
              "#9c179e"
             ],
             [
              0.4444444444444444,
              "#bd3786"
             ],
             [
              0.5555555555555556,
              "#d8576b"
             ],
             [
              0.6666666666666666,
              "#ed7953"
             ],
             [
              0.7777777777777778,
              "#fb9f3a"
             ],
             [
              0.8888888888888888,
              "#fdca26"
             ],
             [
              1,
              "#f0f921"
             ]
            ],
            "type": "heatmapgl"
           }
          ],
          "histogram": [
           {
            "marker": {
             "pattern": {
              "fillmode": "overlay",
              "size": 10,
              "solidity": 0.2
             }
            },
            "type": "histogram"
           }
          ],
          "histogram2d": [
           {
            "colorbar": {
             "outlinewidth": 0,
             "ticks": ""
            },
            "colorscale": [
             [
              0,
              "#0d0887"
             ],
             [
              0.1111111111111111,
              "#46039f"
             ],
             [
              0.2222222222222222,
              "#7201a8"
             ],
             [
              0.3333333333333333,
              "#9c179e"
             ],
             [
              0.4444444444444444,
              "#bd3786"
             ],
             [
              0.5555555555555556,
              "#d8576b"
             ],
             [
              0.6666666666666666,
              "#ed7953"
             ],
             [
              0.7777777777777778,
              "#fb9f3a"
             ],
             [
              0.8888888888888888,
              "#fdca26"
             ],
             [
              1,
              "#f0f921"
             ]
            ],
            "type": "histogram2d"
           }
          ],
          "histogram2dcontour": [
           {
            "colorbar": {
             "outlinewidth": 0,
             "ticks": ""
            },
            "colorscale": [
             [
              0,
              "#0d0887"
             ],
             [
              0.1111111111111111,
              "#46039f"
             ],
             [
              0.2222222222222222,
              "#7201a8"
             ],
             [
              0.3333333333333333,
              "#9c179e"
             ],
             [
              0.4444444444444444,
              "#bd3786"
             ],
             [
              0.5555555555555556,
              "#d8576b"
             ],
             [
              0.6666666666666666,
              "#ed7953"
             ],
             [
              0.7777777777777778,
              "#fb9f3a"
             ],
             [
              0.8888888888888888,
              "#fdca26"
             ],
             [
              1,
              "#f0f921"
             ]
            ],
            "type": "histogram2dcontour"
           }
          ],
          "mesh3d": [
           {
            "colorbar": {
             "outlinewidth": 0,
             "ticks": ""
            },
            "type": "mesh3d"
           }
          ],
          "parcoords": [
           {
            "line": {
             "colorbar": {
              "outlinewidth": 0,
              "ticks": ""
             }
            },
            "type": "parcoords"
           }
          ],
          "pie": [
           {
            "automargin": true,
            "type": "pie"
           }
          ],
          "scatter": [
           {
            "fillpattern": {
             "fillmode": "overlay",
             "size": 10,
             "solidity": 0.2
            },
            "type": "scatter"
           }
          ],
          "scatter3d": [
           {
            "line": {
             "colorbar": {
              "outlinewidth": 0,
              "ticks": ""
             }
            },
            "marker": {
             "colorbar": {
              "outlinewidth": 0,
              "ticks": ""
             }
            },
            "type": "scatter3d"
           }
          ],
          "scattercarpet": [
           {
            "marker": {
             "colorbar": {
              "outlinewidth": 0,
              "ticks": ""
             }
            },
            "type": "scattercarpet"
           }
          ],
          "scattergeo": [
           {
            "marker": {
             "colorbar": {
              "outlinewidth": 0,
              "ticks": ""
             }
            },
            "type": "scattergeo"
           }
          ],
          "scattergl": [
           {
            "marker": {
             "colorbar": {
              "outlinewidth": 0,
              "ticks": ""
             }
            },
            "type": "scattergl"
           }
          ],
          "scattermapbox": [
           {
            "marker": {
             "colorbar": {
              "outlinewidth": 0,
              "ticks": ""
             }
            },
            "type": "scattermapbox"
           }
          ],
          "scatterpolar": [
           {
            "marker": {
             "colorbar": {
              "outlinewidth": 0,
              "ticks": ""
             }
            },
            "type": "scatterpolar"
           }
          ],
          "scatterpolargl": [
           {
            "marker": {
             "colorbar": {
              "outlinewidth": 0,
              "ticks": ""
             }
            },
            "type": "scatterpolargl"
           }
          ],
          "scatterternary": [
           {
            "marker": {
             "colorbar": {
              "outlinewidth": 0,
              "ticks": ""
             }
            },
            "type": "scatterternary"
           }
          ],
          "surface": [
           {
            "colorbar": {
             "outlinewidth": 0,
             "ticks": ""
            },
            "colorscale": [
             [
              0,
              "#0d0887"
             ],
             [
              0.1111111111111111,
              "#46039f"
             ],
             [
              0.2222222222222222,
              "#7201a8"
             ],
             [
              0.3333333333333333,
              "#9c179e"
             ],
             [
              0.4444444444444444,
              "#bd3786"
             ],
             [
              0.5555555555555556,
              "#d8576b"
             ],
             [
              0.6666666666666666,
              "#ed7953"
             ],
             [
              0.7777777777777778,
              "#fb9f3a"
             ],
             [
              0.8888888888888888,
              "#fdca26"
             ],
             [
              1,
              "#f0f921"
             ]
            ],
            "type": "surface"
           }
          ],
          "table": [
           {
            "cells": {
             "fill": {
              "color": "#EBF0F8"
             },
             "line": {
              "color": "white"
             }
            },
            "header": {
             "fill": {
              "color": "#C8D4E3"
             },
             "line": {
              "color": "white"
             }
            },
            "type": "table"
           }
          ]
         },
         "layout": {
          "annotationdefaults": {
           "arrowcolor": "#2a3f5f",
           "arrowhead": 0,
           "arrowwidth": 1
          },
          "autotypenumbers": "strict",
          "coloraxis": {
           "colorbar": {
            "outlinewidth": 0,
            "ticks": ""
           }
          },
          "colorscale": {
           "diverging": [
            [
             0,
             "#8e0152"
            ],
            [
             0.1,
             "#c51b7d"
            ],
            [
             0.2,
             "#de77ae"
            ],
            [
             0.3,
             "#f1b6da"
            ],
            [
             0.4,
             "#fde0ef"
            ],
            [
             0.5,
             "#f7f7f7"
            ],
            [
             0.6,
             "#e6f5d0"
            ],
            [
             0.7,
             "#b8e186"
            ],
            [
             0.8,
             "#7fbc41"
            ],
            [
             0.9,
             "#4d9221"
            ],
            [
             1,
             "#276419"
            ]
           ],
           "sequential": [
            [
             0,
             "#0d0887"
            ],
            [
             0.1111111111111111,
             "#46039f"
            ],
            [
             0.2222222222222222,
             "#7201a8"
            ],
            [
             0.3333333333333333,
             "#9c179e"
            ],
            [
             0.4444444444444444,
             "#bd3786"
            ],
            [
             0.5555555555555556,
             "#d8576b"
            ],
            [
             0.6666666666666666,
             "#ed7953"
            ],
            [
             0.7777777777777778,
             "#fb9f3a"
            ],
            [
             0.8888888888888888,
             "#fdca26"
            ],
            [
             1,
             "#f0f921"
            ]
           ],
           "sequentialminus": [
            [
             0,
             "#0d0887"
            ],
            [
             0.1111111111111111,
             "#46039f"
            ],
            [
             0.2222222222222222,
             "#7201a8"
            ],
            [
             0.3333333333333333,
             "#9c179e"
            ],
            [
             0.4444444444444444,
             "#bd3786"
            ],
            [
             0.5555555555555556,
             "#d8576b"
            ],
            [
             0.6666666666666666,
             "#ed7953"
            ],
            [
             0.7777777777777778,
             "#fb9f3a"
            ],
            [
             0.8888888888888888,
             "#fdca26"
            ],
            [
             1,
             "#f0f921"
            ]
           ]
          },
          "colorway": [
           "#636efa",
           "#EF553B",
           "#00cc96",
           "#ab63fa",
           "#FFA15A",
           "#19d3f3",
           "#FF6692",
           "#B6E880",
           "#FF97FF",
           "#FECB52"
          ],
          "font": {
           "color": "#2a3f5f"
          },
          "geo": {
           "bgcolor": "white",
           "lakecolor": "white",
           "landcolor": "#E5ECF6",
           "showlakes": true,
           "showland": true,
           "subunitcolor": "white"
          },
          "hoverlabel": {
           "align": "left"
          },
          "hovermode": "closest",
          "mapbox": {
           "style": "light"
          },
          "paper_bgcolor": "white",
          "plot_bgcolor": "#E5ECF6",
          "polar": {
           "angularaxis": {
            "gridcolor": "white",
            "linecolor": "white",
            "ticks": ""
           },
           "bgcolor": "#E5ECF6",
           "radialaxis": {
            "gridcolor": "white",
            "linecolor": "white",
            "ticks": ""
           }
          },
          "scene": {
           "xaxis": {
            "backgroundcolor": "#E5ECF6",
            "gridcolor": "white",
            "gridwidth": 2,
            "linecolor": "white",
            "showbackground": true,
            "ticks": "",
            "zerolinecolor": "white"
           },
           "yaxis": {
            "backgroundcolor": "#E5ECF6",
            "gridcolor": "white",
            "gridwidth": 2,
            "linecolor": "white",
            "showbackground": true,
            "ticks": "",
            "zerolinecolor": "white"
           },
           "zaxis": {
            "backgroundcolor": "#E5ECF6",
            "gridcolor": "white",
            "gridwidth": 2,
            "linecolor": "white",
            "showbackground": true,
            "ticks": "",
            "zerolinecolor": "white"
           }
          },
          "shapedefaults": {
           "line": {
            "color": "#2a3f5f"
           }
          },
          "ternary": {
           "aaxis": {
            "gridcolor": "white",
            "linecolor": "white",
            "ticks": ""
           },
           "baxis": {
            "gridcolor": "white",
            "linecolor": "white",
            "ticks": ""
           },
           "bgcolor": "#E5ECF6",
           "caxis": {
            "gridcolor": "white",
            "linecolor": "white",
            "ticks": ""
           }
          },
          "title": {
           "x": 0.05
          },
          "xaxis": {
           "automargin": true,
           "gridcolor": "white",
           "linecolor": "white",
           "ticks": "",
           "title": {
            "standoff": 15
           },
           "zerolinecolor": "white",
           "zerolinewidth": 2
          },
          "yaxis": {
           "automargin": true,
           "gridcolor": "white",
           "linecolor": "white",
           "ticks": "",
           "title": {
            "standoff": 15
           },
           "zerolinecolor": "white",
           "zerolinewidth": 2
          }
         }
        },
        "title": {
         "text": "Distribuição do Salário por Profissão",
         "x": 0.5
        },
        "xaxis": {
         "anchor": "y",
         "categoryarray": [
          "Júnior",
          "Pleno",
          "Sênior",
          "Gestor"
         ],
         "categoryorder": "array",
         "domain": [
          0,
          1
         ],
         "title": {
          "text": "Nível"
         }
        },
        "yaxis": {
         "anchor": "x",
         "domain": [
          0,
          1
         ],
         "title": {
          "text": "Percent"
         }
        }
       }
      }
     },
     "metadata": {},
     "output_type": "display_data"
    }
   ],
   "source": [
    "nivel_sal = df.pivot_table(index=[\"('P2_h ', 'Faixa salarial')\",\"('P2_g ', 'Nivel')\"], values=\"('P0', 'id')\", aggfunc='count').reset_index()\n",
    "fig =px.histogram(nivel_sal, y=\"('P0', 'id')\",barnorm='percent',color=\"('P2_h ', 'Faixa salarial')\", x=\"('P2_g ', 'Nivel')\",category_orders={\"('P2_g ', 'Nivel')\": [\"Júnior\",\"Pleno\",\"Sênior\",\"Gestor\"]}, color_discrete_sequence= px.colors.sequential.Turbo,labels={\"salario\":\"\",\"profissao\":\"Profissão\", \"('P2_g ', 'Nivel')\": \"Nível\", \"('P2_h ', 'Faixa salarial')\": \"Faixa salarial\"},text_auto='.0f')\n",
    "fig.update_layout(title={\"text\": \"Distribuição do Salário por Profissão\", \"x\": 0.5}, yaxis_title=\"Percent\")\n",
    "fig.update_traces(marker_line_width=0)\n",
    "\n",
    "fig.show()"
   ]
  },
  {
   "cell_type": "code",
   "execution_count": 31,
   "metadata": {},
   "outputs": [
    {
     "data": {
      "application/vnd.plotly.v1+json": {
       "config": {
        "plotlyServerURL": "https://plot.ly"
       },
       "data": [
        {
         "hovertemplate": "=Não tenho experiência na área de dados<br>Faixas salariais =%{x}<br>Proporção=%{y}<extra></extra>",
         "legendgroup": "Não tenho experiência na área de dados",
         "line": {
          "color": "#30123b",
          "dash": "solid"
         },
         "marker": {
          "symbol": "circle"
         },
         "mode": "markers+lines",
         "name": "Não tenho experiência na área de dados",
         "orientation": "v",
         "showlegend": true,
         "type": "scatter",
         "x": [
          "até R$1k",
          "R$1k-2k",
          "R$2k-3k",
          "R$3k-4k",
          "R$4k-6k",
          "R$6k-8k",
          "R$8k-12k",
          "R$12k-16k",
          "R$16k-20k",
          "R$20k-25k",
          "R$25k-30k",
          "R$30k-40k",
          "R$40k+"
         ],
         "xaxis": "x",
         "y": [
          2.459016393442623,
          12.295081967213115,
          18.0327868852459,
          9.836065573770492,
          22.950819672131146,
          13.934426229508196,
          11.475409836065573,
          3.278688524590164,
          4.098360655737705,
          0,
          0.819672131147541,
          0,
          0.819672131147541
         ],
         "yaxis": "y"
        },
        {
         "hovertemplate": "=Menos de 1 ano<br>Faixas salariais =%{x}<br>Proporção=%{y}<extra></extra>",
         "legendgroup": "Menos de 1 ano",
         "line": {
          "color": "#4584f9",
          "dash": "solid"
         },
         "marker": {
          "symbol": "circle"
         },
         "mode": "markers+lines",
         "name": "Menos de 1 ano",
         "orientation": "v",
         "showlegend": true,
         "type": "scatter",
         "x": [
          "até R$1k",
          "R$1k-2k",
          "R$2k-3k",
          "R$3k-4k",
          "R$4k-6k",
          "R$6k-8k",
          "R$8k-12k",
          "R$12k-16k",
          "R$16k-20k",
          "R$20k-25k",
          "R$25k-30k",
          "R$30k-40k",
          "R$40k+"
         ],
         "xaxis": "x",
         "y": [
          3.3854166666666665,
          16.927083333333336,
          17.96875,
          15.104166666666666,
          23.958333333333336,
          10.9375,
          7.8125,
          2.34375,
          0.78125,
          0,
          0.5208333333333333,
          0.26041666666666663,
          0
         ],
         "yaxis": "y"
        },
        {
         "hovertemplate": "=de 1 a 2 anos<br>Faixas salariais =%{x}<br>Proporção=%{y}<extra></extra>",
         "legendgroup": "de 1 a 2 anos",
         "line": {
          "color": "#1ae4b6",
          "dash": "solid"
         },
         "marker": {
          "symbol": "circle"
         },
         "mode": "markers+lines",
         "name": "de 1 a 2 anos",
         "orientation": "v",
         "showlegend": true,
         "type": "scatter",
         "x": [
          "até R$1k",
          "R$1k-2k",
          "R$2k-3k",
          "R$3k-4k",
          "R$4k-6k",
          "R$6k-8k",
          "R$8k-12k",
          "R$12k-16k",
          "R$16k-20k",
          "R$20k-25k",
          "R$25k-30k",
          "R$30k-40k",
          "R$40k+"
         ],
         "xaxis": "x",
         "y": [
          1.7937219730941705,
          7.174887892376682,
          13.004484304932735,
          16.143497757847534,
          23.54260089686099,
          17.713004484304935,
          12.556053811659194,
          3.587443946188341,
          1.345291479820628,
          0.4484304932735426,
          1.345291479820628,
          0.672645739910314,
          0.672645739910314
         ],
         "yaxis": "y"
        },
        {
         "hovertemplate": "=de 2 a 3 anos<br>Faixas salariais =%{x}<br>Proporção=%{y}<extra></extra>",
         "legendgroup": "de 2 a 3 anos",
         "line": {
          "color": "#a1fc3d",
          "dash": "solid"
         },
         "marker": {
          "symbol": "circle"
         },
         "mode": "markers+lines",
         "name": "de 2 a 3 anos",
         "orientation": "v",
         "showlegend": true,
         "type": "scatter",
         "x": [
          "até R$1k",
          "R$1k-2k",
          "R$2k-3k",
          "R$3k-4k",
          "R$4k-6k",
          "R$6k-8k",
          "R$8k-12k",
          "R$12k-16k",
          "R$16k-20k",
          "R$20k-25k",
          "R$25k-30k",
          "R$30k-40k",
          "R$40k+"
         ],
         "xaxis": "x",
         "y": [
          0.6160164271047228,
          1.642710472279261,
          3.696098562628337,
          4.312114989733059,
          21.149897330595483,
          25.667351129363446,
          26.899383983572893,
          9.034907597535934,
          3.696098562628337,
          1.642710472279261,
          1.0266940451745379,
          0.41067761806981523,
          0.20533880903490762
         ],
         "yaxis": "y"
        },
        {
         "hovertemplate": "=de 4 a 5 anos<br>Faixas salariais =%{x}<br>Proporção=%{y}<extra></extra>",
         "legendgroup": "de 4 a 5 anos",
         "line": {
          "color": "#f9ba38",
          "dash": "solid"
         },
         "marker": {
          "symbol": "circle"
         },
         "mode": "markers+lines",
         "name": "de 4 a 5 anos",
         "orientation": "v",
         "showlegend": true,
         "type": "scatter",
         "x": [
          "até R$1k",
          "R$1k-2k",
          "R$2k-3k",
          "R$3k-4k",
          "R$4k-6k",
          "R$6k-8k",
          "R$8k-12k",
          "R$12k-16k",
          "R$16k-20k",
          "R$20k-25k",
          "R$25k-30k",
          "R$30k-40k",
          "R$40k+"
         ],
         "xaxis": "x",
         "y": [
          0.5141388174807198,
          0.7712082262210797,
          1.5424164524421593,
          1.5424164524421593,
          10.796915167095115,
          17.223650385604113,
          32.13367609254499,
          17.480719794344473,
          9.254498714652955,
          4.113110539845758,
          1.7994858611825193,
          1.2853470437017995,
          1.5424164524421593
         ],
         "yaxis": "y"
        },
        {
         "hovertemplate": "=de 6 a 10 anos<br>Faixas salariais =%{x}<br>Proporção=%{y}<extra></extra>",
         "legendgroup": "de 6 a 10 anos",
         "line": {
          "color": "#e5460a",
          "dash": "solid"
         },
         "marker": {
          "symbol": "circle"
         },
         "mode": "markers+lines",
         "name": "de 6 a 10 anos",
         "orientation": "v",
         "showlegend": true,
         "type": "scatter",
         "x": [
          "até R$1k",
          "R$1k-2k",
          "R$2k-3k",
          "R$3k-4k",
          "R$4k-6k",
          "R$6k-8k",
          "R$8k-12k",
          "R$12k-16k",
          "R$16k-20k",
          "R$20k-25k",
          "R$25k-30k",
          "R$30k-40k",
          "R$40k+"
         ],
         "xaxis": "x",
         "y": [
          0,
          0.7246376811594203,
          1.8115942028985508,
          4.3478260869565215,
          6.884057971014493,
          13.768115942028986,
          25.724637681159418,
          19.92753623188406,
          8.333333333333332,
          6.159420289855073,
          3.985507246376811,
          3.6231884057971016,
          4.710144927536232
         ],
         "yaxis": "y"
        },
        {
         "hovertemplate": "=Mais de 10 anos<br>Faixas salariais =%{x}<br>Proporção=%{y}<extra></extra>",
         "legendgroup": "Mais de 10 anos",
         "line": {
          "color": "#7a0402",
          "dash": "solid"
         },
         "marker": {
          "symbol": "circle"
         },
         "mode": "markers+lines",
         "name": "Mais de 10 anos",
         "orientation": "v",
         "showlegend": true,
         "type": "scatter",
         "x": [
          "até R$1k",
          "R$1k-2k",
          "R$2k-3k",
          "R$3k-4k",
          "R$4k-6k",
          "R$6k-8k",
          "R$8k-12k",
          "R$12k-16k",
          "R$16k-20k",
          "R$20k-25k",
          "R$25k-30k",
          "R$30k-40k",
          "R$40k+"
         ],
         "xaxis": "x",
         "y": [
          1.1494252873563218,
          0.38314176245210724,
          0.7662835249042145,
          0.7662835249042145,
          5.363984674329502,
          9.578544061302683,
          19.923371647509576,
          25.67049808429119,
          14.559386973180077,
          7.2796934865900385,
          4.21455938697318,
          6.513409961685824,
          3.8314176245210727
         ],
         "yaxis": "y"
        }
       ],
       "layout": {
        "legend": {
         "title": {
          "text": ""
         },
         "tracegroupgap": 0
        },
        "template": {
         "data": {
          "bar": [
           {
            "error_x": {
             "color": "#2a3f5f"
            },
            "error_y": {
             "color": "#2a3f5f"
            },
            "marker": {
             "line": {
              "color": "#E5ECF6",
              "width": 0.5
             },
             "pattern": {
              "fillmode": "overlay",
              "size": 10,
              "solidity": 0.2
             }
            },
            "type": "bar"
           }
          ],
          "barpolar": [
           {
            "marker": {
             "line": {
              "color": "#E5ECF6",
              "width": 0.5
             },
             "pattern": {
              "fillmode": "overlay",
              "size": 10,
              "solidity": 0.2
             }
            },
            "type": "barpolar"
           }
          ],
          "carpet": [
           {
            "aaxis": {
             "endlinecolor": "#2a3f5f",
             "gridcolor": "white",
             "linecolor": "white",
             "minorgridcolor": "white",
             "startlinecolor": "#2a3f5f"
            },
            "baxis": {
             "endlinecolor": "#2a3f5f",
             "gridcolor": "white",
             "linecolor": "white",
             "minorgridcolor": "white",
             "startlinecolor": "#2a3f5f"
            },
            "type": "carpet"
           }
          ],
          "choropleth": [
           {
            "colorbar": {
             "outlinewidth": 0,
             "ticks": ""
            },
            "type": "choropleth"
           }
          ],
          "contour": [
           {
            "colorbar": {
             "outlinewidth": 0,
             "ticks": ""
            },
            "colorscale": [
             [
              0,
              "#0d0887"
             ],
             [
              0.1111111111111111,
              "#46039f"
             ],
             [
              0.2222222222222222,
              "#7201a8"
             ],
             [
              0.3333333333333333,
              "#9c179e"
             ],
             [
              0.4444444444444444,
              "#bd3786"
             ],
             [
              0.5555555555555556,
              "#d8576b"
             ],
             [
              0.6666666666666666,
              "#ed7953"
             ],
             [
              0.7777777777777778,
              "#fb9f3a"
             ],
             [
              0.8888888888888888,
              "#fdca26"
             ],
             [
              1,
              "#f0f921"
             ]
            ],
            "type": "contour"
           }
          ],
          "contourcarpet": [
           {
            "colorbar": {
             "outlinewidth": 0,
             "ticks": ""
            },
            "type": "contourcarpet"
           }
          ],
          "heatmap": [
           {
            "colorbar": {
             "outlinewidth": 0,
             "ticks": ""
            },
            "colorscale": [
             [
              0,
              "#0d0887"
             ],
             [
              0.1111111111111111,
              "#46039f"
             ],
             [
              0.2222222222222222,
              "#7201a8"
             ],
             [
              0.3333333333333333,
              "#9c179e"
             ],
             [
              0.4444444444444444,
              "#bd3786"
             ],
             [
              0.5555555555555556,
              "#d8576b"
             ],
             [
              0.6666666666666666,
              "#ed7953"
             ],
             [
              0.7777777777777778,
              "#fb9f3a"
             ],
             [
              0.8888888888888888,
              "#fdca26"
             ],
             [
              1,
              "#f0f921"
             ]
            ],
            "type": "heatmap"
           }
          ],
          "heatmapgl": [
           {
            "colorbar": {
             "outlinewidth": 0,
             "ticks": ""
            },
            "colorscale": [
             [
              0,
              "#0d0887"
             ],
             [
              0.1111111111111111,
              "#46039f"
             ],
             [
              0.2222222222222222,
              "#7201a8"
             ],
             [
              0.3333333333333333,
              "#9c179e"
             ],
             [
              0.4444444444444444,
              "#bd3786"
             ],
             [
              0.5555555555555556,
              "#d8576b"
             ],
             [
              0.6666666666666666,
              "#ed7953"
             ],
             [
              0.7777777777777778,
              "#fb9f3a"
             ],
             [
              0.8888888888888888,
              "#fdca26"
             ],
             [
              1,
              "#f0f921"
             ]
            ],
            "type": "heatmapgl"
           }
          ],
          "histogram": [
           {
            "marker": {
             "pattern": {
              "fillmode": "overlay",
              "size": 10,
              "solidity": 0.2
             }
            },
            "type": "histogram"
           }
          ],
          "histogram2d": [
           {
            "colorbar": {
             "outlinewidth": 0,
             "ticks": ""
            },
            "colorscale": [
             [
              0,
              "#0d0887"
             ],
             [
              0.1111111111111111,
              "#46039f"
             ],
             [
              0.2222222222222222,
              "#7201a8"
             ],
             [
              0.3333333333333333,
              "#9c179e"
             ],
             [
              0.4444444444444444,
              "#bd3786"
             ],
             [
              0.5555555555555556,
              "#d8576b"
             ],
             [
              0.6666666666666666,
              "#ed7953"
             ],
             [
              0.7777777777777778,
              "#fb9f3a"
             ],
             [
              0.8888888888888888,
              "#fdca26"
             ],
             [
              1,
              "#f0f921"
             ]
            ],
            "type": "histogram2d"
           }
          ],
          "histogram2dcontour": [
           {
            "colorbar": {
             "outlinewidth": 0,
             "ticks": ""
            },
            "colorscale": [
             [
              0,
              "#0d0887"
             ],
             [
              0.1111111111111111,
              "#46039f"
             ],
             [
              0.2222222222222222,
              "#7201a8"
             ],
             [
              0.3333333333333333,
              "#9c179e"
             ],
             [
              0.4444444444444444,
              "#bd3786"
             ],
             [
              0.5555555555555556,
              "#d8576b"
             ],
             [
              0.6666666666666666,
              "#ed7953"
             ],
             [
              0.7777777777777778,
              "#fb9f3a"
             ],
             [
              0.8888888888888888,
              "#fdca26"
             ],
             [
              1,
              "#f0f921"
             ]
            ],
            "type": "histogram2dcontour"
           }
          ],
          "mesh3d": [
           {
            "colorbar": {
             "outlinewidth": 0,
             "ticks": ""
            },
            "type": "mesh3d"
           }
          ],
          "parcoords": [
           {
            "line": {
             "colorbar": {
              "outlinewidth": 0,
              "ticks": ""
             }
            },
            "type": "parcoords"
           }
          ],
          "pie": [
           {
            "automargin": true,
            "type": "pie"
           }
          ],
          "scatter": [
           {
            "fillpattern": {
             "fillmode": "overlay",
             "size": 10,
             "solidity": 0.2
            },
            "type": "scatter"
           }
          ],
          "scatter3d": [
           {
            "line": {
             "colorbar": {
              "outlinewidth": 0,
              "ticks": ""
             }
            },
            "marker": {
             "colorbar": {
              "outlinewidth": 0,
              "ticks": ""
             }
            },
            "type": "scatter3d"
           }
          ],
          "scattercarpet": [
           {
            "marker": {
             "colorbar": {
              "outlinewidth": 0,
              "ticks": ""
             }
            },
            "type": "scattercarpet"
           }
          ],
          "scattergeo": [
           {
            "marker": {
             "colorbar": {
              "outlinewidth": 0,
              "ticks": ""
             }
            },
            "type": "scattergeo"
           }
          ],
          "scattergl": [
           {
            "marker": {
             "colorbar": {
              "outlinewidth": 0,
              "ticks": ""
             }
            },
            "type": "scattergl"
           }
          ],
          "scattermapbox": [
           {
            "marker": {
             "colorbar": {
              "outlinewidth": 0,
              "ticks": ""
             }
            },
            "type": "scattermapbox"
           }
          ],
          "scatterpolar": [
           {
            "marker": {
             "colorbar": {
              "outlinewidth": 0,
              "ticks": ""
             }
            },
            "type": "scatterpolar"
           }
          ],
          "scatterpolargl": [
           {
            "marker": {
             "colorbar": {
              "outlinewidth": 0,
              "ticks": ""
             }
            },
            "type": "scatterpolargl"
           }
          ],
          "scatterternary": [
           {
            "marker": {
             "colorbar": {
              "outlinewidth": 0,
              "ticks": ""
             }
            },
            "type": "scatterternary"
           }
          ],
          "surface": [
           {
            "colorbar": {
             "outlinewidth": 0,
             "ticks": ""
            },
            "colorscale": [
             [
              0,
              "#0d0887"
             ],
             [
              0.1111111111111111,
              "#46039f"
             ],
             [
              0.2222222222222222,
              "#7201a8"
             ],
             [
              0.3333333333333333,
              "#9c179e"
             ],
             [
              0.4444444444444444,
              "#bd3786"
             ],
             [
              0.5555555555555556,
              "#d8576b"
             ],
             [
              0.6666666666666666,
              "#ed7953"
             ],
             [
              0.7777777777777778,
              "#fb9f3a"
             ],
             [
              0.8888888888888888,
              "#fdca26"
             ],
             [
              1,
              "#f0f921"
             ]
            ],
            "type": "surface"
           }
          ],
          "table": [
           {
            "cells": {
             "fill": {
              "color": "#EBF0F8"
             },
             "line": {
              "color": "white"
             }
            },
            "header": {
             "fill": {
              "color": "#C8D4E3"
             },
             "line": {
              "color": "white"
             }
            },
            "type": "table"
           }
          ]
         },
         "layout": {
          "annotationdefaults": {
           "arrowcolor": "#2a3f5f",
           "arrowhead": 0,
           "arrowwidth": 1
          },
          "autotypenumbers": "strict",
          "coloraxis": {
           "colorbar": {
            "outlinewidth": 0,
            "ticks": ""
           }
          },
          "colorscale": {
           "diverging": [
            [
             0,
             "#8e0152"
            ],
            [
             0.1,
             "#c51b7d"
            ],
            [
             0.2,
             "#de77ae"
            ],
            [
             0.3,
             "#f1b6da"
            ],
            [
             0.4,
             "#fde0ef"
            ],
            [
             0.5,
             "#f7f7f7"
            ],
            [
             0.6,
             "#e6f5d0"
            ],
            [
             0.7,
             "#b8e186"
            ],
            [
             0.8,
             "#7fbc41"
            ],
            [
             0.9,
             "#4d9221"
            ],
            [
             1,
             "#276419"
            ]
           ],
           "sequential": [
            [
             0,
             "#0d0887"
            ],
            [
             0.1111111111111111,
             "#46039f"
            ],
            [
             0.2222222222222222,
             "#7201a8"
            ],
            [
             0.3333333333333333,
             "#9c179e"
            ],
            [
             0.4444444444444444,
             "#bd3786"
            ],
            [
             0.5555555555555556,
             "#d8576b"
            ],
            [
             0.6666666666666666,
             "#ed7953"
            ],
            [
             0.7777777777777778,
             "#fb9f3a"
            ],
            [
             0.8888888888888888,
             "#fdca26"
            ],
            [
             1,
             "#f0f921"
            ]
           ],
           "sequentialminus": [
            [
             0,
             "#0d0887"
            ],
            [
             0.1111111111111111,
             "#46039f"
            ],
            [
             0.2222222222222222,
             "#7201a8"
            ],
            [
             0.3333333333333333,
             "#9c179e"
            ],
            [
             0.4444444444444444,
             "#bd3786"
            ],
            [
             0.5555555555555556,
             "#d8576b"
            ],
            [
             0.6666666666666666,
             "#ed7953"
            ],
            [
             0.7777777777777778,
             "#fb9f3a"
            ],
            [
             0.8888888888888888,
             "#fdca26"
            ],
            [
             1,
             "#f0f921"
            ]
           ]
          },
          "colorway": [
           "#636efa",
           "#EF553B",
           "#00cc96",
           "#ab63fa",
           "#FFA15A",
           "#19d3f3",
           "#FF6692",
           "#B6E880",
           "#FF97FF",
           "#FECB52"
          ],
          "font": {
           "color": "#2a3f5f"
          },
          "geo": {
           "bgcolor": "white",
           "lakecolor": "white",
           "landcolor": "#E5ECF6",
           "showlakes": true,
           "showland": true,
           "subunitcolor": "white"
          },
          "hoverlabel": {
           "align": "left"
          },
          "hovermode": "closest",
          "mapbox": {
           "style": "light"
          },
          "paper_bgcolor": "white",
          "plot_bgcolor": "#E5ECF6",
          "polar": {
           "angularaxis": {
            "gridcolor": "white",
            "linecolor": "white",
            "ticks": ""
           },
           "bgcolor": "#E5ECF6",
           "radialaxis": {
            "gridcolor": "white",
            "linecolor": "white",
            "ticks": ""
           }
          },
          "scene": {
           "xaxis": {
            "backgroundcolor": "#E5ECF6",
            "gridcolor": "white",
            "gridwidth": 2,
            "linecolor": "white",
            "showbackground": true,
            "ticks": "",
            "zerolinecolor": "white"
           },
           "yaxis": {
            "backgroundcolor": "#E5ECF6",
            "gridcolor": "white",
            "gridwidth": 2,
            "linecolor": "white",
            "showbackground": true,
            "ticks": "",
            "zerolinecolor": "white"
           },
           "zaxis": {
            "backgroundcolor": "#E5ECF6",
            "gridcolor": "white",
            "gridwidth": 2,
            "linecolor": "white",
            "showbackground": true,
            "ticks": "",
            "zerolinecolor": "white"
           }
          },
          "shapedefaults": {
           "line": {
            "color": "#2a3f5f"
           }
          },
          "ternary": {
           "aaxis": {
            "gridcolor": "white",
            "linecolor": "white",
            "ticks": ""
           },
           "baxis": {
            "gridcolor": "white",
            "linecolor": "white",
            "ticks": ""
           },
           "bgcolor": "#E5ECF6",
           "caxis": {
            "gridcolor": "white",
            "linecolor": "white",
            "ticks": ""
           }
          },
          "title": {
           "x": 0.05
          },
          "xaxis": {
           "automargin": true,
           "gridcolor": "white",
           "linecolor": "white",
           "ticks": "",
           "title": {
            "standoff": 15
           },
           "zerolinecolor": "white",
           "zerolinewidth": 2
          },
          "yaxis": {
           "automargin": true,
           "gridcolor": "white",
           "linecolor": "white",
           "ticks": "",
           "title": {
            "standoff": 15
           },
           "zerolinecolor": "white",
           "zerolinewidth": 2
          }
         }
        },
        "title": {
         "text": "Proporções de faixas-salariais por tempo de experiência em Dados"
        },
        "xaxis": {
         "anchor": "y",
         "domain": [
          0,
          1
         ],
         "title": {
          "text": "Faixas salariais "
         }
        },
        "yaxis": {
         "anchor": "x",
         "domain": [
          0,
          1
         ],
         "title": {
          "text": "Proporção"
         }
        }
       }
      }
     },
     "metadata": {},
     "output_type": "display_data"
    }
   ],
   "source": [
    "experiencia_prop = pd.crosstab(df[\"('P2_h ', 'Faixa salarial')\"],df[\"('P2_i ', 'Quanto tempo de experiência na área de dados você tem?')\"],normalize='columns')*100\n",
    "\n",
    "fig = px.line(experiencia_prop, x=experiencia_prop.index, y=experiencia_prop.columns, markers=True, title=\"Proporções de faixas-salariais por tempo de experiência em Dados\",\n",
    " labels={\n",
    "                     \"value\": \"Proporção\",\n",
    "                     \"('P2_h ', 'Faixa salarial')\": \"Faixas salariais \",\n",
    "                     \"('P2_i ', 'Quanto tempo de experiência na área de dados você tem?')\": \"\"\n",
    "                 }, color_discrete_sequence=['#30123b', '#4584f9', '#1ae4b6', '#a1fc3d', '#f9ba38', '#e5460a', '#7a0402'])\n",
    "                \n",
    "\n",
    "fig.show()"
   ]
  }
 ],
 "metadata": {
  "kernelspec": {
   "display_name": "Python 3.8.10 64-bit",
   "language": "python",
   "name": "python3"
  },
  "language_info": {
   "codemirror_mode": {
    "name": "ipython",
    "version": 3
   },
   "file_extension": ".py",
   "mimetype": "text/x-python",
   "name": "python",
   "nbconvert_exporter": "python",
   "pygments_lexer": "ipython3",
   "version": "3.8.10"
  },
  "orig_nbformat": 4,
  "vscode": {
   "interpreter": {
    "hash": "31f2aee4e71d21fbe5cf8b01ff0e069b9275f58929596ceb00d14d90e3e16cd6"
   }
  }
 },
 "nbformat": 4,
 "nbformat_minor": 2
}
